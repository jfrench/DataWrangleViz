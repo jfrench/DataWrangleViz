{
  "cells": [
    {
      "cell_type": "markdown",
      "metadata": {},
      "source": [
        "# Crash Course in R\n",
        "\n",
        "Joshua French  \n",
        "Invalid Date\n",
        "\n",
        "To open this information in an interactive Colab notebook, click the\n",
        "Open in Colab graphic below.\n",
        "\n",
        "<a href=\"https://colab.research.google.com/github/jfrench/DataWrangleViz/blob/master/01-crash-course-in-r.ipynb\">\n",
        "<img src=\"https://colab.research.google.com/assets/colab-badge.svg\">\n",
        "</a>\n",
        "\n",
        "------------------------------------------------------------------------\n",
        "\n",
        "This document will help you learn how to productively use R (R Core Team\n",
        "2022).\n",
        "\n",
        "An accompanying YouTube playlist that walks through this notebook is\n",
        "available by following the link\n",
        "[here](https://www.youtube.com/playlist?list=PLkrJrLs7xfbUNe79bzEetcE0g-vHZT8XR).\n",
        "I have also included direct, relevant video links throughout the file\n",
        "(e.g., immediately after the Introduction heading).\n",
        "\n",
        "Note that there may be small differences between this document (which is\n",
        "easy to update) and the videos (which are not). When there is a\n",
        "discrepancy, trust this document more than the video.\n",
        "\n",
        "# Introduction ([YouTube](https://www.youtube.com/watch?v=f0lXHfwLqW4), [Panopto](https://ucdenver.hosted.panopto.com/Panopto/Pages/Viewer.aspx?id=bb8a16a3-6a46-47f5-aa30-aef90116d9fe))\n",
        "\n",
        "## What is R?\n",
        "\n",
        "-   R is a programming language and environment designed for statistical\n",
        "    computing.\n",
        "    -   It is modeled after the *S* programming language.\n",
        "    -   It was introduced by Robert Gentleman and Robert Ihaka in 1993.\n",
        "-   R is free and open source software.\n",
        "-   R runs on Windows, Mac, Linux, and other types of computers.\n",
        "-   R is an interactive programming language\n",
        "    -   You type and execute a command in the Console for immediate\n",
        "        feedback in contrast to a compiled programming language, which\n",
        "        compiles a program that is then executed.\n",
        "-   R is highly extendable.\n",
        "    -   Many user-created packages are available to extend the\n",
        "        functionality beyond what is installed by default.\n",
        "    -   Users can write their own functions and easily add software\n",
        "        libraries to R.\n",
        "\n",
        "## Obtaining R\n",
        "\n",
        "R may be downloaded from the R Project for Statistical Computing\n",
        "[(https://www.r-project.org/)](https://www.r-project.org/). You should\n",
        "be able to download R for your operating system at\n",
        "<https://cloud.r-project.org/>.\n",
        "\n",
        "## R Studio\n",
        "\n",
        "R Studio Desktop is a free “front end” for R provided by\n",
        "[(https://rstudio.com/)](https://rstudio.com/). R Studio Desktop makes\n",
        "doing data science with R much easier by adding an Integrated\n",
        "Development Environment (IDE) and providing many other features.\n",
        "Currently, you may download R Studio at\n",
        "<https://rstudio.com/products/rstudio/download/>. If the link doesn’t\n",
        "work, you may need to navigate to the R Studio website directly to find\n",
        "the most current link.\n",
        "\n",
        "### Example\n",
        "\n",
        "Install R and R Studio Desktop before continuing. Then open R Studio\n",
        "Desktop before your continue.\n",
        "\n",
        "## R Studio Layout\n",
        "\n",
        "When opened, R Studio presents four panes:\n",
        "\n",
        "1.  **Source**: the pane where you type your commands, which can be\n",
        "    saved for later.\n",
        "2.  **Console**: the pane where commands are executed.\n",
        "3.  **Environment/History**: the pane where you can see all the objects\n",
        "    in your workspace, your command history, and other things in other\n",
        "    contexts.\n",
        "4.  **Files/Plot/Packages/Help**: the pane where you navigate between\n",
        "    directories, where plots can be viewed, where you can see the\n",
        "    packages available to be loaded, and where you can get help.\n",
        "\n",
        "![RStudio panes](attachment:./figures/rstudio_panes.png)\n",
        "\n",
        "## Running commands\n",
        "\n",
        "In programming, a **command** is a task you want the computer to\n",
        "perform.\n",
        "\n",
        "**Running** or **executing** a command means asking the computer do the\n",
        "desired task.\n",
        "\n",
        "-   I will use run and execute synonymously in this document.\n",
        "\n",
        "Commands are executed in R by typing them in the Console next to `>` and\n",
        "pressing enter.\n",
        "\n",
        "### Example\n",
        "\n",
        "Type `1+1` in the R Console next to `>` and press enter. What do you\n",
        "get?"
      ],
      "attachments": {
        "./figures/rstudio_panes.png": {
          "image/png": "[encoded data removed]"
        }
      },
      "id": "bad9ea07-d5e4-4f53-ba6e-23d019782ad1"
    },
    {
      "cell_type": "code",
      "execution_count": 2,
      "metadata": {},
      "outputs": [],
      "source": [
        "# write code here"
      ],
      "id": "291913d1"
    },
    {
      "cell_type": "markdown",
      "metadata": {},
      "source": [
        "## Creating a new script\n",
        "\n",
        "If you need to successively execute multiple commands, it’s better to\n",
        "write your commands in a “script” file and then save the file. The\n",
        "commands in a script file are often generically referred to as “code”.\n",
        "\n",
        "Script files make it easy to:\n",
        "\n",
        "-   Reproduce your data analysis without retyping all your commands.\n",
        "-   Share your code with others.\n",
        "\n",
        "A new script file can be obtained by:\n",
        "\n",
        "-   Clicking File → New File → R Script in the R Studio menu bar.\n",
        "-   Pressing `Ctrl + Shift + n` on a PC or `Cmd + Shift + n` on a Mac.\n",
        "\n",
        "### Example\n",
        "\n",
        "Open a new Script in R Studio.\n",
        "\n",
        "## Running code from a Script\n",
        "\n",
        "There are various ways to run code from a script file. The most common\n",
        "ones are:\n",
        "\n",
        "-   Highlight the code you want to run and hit the Run button at the top\n",
        "    of the Source pane.\n",
        "-   Highlight the code you want to run and press `Ctrl + Enter` on your\n",
        "    keyboard. If you don’t highlight anything, by default, R Studio runs\n",
        "    the command of the line the cursor is on.\n",
        "\n",
        "### Example\n",
        "\n",
        "-   Type `mean(1:3)` in your script file.\n",
        "-   Run the command using the approaches mentioned above.\n",
        "\n",
        "## Saving a Script\n",
        "\n",
        "To save a script file:\n",
        "\n",
        "-   Click File → Save in the R Studio menu bar.\n",
        "-   Press `Ctrl + s` on a PC or `Cmd + s` on a Mac.\n",
        "\n",
        "### Example\n",
        "\n",
        "Save your script.\n",
        "\n",
        "## Packages\n",
        "\n",
        "Packages are collections of functions, data, and other objects that\n",
        "extend the functionality installed by default in R.\n",
        "\n",
        "R packages can be installed using the `install.packages` function. R\n",
        "packages can be attached to the current R session using the `library`\n",
        "function.\n",
        "\n",
        "### Example\n",
        "\n",
        "The **tidyverse** (<https://www.tidyverse.org>, Wickham (2023b)) is an\n",
        "ecosystem of R packages that we will use extensively in this class.\n",
        "Currently, the **tidyverse** is comprised of the following packages:\n",
        "\n",
        "-   **ggplot2**: A package for plotting based on the “Grammar of\n",
        "    Graphics” (Wickham, Chang, et al. 2023).\n",
        "-   **purrr**: A package for functional programming (Wickham and Henry\n",
        "    2023).\n",
        "-   **tibble**: A package providing a more advanced data frame (Müller\n",
        "    and Wickham 2023).\n",
        "-   **dplyr**: A package for manipulating data. More specifically, it\n",
        "    provides ” a grammar of data manipulation” (Wickham, François, et\n",
        "    al. 2023).\n",
        "-   **tidyr**: A package to help create “tidy” data (Wickham, Vaughan,\n",
        "    and Girlich 2023). Tidy data is a data organization style often\n",
        "    convenient for data analysis.\n",
        "-   **stringr**: A package for working with character/string data\n",
        "    (Wickham 2022).\n",
        "-   **readr**: A package for importing data (Wickham, Hester, and Bryan\n",
        "    2023).\n",
        "-   **forcats**: A package for working with categorical data (Wickham\n",
        "    2023a).\n",
        "\n",
        "Install the set of **tidyverse** R packages by executing the following\n",
        "command:"
      ],
      "id": "c811d5d9-4c25-45d9-a2b5-b98fb604da27"
    },
    {
      "cell_type": "code",
      "execution_count": 3,
      "metadata": {},
      "outputs": [],
      "source": [
        "install.packages(\"tidyverse\")"
      ],
      "id": "8b88e555"
    },
    {
      "cell_type": "markdown",
      "metadata": {},
      "source": [
        "After you install **tidyverse**, load the package(s) by executing the\n",
        "following command:"
      ],
      "id": "cafaeb23-a29c-4431-a384-b9a51eea9777"
    },
    {
      "cell_type": "code",
      "execution_count": 4,
      "metadata": {},
      "outputs": [],
      "source": [
        "library(tidyverse)"
      ],
      "id": "b5c6833f"
    },
    {
      "cell_type": "markdown",
      "metadata": {},
      "source": [
        "You should see something like this.\n",
        "\n",
        "## Comments\n",
        "\n",
        "A comment is a set of text ignored by R when run in the Console.\n",
        "\n",
        "Comments are generally used as documentation *within the code itself* to\n",
        "remind yourself and others what the code is supposed to do, why the code\n",
        "is implemented a certain way, etc.\n",
        "\n",
        "A comment is indicated by the `#` symbol. Nothing to the right of the\n",
        "`#` is executed in the Console.\n",
        "\n",
        "To comment (or uncomment) multiple lines in R, highlight the code you\n",
        "want to comment and press `Ctrl + Shift + c` on a PC or\n",
        "`Cmd + Shift + c` on a Mac.\n",
        "\n",
        "Consider the examples below. In the line below, R adds `1 + 1` but\n",
        "ignores everything after the `#`."
      ],
      "id": "d29bd35a-0243-4c5d-862f-60cbb28f6ada"
    },
    {
      "cell_type": "code",
      "execution_count": 6,
      "metadata": {},
      "outputs": [],
      "source": [
        "1 + 1 # adding 1 + 1"
      ],
      "id": "81abb9dd"
    },
    {
      "cell_type": "markdown",
      "metadata": {},
      "source": [
        "The next line is not executed because all commands are to the right of\n",
        "`#`."
      ],
      "id": "43c719a4-9392-4b48-8af2-f94da3a2d0af"
    },
    {
      "cell_type": "code",
      "execution_count": 7,
      "metadata": {},
      "outputs": [],
      "source": [
        "# 2 + 2 (not adding 2 + 2 because of the #)"
      ],
      "id": "d017f6ed"
    },
    {
      "cell_type": "markdown",
      "metadata": {},
      "source": [
        "# Getting help ([YouTube](https://youtu.be/sUCvh5iVd1c), [Panopto](https://ucdenver.hosted.panopto.com/Panopto/Pages/Viewer.aspx?id=7f793966-b288-48fa-a183-aef90117395b))\n",
        "\n",
        "There are a number of ways to get help in R.\n",
        "\n",
        "-   If you know the command for which you want help, then `?command`\n",
        "    (where command is replaced the name of the relevant command) will\n",
        "    bring up the documentation for the object.\n",
        "    -   This approach will also work with data sets, package names,\n",
        "        object classes, etc.\n",
        "-   If you need to find a command to help you with a certain *topic*,\n",
        "    then `??topic` will search for the topic through all installed\n",
        "    documentation and bring up any vignettes, code demonstrations, or\n",
        "    help pages that include the topic for which you searched.\n",
        "-   If you are trying to figure out why an error is being produced, what\n",
        "    packages can be used to perform a certain analysis, how to perform a\n",
        "    complex task that you can’t seem to figure out, etc., then simply do\n",
        "    a web search for what you’re trying to figure out! Because R is such\n",
        "    a popular language, it is likely you will find a stackoverflow\n",
        "    response, a blog, an R users forum response, etc., that at least\n",
        "    partially addresses your question.\n",
        "\n",
        "## Example\n",
        "\n",
        "The `lm` command can be used to fit a linear model to a set of data. Use\n",
        "`?lm` to get help about the `lm` function.\n",
        "\n",
        "A [logarithm](https://www.dictionary.com/browse/logarithm?s=t) is, “The\n",
        "exponent of the power to which a base number must be raised to equal a\n",
        "given number.” e.g., $\\log_{10}(100)=2$ since $10^2=100$. What function\n",
        "is used to compute the *natural* logarithm (base\n",
        "$e\\approx 2.718281828459$) in R? Use `??logarithm` to find the R\n",
        "functions that may provide this functionality.\n",
        "\n",
        "Suppose you want to change the x-axis label of a plot in R. Do a web\n",
        "search to see if you can figure out how to do this."
      ],
      "id": "0a93e12c-865e-494e-9efa-9f1a667fe716"
    },
    {
      "cell_type": "code",
      "execution_count": 8,
      "metadata": {},
      "outputs": [],
      "source": [
        "# write code here"
      ],
      "id": "f68cfbec"
    },
    {
      "cell_type": "code",
      "execution_count": 9,
      "metadata": {},
      "outputs": [],
      "source": [
        "# write code here"
      ],
      "id": "e3d8da6b"
    },
    {
      "cell_type": "markdown",
      "metadata": {},
      "source": [
        "# Data types and structures ([YouTube](https://youtu.be/b0yrxIM2wvk), [Panopto](https://ucdenver.hosted.panopto.com/Panopto/Pages/Viewer.aspx?id=bc0a39f6-ee76-4854-a78d-aef901173446))\n",
        "\n",
        "## Basic data types\n",
        "\n",
        "R has 6 [basic (“atomic”) vector\n",
        "types](https://cran.r-project.org/doc/manuals/r-release/R-lang.html#Basic-types):\n",
        "\n",
        "1.  character: collections of characters. E.g., `\"a\"`, `\"hello world!`”\n",
        "2.  double: decimal numbers. e.g., `1.2`, `1.0`.\n",
        "3.  integer: whole numbers. In R, you must add `L` to the end of a\n",
        "    number to specify it as an integer. E.g., `1L` is an integer but `1`\n",
        "    is a double.\n",
        "4.  logical: boolean values, `TRUE` and `FALSE`.\n",
        "5.  complex: complex numbers. E.g., `1+3i`.\n",
        "6.  raw: a type to hold raw bytes.\n",
        "\n",
        "Both double and integer values are specific types of numeric values.\n",
        "\n",
        "The `typeof` function returns the R internal type or storage mode of any\n",
        "object. We do this for several objects below."
      ],
      "id": "aa924017-aeb5-47b9-a556-ab629ad12896"
    },
    {
      "cell_type": "code",
      "execution_count": 10,
      "metadata": {},
      "outputs": [],
      "source": [
        "typeof(1)"
      ],
      "id": "eecb841a"
    },
    {
      "cell_type": "code",
      "execution_count": 11,
      "metadata": {},
      "outputs": [],
      "source": [
        "typeof(1L)"
      ],
      "id": "64361323"
    },
    {
      "cell_type": "code",
      "execution_count": 12,
      "metadata": {},
      "outputs": [],
      "source": [
        "typeof(\"hello world!\")"
      ],
      "id": "920eb80b"
    },
    {
      "cell_type": "markdown",
      "metadata": {},
      "source": [
        "## Other important object types\n",
        "\n",
        "There are other important types of objects in R that are not basic. We\n",
        "will discuss a few. The [R Project\n",
        "manual](https://cran.r-project.org/doc/manuals/r-release/R-lang.html#Basic-types)\n",
        "provides additional information about available types.\n",
        "\n",
        "### Numeric\n",
        "\n",
        "An object is `numeric` if it is of type `integer` or `double`. In that\n",
        "case, it’s `mode` is said to be `numeric`.\n",
        "\n",
        "The `is.numeric` function tests whether an object can be interpreted as\n",
        "numbers. We can use it to determine whether an object is `numeric`.\n",
        "Alternatively, we can use the `mode` function to get the type or storage\n",
        "mode of an object.\n",
        "\n",
        "Some examples:"
      ],
      "id": "2a7a9c19-43e5-4e70-a29f-bcdea2f5496b"
    },
    {
      "cell_type": "code",
      "execution_count": 13,
      "metadata": {},
      "outputs": [],
      "source": [
        "# is \"hello world!\" numeric?\n",
        "is.numeric(\"hello world!\")"
      ],
      "id": "b3d450e7"
    },
    {
      "cell_type": "code",
      "execution_count": 14,
      "metadata": {},
      "outputs": [],
      "source": [
        "# is 1 numeric?\n",
        "is.numeric(1)"
      ],
      "id": "f75f4027"
    },
    {
      "cell_type": "code",
      "execution_count": 15,
      "metadata": {},
      "outputs": [],
      "source": [
        "# what is the mode of 1?\n",
        "mode(1)"
      ],
      "id": "e6782545"
    },
    {
      "cell_type": "code",
      "execution_count": 16,
      "metadata": {},
      "outputs": [],
      "source": [
        "# is 1L numeric?\n",
        "is.numeric(1L)"
      ],
      "id": "50c5c305"
    },
    {
      "cell_type": "code",
      "execution_count": 17,
      "metadata": {},
      "outputs": [],
      "source": [
        "# What is the mode of 1L?\n",
        "mode(1)"
      ],
      "id": "f48e0cc5"
    },
    {
      "cell_type": "markdown",
      "metadata": {},
      "source": [
        "### `NULL`\n",
        "\n",
        "`NULL` is a special object to indicate the object is absent. An object\n",
        "having a length of zero is not the same thing as an object being absent.\n",
        "\n",
        "### `NA`\n",
        "\n",
        "A “missing value” occurs when the value of something isn’t known. R uses\n",
        "the special object `NA` to represent missing value.\n",
        "\n",
        "**If you have a missing value, you should represent that value as\n",
        "`NA`.**\n",
        "\n",
        "-   Do not make the mistake of using `-99` or `0` or `\" \"` to indicate a\n",
        "    missing value. This can easily lead to serious data analysis\n",
        "    problems.\n",
        "-   **`\"NA\"` is not the same thing as `NA`.**\n",
        "\n",
        "Technically, an `NA` value is a logical constant of length 1 that\n",
        "contains a missing value indicator. In practice, R knows that an `NA`\n",
        "value can represent a `character` `integer`, `double`, or `complex`\n",
        "value depending on the context. R will automatically convert `NA` to\n",
        "`NA_character_`, `NA_integer_`, `NA_real_`, and `NA_complex_` as needed\n",
        "to represent missing values for `character`, `integer`, `double`, and\n",
        "`complex` values, respectively. There is no `NA` for the `raw` type. See\n",
        "below."
      ],
      "id": "1cc07d89-fd07-437f-be3b-62d7e764007e"
    },
    {
      "cell_type": "code",
      "execution_count": 18,
      "metadata": {},
      "outputs": [],
      "source": [
        "typeof(NA)"
      ],
      "id": "aa7ea414"
    },
    {
      "cell_type": "code",
      "execution_count": 19,
      "metadata": {},
      "outputs": [],
      "source": [
        "typeof(NA_character_)"
      ],
      "id": "2301a874"
    },
    {
      "cell_type": "code",
      "execution_count": 20,
      "metadata": {},
      "outputs": [],
      "source": [
        "typeof(NA_integer_)"
      ],
      "id": "8128c219"
    },
    {
      "cell_type": "code",
      "execution_count": 21,
      "metadata": {},
      "outputs": [],
      "source": [
        "typeof(NA_real_)"
      ],
      "id": "bf277629"
    },
    {
      "cell_type": "code",
      "execution_count": 22,
      "metadata": {},
      "outputs": [],
      "source": [
        "typeof(NA_complex_)"
      ],
      "id": "e6d7e4ca"
    },
    {
      "cell_type": "markdown",
      "metadata": {},
      "source": [
        "### Functions\n",
        "\n",
        "A function is an object that performs a certain action or set of actions\n",
        "based on objects it receives from its arguments.\n",
        "\n",
        "-   A function has type `closure` and mode `function`.\n",
        "-   You can use the `is.function` function to determine whether an\n",
        "    object is a function.\n",
        "\n",
        "The `mean` function computes the sample mean of a relevant object.\n",
        "Consider the type and mode of the `mean` function."
      ],
      "id": "8bc9be30-0ae7-45d8-987d-935529ef02be"
    },
    {
      "cell_type": "code",
      "execution_count": 23,
      "metadata": {},
      "outputs": [],
      "source": [
        "typeof(mean)"
      ],
      "id": "378b9275"
    },
    {
      "cell_type": "code",
      "execution_count": 24,
      "metadata": {},
      "outputs": [],
      "source": [
        "mode(mean)"
      ],
      "id": "d77f1cc7"
    },
    {
      "cell_type": "code",
      "execution_count": 25,
      "metadata": {},
      "outputs": [],
      "source": [
        "is.function(mean)"
      ],
      "id": "0c2104a6"
    },
    {
      "cell_type": "markdown",
      "metadata": {},
      "source": [
        "## Data structures\n",
        "\n",
        "R operates on data structures. A data structure is simply some sort of\n",
        "“container” that holds certain kinds of information\n",
        "\n",
        "R has 5 basic data structures:\n",
        "\n",
        "1.  vector.\n",
        "2.  matrix.\n",
        "3.  array.\n",
        "4.  data frame.\n",
        "5.  list.\n",
        "\n",
        "Vectors, matrices, and arrays are homogeneous objects that can only\n",
        "store a single data type at a time. Data frames and lists can store\n",
        "multiple data types.\n",
        "\n",
        "Vectors and lists are considered one-dimensional objects. A list is\n",
        "technically a vector. Vectors of a single type are atomic vectors\n",
        "[(https://cran.r-project.org/doc/manuals/r-release/R-lang.html#List-objects)](https://cran.r-project.org/doc/manuals/r-release/R-lang.html#List-objects).\n",
        "\n",
        "Matrices and data frames are considered two-dimensional objects. Arrays\n",
        "can have 1 or more dimensions.\n",
        "\n",
        "The relationship between dimensionality and data type for the basic data\n",
        "structures is summarized in [Table 1](#tbl-datastructures1), which is\n",
        "based on a\n",
        "[table](https://adv-r.had.co.nz/Data-structures.html#data-structure) in\n",
        "the first edition of Hadley Wickham’s *Advanced R*\n",
        "[(https://adv-r.had.co.nz/Data-structures.html#data-structure)](https://adv-r.had.co.nz/Data-structures.html#data-structure).\n",
        "\n",
        "| number of dimensions | homogeneous data type | heterogeneous data types |\n",
        "|:---------------------|:----------------------|:-------------------------|\n",
        "| 1                    | atomic vector         | list                     |\n",
        "| 2                    | matrix                | data frame               |\n",
        "| 1 or more            | array                 |                          |\n",
        "\n",
        "Table 1: A table summarizing the relationship between dimensionality and\n",
        "data type homogeneity for the 5 basic data structures.\n",
        "\n",
        "# Vectors ([YouTube](https://youtu.be/Gw50kIcFtFY), [Panopto](https://ucdenver.hosted.panopto.com/Panopto/Pages/Viewer.aspx?id=137571f1-a9bc-477e-96db-aef901171def))\n",
        "\n",
        "A *vector* is a single-dimensional set of data of the same type.\n",
        "\n",
        "## Creation\n",
        "\n",
        "The most basic way to create a vector is the `c` (combine) function. The\n",
        "`c` function combines values into an atomic vector or list.\n",
        "\n",
        "The following commands create vectors of type `numeric`, `character`,\n",
        "and `logical`, respectively.\n",
        "\n",
        "-   `c(1, 2, 5.3, 6, -2, 4)`\n",
        "-   `c(\"one\", \"two\", \"three\")`\n",
        "-   `c(TRUE, TRUE, FALSE, TRUE)`\n",
        "\n",
        "### Example\n",
        "\n",
        "Execute the three commands below in the Console to see what you get."
      ],
      "id": "faffef14-1b90-417e-90da-4848ec56924e"
    },
    {
      "cell_type": "code",
      "execution_count": 27,
      "metadata": {},
      "outputs": [],
      "source": [
        "c(1, 2, 5.3, 6, -2, 4)"
      ],
      "id": "9c9a44fd"
    },
    {
      "cell_type": "code",
      "execution_count": 28,
      "metadata": {},
      "outputs": [],
      "source": [
        "c(\"one\", \"two\", \"three\")"
      ],
      "id": "dbab1219"
    },
    {
      "cell_type": "code",
      "execution_count": 29,
      "metadata": {},
      "outputs": [],
      "source": [
        "c(TRUE, TRUE, FALSE, TRUE)"
      ],
      "id": "f2309368"
    },
    {
      "cell_type": "markdown",
      "metadata": {},
      "source": [
        "## Creating patterned vectors\n",
        "\n",
        "R provides several functions for creating vectors following certain\n",
        "consistent patterns.\n",
        "\n",
        "The `seq` (sequence) function is used to create an equidistant series of\n",
        "numeric values. Some examples:\n",
        "\n",
        "-   `seq(1, 10)` creates a sequence of numbers from 1 to 10 in\n",
        "    increments of 1.\n",
        "-   `1:10` creates a sequence of numbers from 1 to 10 in increments of\n",
        "    1.\n",
        "-   `seq(1, 20, by = 2)` creates a sequence of numbers from 1 to 20 in\n",
        "    increments of 2.\n",
        "-   `seq(10, 20, len = 100)` creates a sequence of numbers from 10 to 20\n",
        "    of length 100.\n",
        "\n",
        "The `rep` (replicate) function can be used to create a vector by\n",
        "replicating values. Some examples:\n",
        "\n",
        "-   `rep(1:3, times = 3)` replicates the sequence `1, 2, 3` three times\n",
        "    in a row.\n",
        "-   `rep(c(\"trt1\", \"trt2\", \"trt3\"), times = 1:3)` replicates `\"trt1\"`\n",
        "    once, `\"trt2\"` twice, and `\"trt3\"` three times.\n",
        "-   `rep(1:3, each = 3)` replicates each element of the sequence 1, 2, 3\n",
        "    three times.\n",
        "\n",
        "### Example\n",
        "\n",
        "Execute the following commands in the Console to see what you get."
      ],
      "id": "bfbb4f12-61db-442f-9cd2-0141d798c546"
    },
    {
      "cell_type": "code",
      "execution_count": 30,
      "metadata": {},
      "outputs": [],
      "source": [
        "seq(1, 10)"
      ],
      "id": "91279e87"
    },
    {
      "cell_type": "code",
      "execution_count": 31,
      "metadata": {},
      "outputs": [],
      "source": [
        "1:10"
      ],
      "id": "20ca30d8"
    },
    {
      "cell_type": "code",
      "execution_count": 32,
      "metadata": {},
      "outputs": [],
      "source": [
        "seq(1, 20, by = 2)"
      ],
      "id": "9aa0ee63"
    },
    {
      "cell_type": "code",
      "execution_count": 33,
      "metadata": {},
      "outputs": [],
      "source": [
        "seq(10, 20, len = 100)"
      ],
      "id": "60d4306c"
    },
    {
      "cell_type": "code",
      "execution_count": 34,
      "metadata": {},
      "outputs": [],
      "source": [
        "rep(1:3, times = 3)"
      ],
      "id": "a2606f34"
    },
    {
      "cell_type": "code",
      "execution_count": 35,
      "metadata": {},
      "outputs": [],
      "source": [
        "rep(c(\"trt1\", \"trt2\", \"trt3\"), times = 1:3)"
      ],
      "id": "bb06437f"
    },
    {
      "cell_type": "code",
      "execution_count": 36,
      "metadata": {},
      "outputs": [],
      "source": [
        "rep(1:3, each = 3)"
      ],
      "id": "c63a1e43"
    },
    {
      "cell_type": "markdown",
      "metadata": {},
      "source": [
        "# Assignment ([YouTube](https://youtu.be/0FxL5kfwzn4), [Panopto](https://ucdenver.hosted.panopto.com/Panopto/Pages/Viewer.aspx?id=ecae4657-3b29-4ad5-924b-aef9011716c3))\n",
        "\n",
        "To store a data structure in the computer’s memory we must assign it a\n",
        "name.\n",
        "\n",
        "Data structures can be stored (technically, assigned a name) using the\n",
        "assignment operator `<-` or `=`.\n",
        "\n",
        "Some comments:\n",
        "\n",
        "-   In general, both `<-` and `=` can be used for assignment.\n",
        "-   Pressing `Alt + -` on a PC or `Option + -` on a Mac will insert `<-`\n",
        "    into the R Console and Script files.\n",
        "-   `<-` and `=` are NOT synonyms, but can be used identically most of\n",
        "    the time. It’s safest to use `<-` for assignment.\n",
        "-   In Section 8.2.26 of [*R\n",
        "    Inferno*](http://www.burns-stat.com/pages/Tutor/R_inferno.pdf),\n",
        "    Patrick Burns states, “Standard advice is to avoid using `=` when\n",
        "    you mean `<-` even though it takes an extra keystroke. However, it\n",
        "    is largely a matter of taste (as long as you know the differences).”\n",
        "-   If you want to have your mind blown on the topic, you may read\n",
        "    `?assignOps` or the stackoverflow thread\n",
        "    [here](https://stackoverflow.com/questions/1741820/what-are-the-differences-between-and-assignment-operators-in-r).\n",
        "\n",
        "As your instructor who cares about you, I recommend using the `<-`\n",
        "operator for assignment. However, like a bad parent who doesn’t practice\n",
        "what they preach, I will often use the `=` operator because I’m lazy and\n",
        "learned to program in C++, which like nearly all languages, uses `=` for\n",
        "assignment.\n",
        "\n",
        "You *typically* won’t have issues with either assignment operator. But\n",
        "when you do, you’ll be very upset.\n",
        "\n",
        "Here’s an example of when you can have issues.\n",
        "\n",
        "This code works:"
      ],
      "id": "d377f22b-6170-4879-99fd-5abafbd41baf"
    },
    {
      "cell_type": "code",
      "execution_count": 37,
      "metadata": {},
      "outputs": [],
      "source": [
        "system.time(result <- rnorm(100))"
      ],
      "id": "6051548f"
    },
    {
      "cell_type": "markdown",
      "metadata": {},
      "source": [
        "The code above times (using `system.time`) how long it takes to draw 100\n",
        "values from a standard normal distribution (`rnorm(100)`) and assign it\n",
        "the name `result`.\n",
        "\n",
        "This code doesn’t work:"
      ],
      "id": "dcdf2fd7-cb17-46e6-a240-1110ffb3f1f8"
    },
    {
      "cell_type": "code",
      "execution_count": 38,
      "metadata": {},
      "outputs": [],
      "source": [
        "system.time(result = rnorm(100))"
      ],
      "id": "d48c2d56"
    },
    {
      "cell_type": "markdown",
      "metadata": {},
      "source": [
        "What’s the difference? In the second case, R thinks you are setting the\n",
        "`result` argument of the `system.time` function (which doesn’t exist) to\n",
        "the value produced by `rnorm(100)`.\n",
        "\n",
        "A trivial examples of assignment: `v1 <- 1:5` assigns the sequence 1\n",
        "through 5 the name `v1`.\n",
        "\n",
        "To access the data assigned a name, we simply type the name into the\n",
        "Console and hit enter."
      ],
      "id": "69e9a9c8-e6c3-4b2d-a24a-230beb21c8f0"
    },
    {
      "cell_type": "code",
      "execution_count": 39,
      "metadata": {},
      "outputs": [],
      "source": [
        "v1 <- 1:5\n",
        "v1"
      ],
      "id": "c61cb63a"
    },
    {
      "cell_type": "markdown",
      "metadata": {},
      "source": [
        "Vectors can be combined and stored in an object using the `c` function\n",
        "and the assignment operator.\n",
        "\n",
        "We’ll create a new vector, `v2`, combine it with `v1` using the `c`\n",
        "function, then assign it the name `new`."
      ],
      "id": "b1e3b001-0ff1-4a93-90c4-92e68c1be257"
    },
    {
      "cell_type": "code",
      "execution_count": 40,
      "metadata": {},
      "outputs": [],
      "source": [
        "v2 <- c(1, 10, 11)\n",
        "new <- c(v1, v2)\n",
        "new"
      ],
      "id": "a9fc9afd"
    },
    {
      "cell_type": "markdown",
      "metadata": {},
      "source": [
        "## Categorical vectors ([YouTube](https://youtu.be/Q84tvRp-XsA), [Panopto](https://ucdenver.hosted.panopto.com/Panopto/Pages/Viewer.aspx?id=6b7ad856-56ff-457f-a7da-aef901170d29))\n",
        "\n",
        "Categorical data should be stored as a `factor` in R.\n",
        "\n",
        "Hadley Wickham [states](https://adv-r.hadley.nz/vectors-chap.html) in\n",
        "*Advanced R*:\n",
        "\n",
        "> A factor is a vector that can contain only predefined values. It is\n",
        "> used to store categorical data. Factors are built on top of an integer\n",
        "> vector with two attributes: a `class`, “factor”, which makes it behave\n",
        "> differently from regular integer vectors, and `levels`, which defines\n",
        "> the set of allowed values.\n",
        "\n",
        "For the most part, you don’t need to worry about the technical details\n",
        "of how a factor is represented. But you should remember that **your\n",
        "categorical data should be represented as a `factor`**.\n",
        "\n",
        "The `factor` function takes values that can be coerced to a character\n",
        "and converts them to an object of class `factor`.\n",
        "\n",
        "Consider the examples below:"
      ],
      "id": "b1984154-9865-4f61-b079-7fc9205dc0dc"
    },
    {
      "cell_type": "code",
      "execution_count": 41,
      "metadata": {},
      "outputs": [],
      "source": [
        "f1 <- factor(rep(1:6, times = 3))\n",
        "f1"
      ],
      "id": "aee24283"
    },
    {
      "cell_type": "code",
      "execution_count": 42,
      "metadata": {},
      "outputs": [],
      "source": [
        "f2 <- factor(c(\"a\", 7, \"blue\", \"blue\", FALSE))\n",
        "f2"
      ],
      "id": "367cd157"
    },
    {
      "cell_type": "markdown",
      "metadata": {},
      "source": [
        "### Example\n",
        "\n",
        "Create a vector named `grp` that has two levels: `a` and `b`, where the\n",
        "first 7 values are `a` and the second 4 values are `b`."
      ],
      "id": "44433aea-6fe8-4708-95bb-db491c04acfb"
    },
    {
      "cell_type": "code",
      "execution_count": 43,
      "metadata": {},
      "outputs": [],
      "source": [
        "# write code here"
      ],
      "id": "43beb0b3"
    },
    {
      "cell_type": "markdown",
      "metadata": {},
      "source": [
        "## Extracting parts of a vector\n",
        "\n",
        "Subsets of the elements of a vector can be extracted by appending an\n",
        "index vector in square brackets `[]` to the name of the vector .\n",
        "\n",
        "Let’s create the numeric vector 2, 4, 6, 8, 10, 12, 14, 16."
      ],
      "id": "4f8f85a0-f789-46c8-9d5b-d5d1fef9f891"
    },
    {
      "cell_type": "code",
      "execution_count": 44,
      "metadata": {},
      "outputs": [],
      "source": [
        "# define a sequence 2, 4, ..., 16\n",
        "a <- seq(2, 16, by = 2)\n",
        "a"
      ],
      "id": "89cf99d1"
    },
    {
      "cell_type": "markdown",
      "metadata": {},
      "source": [
        "Let’s access the 2nd, 4th, and 6th elements of `a`."
      ],
      "id": "01f08e14-e9d7-420d-a16d-bb498624151d"
    },
    {
      "cell_type": "code",
      "execution_count": 45,
      "metadata": {},
      "outputs": [],
      "source": [
        "# extract subset of vector\n",
        "a[c(2, 4, 6)]"
      ],
      "id": "c7e6e280"
    },
    {
      "cell_type": "markdown",
      "metadata": {},
      "source": [
        "Let’s access all elements in `a` EXCEPT the 2nd, 4th, and 6th using the\n",
        "minus (`-`) sign in front of the index vector."
      ],
      "id": "0e6a6b9c-e306-402c-9e2e-0781f9ec6b6a"
    },
    {
      "cell_type": "code",
      "execution_count": 46,
      "metadata": {},
      "outputs": [],
      "source": [
        "# extract subset of vector using minus\n",
        "a[-c(2, 4, 6)]"
      ],
      "id": "c48f3a8e"
    },
    {
      "cell_type": "markdown",
      "metadata": {},
      "source": [
        "Let’s access all elements in `a` except elements 3 through 6."
      ],
      "id": "b9b7d141-0c84-4066-9e1b-1d39f3807936"
    },
    {
      "cell_type": "code",
      "execution_count": 47,
      "metadata": {},
      "outputs": [],
      "source": [
        "a[-(3:6)]"
      ],
      "id": "789b09cc"
    },
    {
      "cell_type": "markdown",
      "metadata": {},
      "source": [
        "# Helpful functions ([YouTube](https://youtu.be/fY9MVELnDuk), [Panopto](https://ucdenver.hosted.panopto.com/Panopto/Pages/Viewer.aspx?id=0820a7e1-8677-41f8-83f6-aef90116f995))\n",
        "\n",
        "## General functions\n",
        "\n",
        "Below is a list of functions commonly used to describe data objects\n",
        "(`x`) and what they do:\n",
        "\n",
        "-   `length(x)`: return the number of elements in `x`\n",
        "-   `sum(x)`: sum the elements in `x`\n",
        "-   `mean(x)`: compute the sample mean of the elements in `x`\n",
        "-   `var(x)`: compute the sample variance of elements in `x`\n",
        "-   `sd(x)`: compute the sample standard deviation of the elements in\n",
        "    `x`\n",
        "-   `range(x)`: determine the range (minimum and maximum) of the\n",
        "    elements in `x`\n",
        "-   `log(x)`: compute the (natural) logarithm of the elements in `x`\n",
        "-   `summary(x)`: provide a summary of `x`. The output changes depending\n",
        "    on the class (advanced data type) of `x`.\n",
        "-   `str(x)`: provide information about the structure of `x`. Usually,\n",
        "    the class of the object and some information about its size.\n",
        "\n",
        "### Example\n",
        "\n",
        "Run the following commands in the Console:"
      ],
      "id": "4f0d384a-768f-40cd-b395-694dae278ccc"
    },
    {
      "cell_type": "code",
      "execution_count": 48,
      "metadata": {},
      "outputs": [],
      "source": [
        "x <- rexp(100) # sample 100 iid values from an Exponential(1) distribution"
      ],
      "id": "b7f68599"
    },
    {
      "cell_type": "code",
      "execution_count": 49,
      "metadata": {},
      "outputs": [],
      "source": [
        "length(x) # length of x"
      ],
      "id": "2901d914"
    },
    {
      "cell_type": "code",
      "execution_count": 50,
      "metadata": {},
      "outputs": [],
      "source": [
        "sum(x) # sum of x"
      ],
      "id": "7b454c9e"
    },
    {
      "cell_type": "code",
      "execution_count": 51,
      "metadata": {},
      "outputs": [],
      "source": [
        "mean(x) # sample mean of x"
      ],
      "id": "66e8e79d"
    },
    {
      "cell_type": "code",
      "execution_count": 52,
      "metadata": {},
      "outputs": [],
      "source": [
        "var(x) # sample variance of x"
      ],
      "id": "1974d748"
    },
    {
      "cell_type": "code",
      "execution_count": 53,
      "metadata": {},
      "outputs": [],
      "source": [
        "sd(x) # sample standard deviation of x"
      ],
      "id": "4f917049"
    },
    {
      "cell_type": "code",
      "execution_count": 54,
      "metadata": {},
      "outputs": [],
      "source": [
        "range(x) # range of x"
      ],
      "id": "da33d87f"
    },
    {
      "cell_type": "code",
      "execution_count": 55,
      "metadata": {},
      "outputs": [],
      "source": [
        "log(x) # logarithm of x"
      ],
      "id": "2646d229"
    },
    {
      "cell_type": "code",
      "execution_count": 56,
      "metadata": {},
      "outputs": [],
      "source": [
        "summary(x) # summary of x"
      ],
      "id": "7eac271b"
    },
    {
      "cell_type": "code",
      "execution_count": 57,
      "metadata": {},
      "outputs": [],
      "source": [
        "str(x) # structure of x"
      ],
      "id": "514165d9"
    },
    {
      "cell_type": "markdown",
      "metadata": {},
      "source": [
        "## Functions related to statistical distributions\n",
        "\n",
        "Suppose that a random variable $X$ has the `dist` distribution:\n",
        "\n",
        "-   `p[dist](q, ...)`: returns the cdf of $X$ evaluated at `q`, i.e.,\n",
        "    $p=P(X\\leq q)$.\n",
        "-   `q[dist](p, ...)`: returns the inverse cdf (or quantile function) of\n",
        "    $X$ evaluated at $p$, i.e., $q = \\inf\\{x: P(X\\leq x) \\geq p\\}$.\n",
        "-   `d[dist](x, ...)`: returns the mass or density of $X$ evaluated at\n",
        "    $x$ (depending on whether it’s discrete or continuous).\n",
        "-   `r[dist](n, ...)`: returns an i.i.d. random sample of size `n`\n",
        "    having the same distribution as $X$.\n",
        "-   The `...` indicates that additional arguments describing the\n",
        "    parameters of the distribution may be required.\n",
        "\n",
        "### Example\n",
        "\n",
        "Run the following commands in the Console to see the output. What is\n",
        "each command doing?"
      ],
      "id": "91c094f2-82fa-440c-b3a1-e98a727761e3"
    },
    {
      "cell_type": "code",
      "execution_count": 58,
      "metadata": {},
      "outputs": [],
      "source": [
        "pnorm(1.96, mean = 0, sd = 1)"
      ],
      "id": "d1bad56d"
    },
    {
      "cell_type": "code",
      "execution_count": 59,
      "metadata": {},
      "outputs": [],
      "source": [
        "qunif(0.6, min = 0, max = 1)"
      ],
      "id": "f44954b1"
    },
    {
      "cell_type": "code",
      "execution_count": 60,
      "metadata": {},
      "outputs": [],
      "source": [
        "dbinom(2, size = 20, prob = .2)"
      ],
      "id": "1a9eac63"
    },
    {
      "cell_type": "code",
      "execution_count": 61,
      "metadata": {},
      "outputs": [],
      "source": [
        "dexp(1, rate = 2)"
      ],
      "id": "b53e2dea"
    },
    {
      "cell_type": "code",
      "execution_count": 62,
      "metadata": {},
      "outputs": [],
      "source": [
        "rchisq(100, df = 5)"
      ],
      "id": "142bbd01"
    },
    {
      "cell_type": "markdown",
      "metadata": {},
      "source": [
        "Here’s what these functions are doing:\n",
        "\n",
        "-   `pnorm(1.96, mean = 0, sd = 1)` returns the probability that a\n",
        "    normal random variable with mean 0 and standard deviation 1 is less\n",
        "    than or equal to 1.96.\n",
        "-   `qunif(0.6, min = 0, max = 1)` returns the value $x$ such that\n",
        "    $P(X\\leq x) = 0.6$ for a uniform random variable on the interval\n",
        "    $[0, 1]$.\n",
        "-   `dbinom(2, size = 20, prob = .2)` returns the probability that\n",
        "    $P(X=2)$ for $X\\sim\\textrm{Binom}(n=20,\\pi=0.2)$.\n",
        "-   `dexp(1, rate = 2)` evaluates the density of an exponential random\n",
        "    variable with mean = 1/2 at $x=1$.\n",
        "-   `rchisq(100, df = 5)` returns a sample of 100 observations from a\n",
        "    chi-squared random variable with 5 degrees of freedom.\n",
        "\n",
        "# Plotting with base R ([YouTube](https://youtu.be/JFhHBdL6f7A), [Panopto](https://ucdenver.hosted.panopto.com/Panopto/Pages/Viewer.aspx?id=70f233be-ce30-4bba-8429-aef90116f9a0))\n",
        "\n",
        "The plotting capabilities of R are one of its most powerful and\n",
        "attractive features.\n",
        "\n",
        "It is relatively simple to construct histograms, (parallel) boxplots,\n",
        "scatter plots, etc.\n",
        "\n",
        "Some examples:\n",
        "\n",
        "-   A histogram is created using the `hist` function.\n",
        "-   A boxplot is created using the `boxplot` function.\n",
        "-   A scatter plot is created using the `plot` function.\n",
        "\n",
        "## Histograms\n",
        "\n",
        "A histogram with a custom x-axis label and title can be created using\n",
        "the commands below. The x-axis label is customized using the `xlab`\n",
        "argument and the title is customized using the `main` argument."
      ],
      "id": "3e0d201e-682d-4cb6-8af7-e7a805cc210c"
    },
    {
      "cell_type": "code",
      "execution_count": 63,
      "metadata": {},
      "outputs": [],
      "source": [
        "x <- rnorm(100, mean = 100, sd = 10) # generate some data\n",
        "hist(x, xlab = \"x-values\", main = \"Histogram of 100 observations from N(100, 10^2)\")"
      ],
      "id": "e778fb89"
    },
    {
      "cell_type": "markdown",
      "metadata": {},
      "source": [
        "## Boxplots\n",
        "\n",
        "A single boxplot can be created using the following commands:"
      ],
      "id": "dd4daf02-94cb-4c74-9966-02ebbdce18b0"
    },
    {
      "cell_type": "code",
      "execution_count": 64,
      "metadata": {},
      "outputs": [],
      "source": [
        "y <- rnorm(100, mean = 80, sd = 3) # generate some data\n",
        "boxplot(y)"
      ],
      "id": "cd0f92e1"
    },
    {
      "cell_type": "markdown",
      "metadata": {},
      "source": [
        "A set of parallel boxplots can be created by distinguishing numeric\n",
        "values by a factor variable."
      ],
      "id": "256c81bd-6aa7-42b8-8b50-7606416580e9"
    },
    {
      "cell_type": "code",
      "execution_count": 65,
      "metadata": {},
      "outputs": [],
      "source": [
        "#make groups for x and y\n",
        "grp <- factor(rep(c(\"Grp 1\", \"Grp 2\"), each = 100))\n",
        "# combine x and y into a single vector\n",
        "dat <- c(x, y)\n",
        "boxplot(dat ~ grp, xlab = \"Group\")"
      ],
      "id": "b849fb50"
    },
    {
      "cell_type": "markdown",
      "metadata": {},
      "source": [
        "## Scatter plots\n",
        "\n",
        "A scatter plot of two numeric vectors `x` and `y` can be created using\n",
        "the notation `plot(x, y)` (with `x` on the x-axis and `y` on the y-axis)\n",
        "or `plot(y ~ x)` (with `x` on the x-axis and `y` on the y-axis).\n",
        "\n",
        "We create some data with a linear relationship below."
      ],
      "id": "8ed6395d-a813-44df-9123-6dcdcaedd57d"
    },
    {
      "cell_type": "code",
      "execution_count": 66,
      "metadata": {},
      "outputs": [],
      "source": [
        "x <- runif(20)\n",
        "y <- 2 + 3 * x + rnorm(20)"
      ],
      "id": "55a181f4"
    },
    {
      "cell_type": "markdown",
      "metadata": {},
      "source": [
        "We create a scatter plot using the first syntax."
      ],
      "id": "5be18ef5-0308-4836-acfb-5c61bd8329d8"
    },
    {
      "cell_type": "code",
      "execution_count": 67,
      "metadata": {},
      "outputs": [],
      "source": [
        "plot(x, y)"
      ],
      "id": "79197211"
    },
    {
      "cell_type": "markdown",
      "metadata": {},
      "source": [
        "We create the same scatter plot using the preferred syntax."
      ],
      "id": "ad3aa446-9265-4183-bb54-98058a073b64"
    },
    {
      "cell_type": "code",
      "execution_count": 68,
      "metadata": {},
      "outputs": [],
      "source": [
        "plot(y ~ x)"
      ],
      "id": "0632f2bd"
    },
    {
      "cell_type": "markdown",
      "metadata": {},
      "source": [
        "We can customize the x-axis and y-axis labels using `xlab` and `ylab`,\n",
        "respectively. A title can be added after the fact using the `title`\n",
        "function."
      ],
      "id": "bdff775f-4cd6-48e3-89da-7b186ab084f4"
    },
    {
      "cell_type": "code",
      "execution_count": 69,
      "metadata": {},
      "outputs": [],
      "source": [
        "plot(x, y, xlab=\"1st variable\", ylab=\"2nd variable\")\n",
        "title(\"Title of plot\")"
      ],
      "id": "076e2f07"
    },
    {
      "cell_type": "markdown",
      "metadata": {},
      "source": [
        "The points of a scatter plot will be connected with a line (in the order\n",
        "the points are provided) by specifying `type = \"l\"`. Specifying\n",
        "`type = \"b\"` will display both the points and the line."
      ],
      "id": "b47b4b06-4503-47c2-b030-12052726ebdf"
    },
    {
      "cell_type": "code",
      "execution_count": 70,
      "metadata": {},
      "outputs": [],
      "source": [
        "x <- seq(-4, 4, len = 1000)\n",
        "y <- dnorm(x, mean = 0, sd = 1)\n",
        "plot(x, y, xlab = \"x\", ylab = \"density\", type = \"l\")\n",
        "title(\"Density of Standard Normal\")"
      ],
      "id": "50b2e8db"
    },
    {
      "cell_type": "code",
      "execution_count": 71,
      "metadata": {},
      "outputs": [],
      "source": [
        "x2 <- seq(-4, 4, len = 25)\n",
        "y2 <- dnorm(x2, mean = 0, sd = 1)\n",
        "plot(y2 ~ x2, xlab = \"x\", ylab = \"density\", type = \"b\")\n",
        "title(\"Density of Standard Normal\")"
      ],
      "id": "173bdb62"
    },
    {
      "cell_type": "markdown",
      "metadata": {},
      "source": [
        "To create histogram-like vertical lines, you can specify `type = \"h\"`.\n",
        "This is useful for plotting the probability mass function of a random\n",
        "variable. Consider the following example for a Binomial distribution\n",
        "with $n=20$ trials and probability of success $\\pi = 0.3$."
      ],
      "id": "05221ae8-6b9b-4f22-aac9-505cf56c7095"
    },
    {
      "cell_type": "code",
      "execution_count": 72,
      "metadata": {},
      "outputs": [],
      "source": [
        "x <- 0:20\n",
        "y <- dbinom(x, size = 20, prob = .3)\n",
        "plot(x, y, xlab = \"# successes\", ylab = \"probability\", type = \"h\")\n",
        "title(\"pmf of Binomial(n = 20, pi = .3)\")"
      ],
      "id": "9e10d236"
    },
    {
      "cell_type": "markdown",
      "metadata": {},
      "source": [
        "### Example\n",
        "\n",
        "-   Use `?Distributions` to see the standard distributions included in\n",
        "    R.\n",
        "-   Draw 1000 observations from a Poisson distribution with a mean of 10\n",
        "    and assign it the name `v`.\n",
        "-   Use the `table` function to tabulate (as a continguency table) the\n",
        "    values of `v` and store the tabulated values in an object called\n",
        "    `tabv`.\n",
        "    -   `tabv` is a contingency table. The top row is an observed value\n",
        "        in `v` and the bottow row is the number of observations with the\n",
        "        value.\n",
        "-   Use the `str` function to learn more about the structure of `tabv`.\n",
        "-   Use the `plot` function on `tabv`. What do you get?\n",
        "    -   `plot` is actually a *generic* function. Many types of objects\n",
        "        have a plot *method* associated with them. If you use `plot` on\n",
        "        the object, then R produces the default plot for the object.\n",
        "-   Use the `names` function to grab the names of the observed values in\n",
        "    `v`. Assign this the name `value_char`.\n",
        "-   Use the `str` function on `value_char` to confirm that this is a\n",
        "    character vector.\n",
        "-   Convert the `value_char` character vector to a numeric vector using\n",
        "    the `as.numeric` function. Assign this the name `value`.\n",
        "-   Convert `tabv` to a vector using the `as.vector` function and assign\n",
        "    it the name `counts`.\n",
        "-   Examine the structure of `counts`.\n",
        "-   Construct a histogram of counts.\n",
        "-   Construct a boxplot of counts.\n",
        "-   Construct a histogram-like plot of counts using the `values`\n",
        "    variable on the x-axis and the `counts` variable on the y-axis."
      ],
      "id": "512b0131-e3d2-4ff0-aaf9-b45ed79428e3"
    },
    {
      "cell_type": "code",
      "execution_count": 73,
      "metadata": {},
      "outputs": [],
      "source": [
        "# write code here"
      ],
      "id": "cbed2e54"
    },
    {
      "cell_type": "markdown",
      "metadata": {},
      "source": [
        "# Data Frames ([YouTube](https://youtu.be/k1yMTfK4gcQ), [Panopto](https://ucdenver.hosted.panopto.com/Panopto/Pages/Viewer.aspx?id=4c5a3de2-7456-4fe7-a424-aef90116f996))\n",
        "\n",
        "Data frames are two-dimensional data objects. Each column of a data\n",
        "frame is a vector (or variable) of possibly different data types. This\n",
        "is a *fundamental* data structure used by most of R’s modeling\n",
        "functions.\n",
        "\n",
        "In general, I recommend *tidy data*, which means that each variable\n",
        "forms a column of the data frame, and each observation forms a row.\n",
        "\n",
        "## Creation\n",
        "\n",
        "Data frames are created by passing vectors into the `data.frame`\n",
        "function.\n",
        "\n",
        "The names of the columns in the data frame are the names of the vectors\n",
        "you give the `data.frame` function.\n",
        "\n",
        "Consider the following simple example."
      ],
      "id": "e98fced4-c5d7-495e-9fce-7bd0912083a2"
    },
    {
      "cell_type": "code",
      "execution_count": 74,
      "metadata": {},
      "outputs": [],
      "source": [
        "# create vectors d, e, f of numeric, character, and logical values\n",
        "d <- c(1, 2, 3, 4)\n",
        "e <- c(\"red\", \"white\", \"blue\", NA)\n",
        "f <- c(TRUE, TRUE, TRUE, FALSE)\n",
        "# create data frame using d, e, and f\n",
        "df <- data.frame(d, e, f)\n",
        "df"
      ],
      "id": "638c89d8"
    },
    {
      "cell_type": "markdown",
      "metadata": {},
      "source": [
        "The columns of a data frame can be renamed using the `names` function on\n",
        "the data frame."
      ],
      "id": "99f902c3-766b-436b-b830-3e4c1b131168"
    },
    {
      "cell_type": "code",
      "execution_count": 75,
      "metadata": {},
      "outputs": [],
      "source": [
        "names(df) <- c(\"ID\", \"Color\", \"Passed\")\n",
        "df"
      ],
      "id": "b867b3d5"
    },
    {
      "cell_type": "markdown",
      "metadata": {},
      "source": [
        "The columns of a data frame can be named when you are first creating the\n",
        "data frame by using `name =` for each vector of data."
      ],
      "id": "74d079f6-698d-4de0-a1a4-be1e12f7a856"
    },
    {
      "cell_type": "code",
      "execution_count": 76,
      "metadata": {},
      "outputs": [],
      "source": [
        "df2 <- data.frame(ID = d, Color = e, Passed = f)\n",
        "df2"
      ],
      "id": "3339ceec"
    },
    {
      "cell_type": "markdown",
      "metadata": {},
      "source": [
        "## Extracting parts of a data frame\n",
        "\n",
        "There are many ways to access or extract specific parts of a data frame.\n",
        "\n",
        "### Selecting columns of a data frame\n",
        "\n",
        "There are several approaches for selecting specific columns of a data\n",
        "frame. There can be important and subtle differences between these\n",
        "approaches that we describe below.\n",
        "\n",
        "-   `df$Color` selects the `Color` vector from `df` and **returns the\n",
        "    vector itself** (the object is no longer a data frame).\n",
        "-   `df[\"Color\"]` selects the `Color`column of `df` (the object is still\n",
        "    a data frame but only has the `Color` column).\n",
        "-   `df[1]` selects the first column of `df`.\n",
        "-   `df[c(\"Color\", \"ID\")]` selects both the `Color` and `ID` columns of\n",
        "    `df`\n",
        "-   `df[c(1, 3)]` selects the first and third columns of `df`.\n",
        "\n",
        "Note the difference in the results when using `$` versus `[]` to select\n",
        "part of the data."
      ],
      "id": "c197b6e8-fa37-4361-b999-0b1f78fb4ed0"
    },
    {
      "cell_type": "code",
      "execution_count": 77,
      "metadata": {},
      "outputs": [],
      "source": [
        "df$Color # extract Color as a vector"
      ],
      "id": "0837c6dd"
    },
    {
      "cell_type": "code",
      "execution_count": 78,
      "metadata": {},
      "outputs": [],
      "source": [
        "is.vector(df$Color) # confirm it is a vector"
      ],
      "id": "baa32c68"
    },
    {
      "cell_type": "code",
      "execution_count": 79,
      "metadata": {},
      "outputs": [],
      "source": [
        "df[\"Color\"] # extract Color but keep it in data frame form"
      ],
      "id": "10b9cd19"
    },
    {
      "cell_type": "code",
      "execution_count": 80,
      "metadata": {},
      "outputs": [],
      "source": [
        "is.data.frame(df[\"Color\"]) # confirm it is a data frame"
      ],
      "id": "0824aab1"
    },
    {
      "cell_type": "markdown",
      "metadata": {},
      "source": [
        "Basically, `df$Color` pulls the `Color` vector out of the `df` without\n",
        "preserving the data frame structure. `df[\"Color\"]` accesses the same\n",
        "information but preserves the data frame structure.\n",
        "\n",
        "### Extracting row and columns of a data frame\n",
        "\n",
        "Rows or columns of a data frame can also be extracted by thinking of the\n",
        "data frame as a general matrix and specifying the desired rows or\n",
        "columns in square brackets after the data frame’s name.\n",
        "\n",
        "-   `df[1,]` extracts the first row of `df`.\n",
        "-   `df[1:2,]` extracts the first two rows of `df`.\n",
        "-   `df[,2]` extracts the second column of `df`.\n",
        "-   `df[1:2, 2:3]` extracts the data in rows 1 and 2 of columns 2 and 3\n",
        "    of `df`.\n",
        "-   `df[c(1, 3), c(\"Color\", \"Passed\")]` extracts rows 1 and 3 of the\n",
        "    `Color` and `Passed` columns of `df`.\n",
        "\n",
        "From the examples in the list above, you can discern that the vector of\n",
        "values *before* the `,` indicates the rows to be extracted while the\n",
        "vector of values after the `,` indicate the columns to be extracted.\n",
        "\n",
        "-   If nothing is provided before the `,` then all the rows of the data\n",
        "    frame are extracted.\n",
        "-   If nothing is provided after the `,` then all the columns of the\n",
        "    data frame are extracted.\n",
        "\n",
        "### Example\n",
        "\n",
        "Run the following commands in the Console. Study each command and what\n",
        "is returned when each command is run to better understand how to extract\n",
        "parts of a data frame."
      ],
      "id": "80f1ab3d-f7b1-4c81-8489-0ac5b83086b0"
    },
    {
      "cell_type": "code",
      "execution_count": 81,
      "metadata": {},
      "outputs": [],
      "source": [
        "# Create a data frame\n",
        "df3 <- data.frame(numbers = 1:5,\n",
        "                  characters = letters[1:5],\n",
        "                  logicals = c(TRUE, TRUE, FALSE, TRUE, FALSE))"
      ],
      "id": "89a68071"
    },
    {
      "cell_type": "code",
      "execution_count": 82,
      "metadata": {},
      "outputs": [],
      "source": [
        "df3 # print df"
      ],
      "id": "c306d97c"
    },
    {
      "cell_type": "code",
      "execution_count": 83,
      "metadata": {},
      "outputs": [],
      "source": [
        "df3$logicals # extract the logicals vector of df3"
      ],
      "id": "d3a21992"
    },
    {
      "cell_type": "code",
      "execution_count": 84,
      "metadata": {},
      "outputs": [],
      "source": [
        "df3[\"logicals\"] # subset"
      ],
      "id": "1300a8f0"
    },
    {
      "cell_type": "code",
      "execution_count": 85,
      "metadata": {},
      "outputs": [],
      "source": [
        "df3[1, ] # extract the first column of df3"
      ],
      "id": "22eee7a5"
    },
    {
      "cell_type": "code",
      "execution_count": 86,
      "metadata": {},
      "outputs": [],
      "source": [
        "df3[, 3] # extract the third column of df3"
      ],
      "id": "0514658b"
    },
    {
      "cell_type": "code",
      "execution_count": 87,
      "metadata": {},
      "outputs": [],
      "source": [
        "df3[, 2:3] # extract the column 2 and 3 of df3"
      ],
      "id": "6d0b6cbd"
    },
    {
      "cell_type": "code",
      "execution_count": 88,
      "metadata": {},
      "outputs": [],
      "source": [
        "df3[, c(\"numbers\", \"logicals\")] # access the numbers and logical columns of df3"
      ],
      "id": "ea828228"
    },
    {
      "cell_type": "code",
      "execution_count": 89,
      "metadata": {},
      "outputs": [],
      "source": [
        "df3[c(\"numbers\", \"logicals\")]"
      ],
      "id": "4270e4a3"
    },
    {
      "cell_type": "markdown",
      "metadata": {},
      "source": [
        "It is often convenient to work with vectors instead of data frames, so\n",
        "it is sometimes desirable to extract a vector from a data frame and\n",
        "assign it a new name for later use.\n",
        "\n",
        "-   To access the `ID` column of `df2` and assign it the name `newID`,\n",
        "    we could run `newID <- df2$ID`.\n",
        "\n",
        "# Importing Data ([YouTube](https://youtu.be/IkxqGczZeuU), [Panopto](https://ucdenver.hosted.panopto.com/Panopto/Pages/Viewer.aspx?id=4350de98-7bff-49c8-baa4-aef90116f999))\n",
        "\n",
        "The `read.table` function imports data from file into R as a data frame.\n",
        "\n",
        "Usage: `read.table(file, header = TRUE, sep = \",\")`\n",
        "\n",
        "-   `file` is the file path and name of the file you want to import into\n",
        "    R.\n",
        "    -   If you don’t know the file path, set `file = file.choose()` will\n",
        "        bring up a dialog box asking you to locate the file you want to\n",
        "        import.\n",
        "-   `header` specifies whether the data file has a header (variable\n",
        "    labels for each column of data in the first row of the data file).\n",
        "    -   If you don’t specify this option in R or use `header = FALSE`,\n",
        "        then R will assume the file doesn’t have any headings.\n",
        "    -   `header = TRUE` tells R to read in the data as a data frame with\n",
        "        column names taken from the first row of the data file.\n",
        "-   `sep` specifies the delimiter separating elements in the file.\n",
        "    -   If each column of data in the file is separated by a space, then\n",
        "        use `sep = \" \"`\n",
        "    -   If each column of data in the file is separated by a comma, then\n",
        "        use `sep = \",\"`\n",
        "    -   If each column of data in the file is separated by a tab, then\n",
        "        use `sep = \"\\t\"`.\n",
        "\n",
        "Here is an example reading a csv (comma separated file) with a header:"
      ],
      "id": "fe085e41-ea8e-4104-a222-f47951904617"
    },
    {
      "cell_type": "code",
      "execution_count": 90,
      "metadata": {},
      "outputs": [],
      "source": [
        "dtf <- read.table(file = \"https://raw.githubusercontent.com/jfrench/DataWrangleViz/master/data/covid_dec4.csv\",\n",
        "                  header = TRUE,\n",
        "                  sep = \",\")\n",
        "str(dtf)"
      ],
      "id": "c7ee48be"
    },
    {
      "cell_type": "markdown",
      "metadata": {},
      "source": [
        "# Accessing elements of a data structure with logical statements ([YouTube](https://youtu.be/_VSaYGvlkDs), [Panopto](https://ucdenver.hosted.panopto.com/Panopto/Pages/Viewer.aspx?id=329d71b3-6c17-43bd-93f6-aef901174f87))\n",
        "\n",
        "Sometimes we need to know if the elements of an object satisfy certain\n",
        "conditions. This can be determined using the logical operators `<`,\n",
        "`<=`, `>`, `>=`, `==`, `!=`.\n",
        "\n",
        "Note that `==` means equal to and `!=` means not equal to.\n",
        "\n",
        "## Example\n",
        "\n",
        "Recall that we created a vector in R with the elements 2, 4, 6, …, 16."
      ],
      "id": "681448fd-95d6-4b7e-b68a-72e56fe442d0"
    },
    {
      "cell_type": "code",
      "execution_count": 91,
      "metadata": {},
      "outputs": [],
      "source": [
        "a <- seq(2, 16, by = 2)"
      ],
      "id": "dece50b0"
    },
    {
      "cell_type": "markdown",
      "metadata": {},
      "source": [
        "Execute the following commands in R and see what you get. What is each\n",
        "statement performing?"
      ],
      "id": "b1ae30e5-50d5-4d05-b100-fce343668c60"
    },
    {
      "cell_type": "code",
      "execution_count": 92,
      "metadata": {},
      "outputs": [],
      "source": [
        "a > 10"
      ],
      "id": "6e1738cf"
    },
    {
      "cell_type": "code",
      "execution_count": 93,
      "metadata": {},
      "outputs": [],
      "source": [
        "a <= 4"
      ],
      "id": "1ebbdd86"
    },
    {
      "cell_type": "code",
      "execution_count": 94,
      "metadata": {},
      "outputs": [],
      "source": [
        "a == 10"
      ],
      "id": "24f90414"
    },
    {
      "cell_type": "code",
      "execution_count": 95,
      "metadata": {},
      "outputs": [],
      "source": [
        "a != 10"
      ],
      "id": "ecd07a8a"
    },
    {
      "cell_type": "markdown",
      "metadata": {},
      "source": [
        "## And and Or statements\n",
        "\n",
        "More complicated logical statements can be made using `&` and `|`.\n",
        "\n",
        "-   `&` means “and”\n",
        "-   `|` means “or”\n",
        "\n",
        "## Example\n",
        "\n",
        "Execute the following commands in R and see what you get. What is each\n",
        "statement performing?"
      ],
      "id": "b1f7d384-5259-4673-8c37-208a96d78dda"
    },
    {
      "cell_type": "code",
      "execution_count": 96,
      "metadata": {},
      "outputs": [],
      "source": [
        "(a > 6) & (a <= 10)"
      ],
      "id": "9c75c09a"
    },
    {
      "cell_type": "code",
      "execution_count": 97,
      "metadata": {},
      "outputs": [],
      "source": [
        "(a <= 4)|(a >= 12)"
      ],
      "id": "53df0208"
    },
    {
      "cell_type": "markdown",
      "metadata": {},
      "source": [
        "## Logical statements and subsetting\n",
        "\n",
        "Logical statements can be used to return parts of an object satisfying\n",
        "the appropriate criteria. Specifically, we pass logical statements\n",
        "within the square brackets used to access part of a data structure.\n",
        "\n",
        "Consider the results from running the following commands."
      ],
      "id": "9ecf0d6e-0b69-45a9-b047-3bc308ea6023"
    },
    {
      "cell_type": "code",
      "execution_count": 98,
      "metadata": {},
      "outputs": [],
      "source": [
        "a[a < 6]"
      ],
      "id": "ed596580"
    },
    {
      "cell_type": "code",
      "execution_count": 99,
      "metadata": {},
      "outputs": [],
      "source": [
        "a[a == 10]"
      ],
      "id": "69408cd1"
    },
    {
      "cell_type": "code",
      "execution_count": 100,
      "metadata": {},
      "outputs": [],
      "source": [
        "a[(a < 6) | (a == 10)]"
      ],
      "id": "e2592efe"
    },
    {
      "cell_type": "markdown",
      "metadata": {},
      "source": [
        "# Functions ([YouTube](https://youtu.be/CTK0k5fD2Ug), [Panopto](https://ucdenver.hosted.panopto.com/Panopto/Pages/Viewer.aspx?id=19317c58-1544-48f8-906e-aef9011741fb))\n",
        "\n",
        "A function is essentially a sequence of commands executed based on\n",
        "certain arguments supplied to the function.\n",
        "\n",
        "In R, a function is defined using the general format:\n",
        "\n",
        "    myfunction <- function(arg1, arg2, arg3) {\n",
        "        code to execute\n",
        "    }\n",
        "\n",
        "The name of the function is `myfunction`.\n",
        "\n",
        "To use this function, I type the name of the function and supply the 3\n",
        "arguments in parentheses in the Console, e.g., `myfunction(x1, x2, x3)`.\n",
        "\n",
        "A function may or may not return something that you can store for later\n",
        "use.\n",
        "\n",
        "Let’s create a function that returns the sample standard deviation of a\n",
        "vector `x`. Recall that\n",
        "\n",
        "$$\n",
        "SD(x) = \\sqrt{\\frac{1}{n-1}\\sum_{i=1}^n (x_i - \\bar{x})^2}.\n",
        "$$ The sole argument is `x`, a vector of numeric values."
      ],
      "id": "2395df2b-cd85-4bf3-8f9d-05ea9b9ac002"
    },
    {
      "cell_type": "code",
      "execution_count": 101,
      "metadata": {},
      "outputs": [],
      "source": [
        "stdev <- function(x) {\n",
        "    s <- sqrt(sum((x - mean(x))^2)/(length(x) - 1))\n",
        "    s\n",
        "}"
      ],
      "id": "d9c8402d"
    },
    {
      "cell_type": "markdown",
      "metadata": {},
      "source": [
        "Some comments:\n",
        "\n",
        "-   The curly braces `{` and `}` indicate the beginning and end of the\n",
        "    code that the function will run.\n",
        "-   The line `s <- sqrt(sum((x - mean(x))^2)/(length(x) - 1))` computes\n",
        "    the sample standard deviation of `x` and then assigns the computed\n",
        "    value the name `s`.\n",
        "-   The line `s` returns the object stored in `s`. When an object is\n",
        "    printed at the end of a function, it tells the function to return\n",
        "    that object.\n",
        "\n",
        "Let’s test our function against the `sd` function built into R.\n",
        "\n",
        "Let’s generate some data."
      ],
      "id": "95474ce5-9eb2-490b-98ee-10e01e6012b9"
    },
    {
      "cell_type": "code",
      "execution_count": 102,
      "metadata": {},
      "outputs": [],
      "source": [
        "z <- rnorm(20)"
      ],
      "id": "48781cd7"
    },
    {
      "cell_type": "markdown",
      "metadata": {},
      "source": [
        "Let’s compute the sample standard deviation of `z` using the `sd`\n",
        "function and the `stdev` function."
      ],
      "id": "1519582a-7622-4723-94af-253ea3048d97"
    },
    {
      "cell_type": "code",
      "execution_count": 103,
      "metadata": {},
      "outputs": [],
      "source": [
        "sd(z)"
      ],
      "id": "b2677a4f"
    },
    {
      "cell_type": "code",
      "execution_count": 104,
      "metadata": {},
      "outputs": [],
      "source": [
        "stdev(z)"
      ],
      "id": "e08c561e"
    },
    {
      "cell_type": "markdown",
      "metadata": {},
      "source": [
        "### Example\n",
        "\n",
        "Create a function that returns the density of a normal random variable\n",
        "with mean `mu` and standard deviation `sigma` for a vector `x`. Recall\n",
        "that the density function of a normal random variable is\n",
        "\n",
        "$$\n",
        "f(x) = \\frac{1}{\\sigma \\sqrt{2 \\pi}} \\exp\\left(-\\frac{1}{2 \\sigma^2} (x - \\mu)^2\\right).\n",
        "$$\n",
        "\n",
        "The arguments should be:\n",
        "\n",
        "-   `x`: the vector of values at which I want to determine the density.\n",
        "-   `mu`, the mean of the normal distribution.\n",
        "-   `sigma`, the standard deviation of the normal distribution."
      ],
      "id": "5bc42ae3-bad7-4335-8b97-7e17b48b0f3d"
    },
    {
      "cell_type": "code",
      "execution_count": 105,
      "metadata": {},
      "outputs": [],
      "source": [
        "# write code here"
      ],
      "id": "cf06e8db"
    },
    {
      "cell_type": "markdown",
      "metadata": {},
      "source": [
        "## Function returning a list of results\n",
        "\n",
        "Let’s do a simple example of a function that returns two pieces of\n",
        "information using a `list`. We haven’t really talked about lists yet,\n",
        "but we’ll learn more about them later.\n",
        "\n",
        "Example: Create a function that returns the mean and standard deviation\n",
        "of a vector `x`.\n",
        "\n",
        "The sole argument will be, `x`, a vector of numeric values."
      ],
      "id": "918d74d5-0d97-423a-8ebb-4d4ad6f74eb0"
    },
    {
      "cell_type": "code",
      "execution_count": 106,
      "metadata": {},
      "outputs": [],
      "source": [
        "ms <- function(x) {\n",
        "    m <- mean(x) # compute the sample mean of x\n",
        "    s <- sd(x)   # compute the sample sd of x\n",
        "    # return a list with elements m and s\n",
        "    return(list(m = m, s = s))\n",
        "}"
      ],
      "id": "e0e0fb8a"
    },
    {
      "cell_type": "code",
      "execution_count": 107,
      "metadata": {},
      "outputs": [],
      "source": [
        "ms(z)"
      ],
      "id": "526a64c6"
    },
    {
      "cell_type": "code",
      "execution_count": 108,
      "metadata": {},
      "outputs": [],
      "source": [
        "ms_z <- ms(z)"
      ],
      "id": "a36b49a6"
    },
    {
      "cell_type": "code",
      "execution_count": 109,
      "metadata": {},
      "outputs": [],
      "source": [
        "ms_z$m"
      ],
      "id": "c1a8f1a8"
    },
    {
      "cell_type": "code",
      "execution_count": 110,
      "metadata": {},
      "outputs": [],
      "source": [
        "ms_z[[1]]"
      ],
      "id": "4d1d1c36"
    },
    {
      "cell_type": "code",
      "execution_count": 111,
      "metadata": {},
      "outputs": [],
      "source": [
        "ms_z$s"
      ],
      "id": "6646760a"
    },
    {
      "cell_type": "code",
      "execution_count": 112,
      "metadata": {},
      "outputs": [],
      "source": [
        "ms_z[[2]]"
      ],
      "id": "d7b6b2e5"
    },
    {
      "cell_type": "markdown",
      "metadata": {},
      "source": [
        "## References\n",
        "\n",
        "Müller, Kirill, and Hadley Wickham. 2023. *Tibble: Simple Data Frames*.\n",
        "<https://CRAN.R-project.org/package=tibble>.\n",
        "\n",
        "R Core Team. 2022. *R: A Language and Environment for Statistical\n",
        "Computing*. Vienna, Austria: R Foundation for Statistical Computing.\n",
        "<https://www.R-project.org/>.\n",
        "\n",
        "Wickham, Hadley. 2022. *Stringr: Simple, Consistent Wrappers for Common\n",
        "String Operations*. <https://CRAN.R-project.org/package=stringr>.\n",
        "\n",
        "———. 2023a. *Forcats: Tools for Working with Categorical Variables\n",
        "(Factors)*. <https://CRAN.R-project.org/package=forcats>.\n",
        "\n",
        "———. 2023b. *Tidyverse: Easily Install and Load the Tidyverse*.\n",
        "<https://CRAN.R-project.org/package=tidyverse>.\n",
        "\n",
        "Wickham, Hadley, Winston Chang, Lionel Henry, Thomas Lin Pedersen,\n",
        "Kohske Takahashi, Claus Wilke, Kara Woo, Hiroaki Yutani, and Dewey\n",
        "Dunnington. 2023. *Ggplot2: Create Elegant Data Visualisations Using the\n",
        "Grammar of Graphics*. <https://CRAN.R-project.org/package=ggplot2>.\n",
        "\n",
        "Wickham, Hadley, Romain François, Lionel Henry, Kirill Müller, and Davis\n",
        "Vaughan. 2023. *Dplyr: A Grammar of Data Manipulation*.\n",
        "<https://CRAN.R-project.org/package=dplyr>.\n",
        "\n",
        "Wickham, Hadley, and Lionel Henry. 2023. *Purrr: Functional Programming\n",
        "Tools*. <https://CRAN.R-project.org/package=purrr>.\n",
        "\n",
        "Wickham, Hadley, Jim Hester, and Jennifer Bryan. 2023. *Readr: Read\n",
        "Rectangular Text Data*. <https://CRAN.R-project.org/package=readr>.\n",
        "\n",
        "Wickham, Hadley, Davis Vaughan, and Maximilian Girlich. 2023. *Tidyr:\n",
        "Tidy Messy Data*. <https://CRAN.R-project.org/package=tidyr>."
      ],
      "id": "3d93d963-a27b-44bf-9b6a-7895044f8d8b"
    }
  ],
  "nbformat": 4,
  "nbformat_minor": 5,
  "metadata": {
    "kernelspec": {
      "name": "ir",
      "display_name": "R",
      "language": "R"
    },
    "language_info": {
      "name": "R",
      "codemirror_mode": "r",
      "file_extension": ".r",
      "mimetype": "text/x-r-source",
      "pygments_lexer": "r",
      "version": "4.2.2"
    }
  }
}