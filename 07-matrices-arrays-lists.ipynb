{
  "cells": [
    {
      "cell_type": "markdown",
      "metadata": {},
      "source": [
        "# Matrices, Arrays, and Lists\n",
        "\n",
        "Joshua P. French  \n",
        "October 16, 2023\n",
        "\n",
        "To open this information in an interactive Colab notebook, click the\n",
        "Open in Colab graphic below.\n",
        "\n",
        "<a href=\"https://colab.research.google.com/github/jfrench/DataWrangleViz/blob/master/07-matrices-arrays-lists.ipynb\">\n",
        "<img src=\"https://colab.research.google.com/assets/colab-badge.svg\">\n",
        "</a>\n",
        "\n",
        "------------------------------------------------------------------------\n",
        "\n",
        "In this module we will cover some additional data structures available\n",
        "in R that were not covered in the Crash Course in R Module.\n",
        "Specifically, we will discuss matrices, arrays, and lists. These data\n",
        "structures are fundamental to performing data analysis in R,\n",
        "particularly if we need to program our own methods.\n",
        "\n",
        "# Matrices and matrix algebra\n",
        "\n",
        "## Why are matrices and matrix algebra important knowledge for data scientists? ([YouTube](https://youtu.be/40THrClg9Ho), [Panopto](https://ucdenver.hosted.panopto.com/Panopto/Pages/Viewer.aspx?id=f36ecb67-06e8-45a1-8fb8-b099015ade57))\n",
        "\n",
        "Understanding how to use matrices is foundational knowledge for any data\n",
        "scientist.\n",
        "\n",
        "-   Matrices are a simple, efficient way of storing many kinds of data.\n",
        "-   Matrix algebra is the most basic way of manipulating data\n",
        "    represented in matrix format.\n",
        "\n",
        "Numeric matrices are often needed to implement complex algorithms used\n",
        "for data science methods related to regression, optimization, and\n",
        "classification.\n",
        "\n",
        "## What is a matrix? ([YouTube](https://youtu.be/BrNr3cpLxQY), [Panopto](https://ucdenver.hosted.panopto.com/Panopto/Pages/Viewer.aspx?id=35569ba5-8909-4a0b-bb3a-b099015b52e4))\n",
        "\n",
        "A matrix is a two-dimensional object whose values have the same data\n",
        "type.\n",
        "\n",
        "-   We can have numeric, character, or logical matrices, but only one\n",
        "    data type can exist at a time in a matrix.\n",
        "\n",
        "A matrix $\\mathbf{A}$ with $m$ rows and $n$ columns (an $m\\times n$\n",
        "matrix) will be denoted as\n",
        "\n",
        "$$\n",
        "\\mathbf{A} = \\begin{bmatrix}\n",
        "\\mathbf{A}_{1,1} & \\mathbf{A}_{1,2} & \\cdots & \\mathbf{A}_{1,n} \\\\\n",
        "\\mathbf{A}_{2,1} & \\mathbf{A}_{2,2} & \\cdots & \\mathbf{A}_{2,n} \\\\\n",
        "\\vdots & \\vdots & \\ddots & \\vdots \\\\\n",
        "\\mathbf{A}_{m,1} & \\mathbf{A}_{m,2} & \\cdots & \\mathbf{A}_{m,n} \\\\\n",
        "\\end{bmatrix},\n",
        "$$\n",
        "\n",
        "where $\\mathbf{A}_{i,j}$ denotes the element in row $i$ and column $j$\n",
        "of matrix $\\mathbf{A}$.\n",
        "\n",
        "A **column vector** is a matrix with a single column. A **row vector**\n",
        "is a matrix with a single row.\n",
        "\n",
        "-   Vectors are commonly denoted with bold lowercase letters such as\n",
        "    $\\mathbf{a}$ or $\\mathbf{b}$, but this may be simplified to\n",
        "    lowercase letters such as $a$ or $b$.\n",
        "\n",
        "A $p\\times 1$ column vector $\\mathbf{a}$ may constructed as\n",
        "\n",
        "$$\n",
        "\\mathbf{a} = [a_1, a_2, \\ldots, a_p] = \n",
        "\\begin{bmatrix}\n",
        "a_1 \\\\ a_2 \\\\ \\vdots \\\\ a_p\n",
        "\\end{bmatrix}.\n",
        "$$\n",
        "\n",
        "A vector is assumed to be a column vector unless otherwise indicated.\n",
        "\n",
        "## Creating a matrix ([YouTube](https://youtu.be/OsO39R0S6nY), [Panopto](https://ucdenver.hosted.panopto.com/Panopto/Pages/Viewer.aspx?id=bf3047ad-d8ea-4ba0-99c0-b099015b6066))\n",
        "\n",
        "A matrix can be created in R by passing a vector to the `matrix`\n",
        "function and specifying the number of rows and columns the matrix will\n",
        "have.\n",
        "\n",
        "-   The values of the vector will be placed into the matrix one column\n",
        "    at a time.\n",
        "-   The `nrow` argument specifies the number of rows.\n",
        "-   The `ncol` argument specifies the number of columns.\n",
        "\n",
        "Let’s create a $5\\times 2$ matrix with the elements $1, 2, \\ldots, 5$ in\n",
        "the first column and $6, 7, \\ldots, 10$ in the second column."
      ],
      "id": "80cda135-c5e9-4129-a84e-710a1c60c759"
    },
    {
      "cell_type": "code",
      "execution_count": 2,
      "metadata": {},
      "outputs": [],
      "source": [
        "A <- matrix(1:10, nrow = 5, ncol = 2)\n",
        "A"
      ],
      "id": "6ce73480"
    },
    {
      "cell_type": "markdown",
      "metadata": {},
      "source": [
        "If we change the `byrow` argument of the `matrix` function to `TRUE`,\n",
        "then the values will be placed row by row, as in the example below."
      ],
      "id": "a0d3c3b7-508a-44bc-8e44-cac72d70e15b"
    },
    {
      "cell_type": "code",
      "execution_count": 3,
      "metadata": {},
      "outputs": [],
      "source": [
        "matrix(1:6, nrow = 2, ncol = 3, byrow = TRUE)"
      ],
      "id": "7151cb76"
    },
    {
      "cell_type": "markdown",
      "metadata": {},
      "source": [
        "The `cbind` and `rbind` functions can be used to create a `matrix`\n",
        "object by combining vectors by columns or rows, respectively.\n",
        "\n",
        "In the example below, we combine the vectors \\[1, 2, 3, 4\\] and \\[5, 6,\n",
        "7, 8\\] columnwise to create a matrix."
      ],
      "id": "575c12db-c861-4350-b83b-c99463aa204a"
    },
    {
      "cell_type": "code",
      "execution_count": 4,
      "metadata": {},
      "outputs": [],
      "source": [
        "cbind(1:4, 5:8)"
      ],
      "id": "9933d200"
    },
    {
      "cell_type": "markdown",
      "metadata": {},
      "source": [
        "Alternatively, we can use the `rbind` function to create a matrix by\n",
        "combining the vectors row by row."
      ],
      "id": "931875cb-7f4d-4870-9f19-9a313e1cf67f"
    },
    {
      "cell_type": "code",
      "execution_count": 5,
      "metadata": {},
      "outputs": [],
      "source": [
        "rbind(1:4, 5:8)"
      ],
      "id": "42ba382d"
    },
    {
      "cell_type": "markdown",
      "metadata": {},
      "source": [
        "The `dim` function can be used to determine/confirm the number of rows\n",
        "or columns in a matrix."
      ],
      "id": "3e1a0005-4c03-49b0-a159-8137e873663b"
    },
    {
      "cell_type": "code",
      "execution_count": 6,
      "metadata": {},
      "outputs": [],
      "source": [
        "dim(A)"
      ],
      "id": "81b5d30d"
    },
    {
      "cell_type": "markdown",
      "metadata": {},
      "source": [
        "The `nrow` and `ncol` functions can be used to determine the number of\n",
        "rows and columns, respectively, in a `matrix` object."
      ],
      "id": "e8810f74-e2e4-4719-bf49-b58a2ff753c3"
    },
    {
      "cell_type": "code",
      "execution_count": 7,
      "metadata": {},
      "outputs": [],
      "source": [
        "nrow(A)"
      ],
      "id": "f955373e"
    },
    {
      "cell_type": "code",
      "execution_count": 8,
      "metadata": {},
      "outputs": [],
      "source": [
        "ncol(A)"
      ],
      "id": "f9654f03"
    },
    {
      "cell_type": "markdown",
      "metadata": {},
      "source": [
        "## Subsetting a matrix ([YouTube](https://youtu.be/vm-biax5mmg), [Panopto](https://ucdenver.hosted.panopto.com/Panopto/Pages/Viewer.aspx?id=9d1da8bf-1118-4105-9eb8-b099015bc078))\n",
        "\n",
        "We can access a subset of a `matrix` object using the `[` operator and\n",
        "providing vectors with the desired rows and columns separated by a\n",
        "comma.\n",
        "\n",
        "If `A` is a matrix, then we can select the subset of `A` using the\n",
        "syntax `A[r, c]`, where `r` and `c` are `numeric` vector indicating the\n",
        "desired rows and columns, respectively, that we want to select.\n",
        "\n",
        "-   If we select a single row or column, then the subsetted object will\n",
        "    simplify to `vector` object instead of a `matrix`.\n",
        "-   If we don’t supply a vector of rows or columns, then all rows or\n",
        "    columns will be returned.\n",
        "-   We can use the `-` notation to select all but the specified rows or\n",
        "    columns. This is similar to the syntax used for data frames.\n",
        "\n",
        "This is easiest to understand by walking through a set of examples.\n",
        "\n",
        "Let’s define a $4\\times 3$ matrix, `B`, below."
      ],
      "id": "1d9e2cc4-05b1-4cbf-bc29-d583dce79d9e"
    },
    {
      "cell_type": "code",
      "execution_count": 9,
      "metadata": {},
      "outputs": [],
      "source": [
        "B <- matrix(1:12, ncol = 3)\n",
        "B"
      ],
      "id": "629cbdfd"
    },
    {
      "cell_type": "markdown",
      "metadata": {},
      "source": [
        "Let’s select columns 2 and 3 of `B`."
      ],
      "id": "007f9048-ed33-4d6b-b092-57744d386438"
    },
    {
      "cell_type": "code",
      "execution_count": 10,
      "metadata": {},
      "outputs": [],
      "source": [
        "B[, 2:3]"
      ],
      "id": "b8c9a2b6"
    },
    {
      "cell_type": "markdown",
      "metadata": {},
      "source": [
        "Let’s select rows 1 and 4 of `B`."
      ],
      "id": "0556c5c2-1bd4-48d9-85de-1e0a8ff703ae"
    },
    {
      "cell_type": "code",
      "execution_count": 11,
      "metadata": {},
      "outputs": [],
      "source": [
        "B[c(1, 4), ]"
      ],
      "id": "68e1b3d3"
    },
    {
      "cell_type": "markdown",
      "metadata": {},
      "source": [
        "Let’s select columns 2 and 3 of rows 1 and 4 of `B`."
      ],
      "id": "ac25156e-2f95-4e74-aae3-3d2f0844e9eb"
    },
    {
      "cell_type": "code",
      "execution_count": 12,
      "metadata": {},
      "outputs": [],
      "source": [
        "B[c(1, 4), 2:3]"
      ],
      "id": "a44db1c0"
    },
    {
      "cell_type": "markdown",
      "metadata": {},
      "source": [
        "Let’s select all columns of `B` except the third."
      ],
      "id": "a95c7b8e-b06f-4585-9999-f24dd7673580"
    },
    {
      "cell_type": "code",
      "execution_count": 13,
      "metadata": {},
      "outputs": [],
      "source": [
        "B[,-3]"
      ],
      "id": "9e98a0d2"
    },
    {
      "cell_type": "markdown",
      "metadata": {},
      "source": [
        "Our matrix simplifies to a vector if we only select a single row or\n",
        "column.\n",
        "\n",
        "We select the second row of `B`."
      ],
      "id": "9f405558-c210-4198-a398-466fd2afaddc"
    },
    {
      "cell_type": "code",
      "execution_count": 14,
      "metadata": {},
      "outputs": [],
      "source": [
        "B[2, ]"
      ],
      "id": "879b3aa8"
    },
    {
      "cell_type": "markdown",
      "metadata": {},
      "source": [
        "We select the second column of `B`."
      ],
      "id": "955efdf9-0953-4420-96e6-a36f943e0f9e"
    },
    {
      "cell_type": "code",
      "execution_count": 15,
      "metadata": {},
      "outputs": [],
      "source": [
        "B[,2]"
      ],
      "id": "c03cd3e8"
    },
    {
      "cell_type": "markdown",
      "metadata": {},
      "source": [
        "If we want to retain the `matrix` structure of `B` when we select a\n",
        "single row or column, then we set the optional `drop` argument to\n",
        "`FALSE` after the column argument."
      ],
      "id": "433e9974-8677-443a-8851-7fd7f9b811d9"
    },
    {
      "cell_type": "code",
      "execution_count": 16,
      "metadata": {},
      "outputs": [],
      "source": [
        "B[2, , drop = FALSE]"
      ],
      "id": "2e52cc79"
    },
    {
      "cell_type": "code",
      "execution_count": 17,
      "metadata": {},
      "outputs": [],
      "source": [
        "B[, 2, drop = FALSE]"
      ],
      "id": "22ae0c5d"
    },
    {
      "cell_type": "markdown",
      "metadata": {},
      "source": [
        "## Matrix operations\n",
        "\n",
        "### Addition and subtraction ([YouTube](), [Panopto]())\n",
        "\n",
        "We can add or subtract the elements of two matrices as long as they have\n",
        "the same size.\n",
        "\n",
        "We create two $2\\times 3$ matrices below."
      ],
      "id": "7d3d8f36-929f-4e65-8316-c763ad03b30c"
    },
    {
      "cell_type": "code",
      "execution_count": 18,
      "metadata": {},
      "outputs": [],
      "source": [
        "A <- matrix(1:6, nrow = 2, ncol = 3, byrow = TRUE)\n",
        "A"
      ],
      "id": "b832e42a"
    },
    {
      "cell_type": "code",
      "execution_count": 19,
      "metadata": {},
      "outputs": [],
      "source": [
        "B <- matrix(c(2, 1, 9, 3, 1, 1), nrow = 2, ncol = 3)\n",
        "B"
      ],
      "id": "62e7667f"
    },
    {
      "cell_type": "markdown",
      "metadata": {},
      "source": [
        "We can add the two matrices below using the `+` operator. The result is\n",
        "simply the sum of the values in the same position of the matrices."
      ],
      "id": "066032d0-0c18-47f9-b818-7c6765a4424d"
    },
    {
      "cell_type": "code",
      "execution_count": 20,
      "metadata": {},
      "outputs": [],
      "source": [
        "A + B"
      ],
      "id": "71de0fa6"
    },
    {
      "cell_type": "markdown",
      "metadata": {},
      "source": [
        "Subtraction works in the same way, as shown below."
      ],
      "id": "3961fbab-71fe-4bcd-9d47-64b0e62b2ad2"
    },
    {
      "cell_type": "code",
      "execution_count": 21,
      "metadata": {},
      "outputs": [],
      "source": [
        "A - B"
      ],
      "id": "693a0bc5"
    },
    {
      "cell_type": "markdown",
      "metadata": {},
      "source": [
        "### Scalar multiplication ([YouTube](), [Panopto]())\n",
        "\n",
        "A matrix multiplied by a scalar value $c\\in\\mathbb{R}$ is the matrix\n",
        "obtained by multiplying each element of the matrix by $c$.\n",
        "\n",
        "To perform scalar multiplication in R, we simply use the `*` operator to\n",
        "multiply the scalar value by the matrix.\n",
        "\n",
        "In the code below, we double the values in `A`."
      ],
      "id": "86e6567a-4830-4acd-9550-bcf3e157ba23"
    },
    {
      "cell_type": "code",
      "execution_count": 22,
      "metadata": {},
      "outputs": [],
      "source": [
        "2 * A"
      ],
      "id": "c192c2dd"
    },
    {
      "cell_type": "markdown",
      "metadata": {},
      "source": [
        "### Matrix multiplication ([YouTube](), [Panopto]())\n",
        "\n",
        "Consider two matrices $\\mathbf{A}$ and $\\mathbf{B}$. The matrix product\n",
        "$\\mathbf{AB}$ is only defined if the number of columns in $\\mathbf{A}$\n",
        "matches the number of rows in $\\mathbf{B}$.\n",
        "\n",
        "Assume $\\mathbf{A}$ is an $m\\times n$ matrix and $\\mathbf{B}$ is an\n",
        "$n\\times p$ matrix. $\\mathbf{AB}$ will be an $m\\times p$ matrix and $$\n",
        "(\\mathbf{AB})_{i,j} = \\sum_{k=1}^{n} \\mathbf{A}_{i,k}\\mathbf{B}_{k,j}.\n",
        "$$\n",
        "\n",
        "We consider multiplying the two matrices below.\n",
        "\n",
        "$$\n",
        "\\begin{bmatrix}\n",
        "1 & 2 & 3 \\\\\n",
        "4 & 5 & 6\n",
        "\\end{bmatrix}\n",
        "\\begin{bmatrix}\n",
        "1 & 4\\\\\n",
        "2 & 5\\\\\n",
        "3 & 6\n",
        "\\end{bmatrix}=\n",
        "\\begin{bmatrix}\n",
        "1\\cdot 1 +  2 \\cdot 2 + 3 \\cdot 3 & 1 \\cdot 4 + 2 \\cdot 5 + 3 \\cdot 6\\\\\n",
        "4\\cdot 1 +  5 \\cdot 2 + 6 \\cdot 3 & 4 \\cdot 4 + 5 \\cdot 5 + 6 \\cdot 6\\\\\n",
        "\\end{bmatrix}=\n",
        "\\begin{bmatrix}\n",
        "14 & 32\\\\\n",
        "32 & 77\\\\\n",
        "\\end{bmatrix}.\n",
        "$$\n",
        "\n",
        "We multiply two matrices of the correct size using the `%*%` operator.\n",
        "Let’s multiply these same matrices using R"
      ],
      "id": "abd89d64-69e1-48de-85a9-0f6781b2f5ad"
    },
    {
      "cell_type": "code",
      "execution_count": 23,
      "metadata": {},
      "outputs": [],
      "source": [
        "A"
      ],
      "id": "ebf62843"
    },
    {
      "cell_type": "code",
      "execution_count": 24,
      "metadata": {},
      "outputs": [],
      "source": [
        "B <- matrix(1:6, nrow = 3, ncol = 2)\n",
        "B"
      ],
      "id": "af0b7467"
    },
    {
      "cell_type": "code",
      "execution_count": 25,
      "metadata": {},
      "outputs": [],
      "source": [
        "A %*% B"
      ],
      "id": "76f2e4da"
    },
    {
      "cell_type": "markdown",
      "metadata": {},
      "source": [
        "### Elementwise multiplication ([YouTube](), [Panopto]())\n",
        "\n",
        "Consider two matrices $\\mathbf{A}$ and $\\mathbf{B}$ that have the same\n",
        "dimensions. The elementwise product, denoted\n",
        "$\\mathbf{A} \\circ \\mathbf{B}$ is the product of the elements in the same\n",
        "position of the matrix.\n",
        "\n",
        "Assume $\\mathbf{A}$ and $\\mathbf{B}$ are $n\\times m$ matrices.\n",
        "$\\mathbf{A} \\circ \\mathbf{B}$ will be an $n\\times m$ matrix and $$\n",
        "(\\mathbf{A} \\circ \\mathbf{B})_{i,j} = \\mathbf{A}_{i,j}\\mathbf{B}_{i,j}.\n",
        "$$\n",
        "\n",
        "We perform elementwise multiplication of the two matrices below.\n",
        "\n",
        "$$\n",
        "\\begin{bmatrix}\n",
        "1 & 4\\\\\n",
        "2 & 5\\\\\n",
        "3 & 6\n",
        "\\end{bmatrix} \\circ\n",
        "\\begin{bmatrix}\n",
        "7 & 10\\\\\n",
        "8 & 11\\\\\n",
        "9 & 12\n",
        "\\end{bmatrix}=\n",
        "\\begin{bmatrix}\n",
        "1 \\cdot 7 & 4 \\cdot 10\\\\\n",
        "2 \\cdot 8 & 5 \\cdot 11\\\\\n",
        "3 \\cdot 9 & 6 \\cdot 12\n",
        "\\end{bmatrix}=\n",
        "\\begin{bmatrix}\n",
        "7 & 40\\\\\n",
        "16 & 55\\\\\n",
        "27 & 72\n",
        "\\end{bmatrix}.\n",
        "$$\n",
        "\n",
        "We perform elementwise multiplication of two matrices of the correct\n",
        "size using the `*` operator. Let’s multiply these same matrices using R"
      ],
      "id": "c55744ff-5ec6-48ff-92f3-f7be924f9680"
    },
    {
      "cell_type": "code",
      "execution_count": 26,
      "metadata": {},
      "outputs": [],
      "source": [
        "A <- matrix(1:6, ncol = 2)\n",
        "A"
      ],
      "id": "68f50911"
    },
    {
      "cell_type": "code",
      "execution_count": 27,
      "metadata": {},
      "outputs": [],
      "source": [
        "B <- matrix(7:12, ncol = 2)"
      ],
      "id": "ca53ca93"
    },
    {
      "cell_type": "code",
      "execution_count": 28,
      "metadata": {},
      "outputs": [],
      "source": [
        "A * B"
      ],
      "id": "dff45beb"
    },
    {
      "cell_type": "markdown",
      "metadata": {},
      "source": [
        "### Transpose ([YouTube](), [Panopto]())\n",
        "\n",
        "The **transpose** of a matrix $\\mathbf{A}$, denoted $\\mathbf{A}^T$,\n",
        "exchanges the rows and columns of the matrix. More formally, the $i,j$\n",
        "element of $\\mathbf{A}^T$ is the $j,i$ element of $\\mathbf{A}$, i.e.,\n",
        "$(\\mathbf{A}^T)_{i,j} = \\mathbf{A}_{j,i}$.\n",
        "\n",
        "We can use the `t` function to obtain the transpose of a matrix.\n",
        "\n",
        "Let’s transpose the matrix `A` that we previously created."
      ],
      "id": "81a19188-dae5-412f-9f8e-96a76a3ad7d9"
    },
    {
      "cell_type": "code",
      "execution_count": 29,
      "metadata": {},
      "outputs": [],
      "source": [
        "t(A)"
      ],
      "id": "5c795547"
    },
    {
      "cell_type": "markdown",
      "metadata": {},
      "source": [
        "## Special matrices ([YouTube](), [Panopto]())\n",
        "\n",
        "### Square matrices\n",
        "\n",
        "A matrix is **square** if the number of rows equals the number of\n",
        "columns.\n",
        "\n",
        "-   The **diagonal elements** of an $n\\times n$ square matrix\n",
        "    $\\mathbf{A}$ are the elements $\\mathbf{A}_{i,i}$ for\n",
        "    $i = 1, 2, \\ldots, n$.\n",
        "-   Non-diagonal elements of $\\mathbf{A}$ are called **off-diagonal**\n",
        "    elements.\n",
        "\n",
        "### Identity matrix\n",
        "\n",
        "The $n\\times n$ **identity** matrix, $\\mathbf{I}_{n \\times n}$, is a\n",
        "matrix for which the diagonal elements are all 1 and the non-diagonal\n",
        "elements are all 0.\n",
        "\n",
        "-   Context often makes it clear what the dimensions of an identity\n",
        "    matrix are, so the notation for $\\mathbf{I}_{n\\times n}$ is often\n",
        "    simplified to $\\mathbf{I}$ or $I$.\n",
        "\n",
        "The syntax `diag(n)` will create an $n\\times n$ identity matrix in R.\n",
        "\n",
        "We create a $3\\times 3$ identify matrix below."
      ],
      "id": "685187de-aac3-42ab-b904-2a43f4d926ef"
    },
    {
      "cell_type": "code",
      "execution_count": 30,
      "metadata": {},
      "outputs": [],
      "source": [
        "diag(3)"
      ],
      "id": "f921edd1"
    },
    {
      "cell_type": "markdown",
      "metadata": {},
      "source": [
        "### Inverse matrix\n",
        "\n",
        "An $n\\times n$ matrix $\\mathbf{A}$ is invertible if there exists a\n",
        "matrix $\\mathbf{B}$ such that\n",
        "$\\mathbf{AB}=\\mathbf{BA}=\\mathbf{I}_{n\\times n}$.\n",
        "\n",
        "The inverse of $\\mathbf{A}$ is denoted $\\mathbf{A}^{-1}$.\n",
        "\n",
        "-   Inverse matrices only exist for square matrices that are symmetric\n",
        "    and positive definite.\n",
        "\n",
        "-   We do not discuss what it means for a matrix to be symmetric or\n",
        "    positive definite because that is beyond the scope of this course.\n",
        "\n",
        "-   We can learn a little more about matrices at\n",
        "    <https://jfrench.github.io/LinearRegression/overview-of-matrix-facts.html>.\n",
        "\n",
        "The `solve` function can be used to compute the inverse of matrix, e.g.,\n",
        "`solve(A)`.\n",
        "\n",
        "-   This will likely cause numeric issues, so don’t do this.\n",
        "\n",
        "Inverse matrices are nearly always multiplied by a different matrix,\n",
        "e.g., $\\mathbf{b}$.\n",
        "\n",
        "To compute $\\mathbf{A}^{-1} \\mathbf{b}$, we use the syntax\n",
        "`solve(A, b)`.\n",
        "\n",
        "In the example below, we use `solve` to compute\n",
        "$\\mathbf{A}^{-1} \\mathbf{b}$."
      ],
      "id": "b3f4e1ee-94e1-4bd3-b0ec-284343ead486"
    },
    {
      "cell_type": "code",
      "execution_count": 31,
      "metadata": {},
      "outputs": [],
      "source": [
        "A <- matrix(c(3, 0.5, 0.2, \n",
        "              0.5, 2, 0.1,\n",
        "              0.2, 0.1, 1),\n",
        "            nrow = 3)\n",
        "A"
      ],
      "id": "279e3caa"
    },
    {
      "cell_type": "code",
      "execution_count": 32,
      "metadata": {},
      "outputs": [],
      "source": [
        "b <- c(1, 0.7, 3)\n",
        "b"
      ],
      "id": "a8e4ba57"
    },
    {
      "cell_type": "code",
      "execution_count": 33,
      "metadata": {},
      "outputs": [],
      "source": [
        "solve(A, b)"
      ],
      "id": "f82a4b10"
    },
    {
      "cell_type": "markdown",
      "metadata": {},
      "source": [
        "Because vectors are assumed to be column vectors, the (rounded) result\n",
        "above is equivalent to\n",
        "\n",
        "$$\n",
        "\\begin{bmatrix}\n",
        "0.11\\\\\n",
        "0.18\\\\\n",
        "2.96\n",
        "\\end{bmatrix}.\n",
        "$$\n",
        "\n",
        "## Example: Line of best fit ([YouTube](), [Panopto]())\n",
        "\n",
        "A common application of matrix algebra is finding the “line of best fit”\n",
        "for the points observed in a scatter plot.\n",
        "\n",
        "A line can be written as\n",
        "\n",
        "$$y = a + b x,$$\n",
        "\n",
        "where:\n",
        "\n",
        "-   $a$ is the y-intercept (the value of $y$ when $x = 0$).\n",
        "-   $b$ is the slope of the line. $y$ changes by $b$ when $x$ increases\n",
        "    by 1.\n",
        "\n",
        "Suppose that we observe $n$ paired sets of $(x, y)$ values\n",
        "\n",
        "$$(x_1, y_1), (x_2, y_2), \\ldots, (x_n, y_n).$$\n",
        "\n",
        "We want to find the values of $a$ and $b$ that minimize the residual sum\n",
        "of squares function\n",
        "\n",
        "$$\n",
        "RSS(a, b) = \\sum_{i=1}^n (y_i - a - b  x_i)^2.\n",
        "$$\n",
        "\n",
        "We can find the values of $a$ and $b$ using matrix algebra. First, we\n",
        "must define a matrix and a column vector.\n",
        "\n",
        "Define $$\n",
        "\\mathbf{X} = \n",
        "\\begin{bmatrix}\n",
        "1 & x_1 \\\\\n",
        "1 & x_2 \\\\\n",
        "\\vdots & \\vdots \\\\\n",
        "1 & x_n\n",
        "\\end{bmatrix}.\n",
        "$$\n",
        "\n",
        "Define\n",
        "\n",
        "$$\n",
        "\\mathbf{y} =\n",
        "\\begin{bmatrix}\n",
        "y_1 \\\\\n",
        "y_2 \\\\\n",
        "\\vdots \\\\\n",
        "y_n\n",
        "\\end{bmatrix}.\n",
        "$$\n",
        "\n",
        "The values of $a$ and $b$ that minimize $RSS(a, b)$, which we will call\n",
        "$\\hat{a}$ and $\\hat{b}$ are computed through the equation\n",
        "\n",
        "<span id=\"eq-ols-solution\">$$\n",
        "\\begin{bmatrix}\n",
        "\\hat{a} \\\\\n",
        "\\hat {b}\n",
        "\\end{bmatrix} = (\\mathbf{X}^T \\mathbf{X})^{-1} \\mathbf{X}^T \\mathbf{y}.\n",
        " \\qquad(1)$$</span>\n",
        "\n",
        "Let says we have the following 6 pairs of $(x, y)$ values:\n",
        "\n",
        "$$(1, 4.9), (1.3, 4.2), (1.7, 4.0), (2.1, 5.7), (3, 4.6), (3.5, 6.8).$$\n",
        "We turn these into two vectors, `x` and `y`, below."
      ],
      "id": "6569ce1e-efa9-47dd-8203-b7b944c8c2c9"
    },
    {
      "cell_type": "code",
      "execution_count": 34,
      "metadata": {},
      "outputs": [],
      "source": [
        "x <- c(1, 1.3, 1.7, 2.1, 3, 3.5)\n",
        "y <- c(4.9, 4.2, 4.0, 5.7, 4.6, 6.8)"
      ],
      "id": "828cb4f0"
    },
    {
      "cell_type": "markdown",
      "metadata": {},
      "source": [
        "We create a scatter plot of the vectors below."
      ],
      "id": "80787e1b-811e-413e-acf1-5abd032fe57a"
    },
    {
      "cell_type": "code",
      "execution_count": 35,
      "metadata": {},
      "outputs": [],
      "source": [
        "plot(x, y)"
      ],
      "id": "f7ac6f83"
    },
    {
      "cell_type": "markdown",
      "metadata": {},
      "source": [
        "We now create the $\\mathbf{X}$ matrix using the `cbind` function by\n",
        "combining a vector of 1s with `x`."
      ],
      "id": "9996914a-3a43-43b3-9ef5-824d433a5814"
    },
    {
      "cell_type": "code",
      "execution_count": 36,
      "metadata": {},
      "outputs": [],
      "source": [
        "X <- cbind(1, x)\n",
        "X"
      ],
      "id": "eaf1be61"
    },
    {
      "cell_type": "markdown",
      "metadata": {},
      "source": [
        "Now, we use [Equation 1](#eq-ols-solution) to determine the line of best\n",
        "fit.\n",
        "\n",
        "For clarity, we’ll first compute $\\mathbf{X}^T \\mathbf{X}$, then\n",
        "$\\mathbf{X}^T \\mathbf{y}$, and then use the `solve` function to obtain\n",
        "our solution."
      ],
      "id": "26fa65bf-f748-4f5b-b44c-0e849383ba88"
    },
    {
      "cell_type": "code",
      "execution_count": 37,
      "metadata": {},
      "outputs": [],
      "source": [
        "xtx <- t(X) %*% X\n",
        "xty <- t(X) %*% y\n",
        "solve(xtx, xty)"
      ],
      "id": "12849cc5"
    },
    {
      "cell_type": "markdown",
      "metadata": {},
      "source": [
        "Thus, our solution for $\\hat{a}$ and $\\hat{b}$ that minimize $RSS(a, b)$\n",
        "is $\\hat{a} = 3.58$ and $\\hat{b} = 0.69$.\n",
        "\n",
        "We use `abline` function to add the line of best fit to our scatter plot\n",
        "below."
      ],
      "id": "51a6ce33-bc73-469b-8e39-949d881954c1"
    },
    {
      "cell_type": "code",
      "execution_count": 38,
      "metadata": {},
      "outputs": [],
      "source": [
        "plot(x, y)\n",
        "abline(a = 3.58, b = 0.69)"
      ],
      "id": "4937f68f"
    },
    {
      "cell_type": "markdown",
      "metadata": {},
      "source": [
        "## Optimizing matrix algebra ([YouTube](), [Panopto]())\n",
        "\n",
        "It is straightforward to perform matrix algebra in R. However, it is\n",
        "more difficult to write *efficient* (faster) matrix code. We provide\n",
        "some basic tips below.\n",
        "\n",
        "### `crossprod` and `tcrossprod`\n",
        "\n",
        "The `crossprod` and `tcrossprod` functions are faster approaches to\n",
        "performing matrix multiplication when one of the matrices must first be\n",
        "transposed.\n",
        "\n",
        "If we have matrices `A` and `B` of compatible dimensions, then:\n",
        "\n",
        "-   `t(A) %*% B` is equivalent to `crossprod(A, B)`.\n",
        "-   `A %*% t(B)` is equivalent to `tcrossprod(A, B)`.\n",
        "\n",
        "`crossprod` and `tcrossprod` are faster than their equivalent approaches\n",
        "because the equivalent approaches compute the transpose of matrix in\n",
        "memory before performing the multiplication. The `crossprod` and\n",
        "`tcrossprod` functions modify their multiplication algorithms so that\n",
        "the transpose matrix doesn’t have to be created prior to multiplication.\n",
        "\n",
        "To illustrate this difference, we create `A`, a $50\\times 2$ matrix of\n",
        "values and `B`, a $50 \\times 2$ matrix of values by drawing the\n",
        "appropriate number of values from a standard normal distribution. We use\n",
        "the `set.seed` function to make the example reproducible."
      ],
      "id": "030b4b64-e68a-481a-a9fa-69a5bee509f7"
    },
    {
      "cell_type": "code",
      "execution_count": 39,
      "metadata": {},
      "outputs": [],
      "source": [
        "set.seed(314)\n",
        "A <- matrix(rnorm(100), ncol = 2)\n",
        "B <- matrix(rnorm(100), ncol = 2)"
      ],
      "id": "14dddb0a"
    },
    {
      "cell_type": "markdown",
      "metadata": {},
      "source": [
        "First, we use the `all.equal` function to confirm that the standard and\n",
        "optimized approaches produce the same results. `all.equal` confirms that\n",
        "the supplied objects are equal to each other."
      ],
      "id": "23f4a838-1abb-4dac-b8c0-6b09fb457a8f"
    },
    {
      "cell_type": "code",
      "execution_count": 40,
      "metadata": {},
      "outputs": [],
      "source": [
        "all.equal(t(A) %*% B, crossprod(A, B))"
      ],
      "id": "bfe42602"
    },
    {
      "cell_type": "code",
      "execution_count": 41,
      "metadata": {},
      "outputs": [],
      "source": [
        "all.equal(A %*% t(B), tcrossprod(A, B))"
      ],
      "id": "cd273e66"
    },
    {
      "cell_type": "markdown",
      "metadata": {},
      "source": [
        "We will use the `microbenchmark` function from the **microbenchmark**\n",
        "package (Mersmann 2023) to time the optimized and standard approaches to\n",
        "computing $\\mathbf{A}^T \\mathbf{B}$ and $\\mathbf{A} \\mathbf{B}^T$.\n",
        "\n",
        "We start by loading the **microbenchmark** package."
      ],
      "id": "0bb096f7-9639-4a0d-865c-42df4043826b"
    },
    {
      "cell_type": "code",
      "execution_count": 42,
      "metadata": {},
      "outputs": [],
      "source": [
        "library(microbenchmark)"
      ],
      "id": "fb204531"
    },
    {
      "cell_type": "markdown",
      "metadata": {},
      "source": [
        "We now compute $\\mathbf{A}^T \\mathbf{B}$ using the standard approach and\n",
        "using `crossprod` within the `microbenchmark` function. The\n",
        "`microbenchmark` function will perform each computation 100 times by\n",
        "default to determine the typical speed. We then use the `plot` function\n",
        "to plot the results."
      ],
      "id": "8d77c262-c47f-4158-8af6-37bf474548a3"
    },
    {
      "cell_type": "code",
      "execution_count": 43,
      "metadata": {},
      "outputs": [],
      "source": [
        "t1 <- microbenchmark::microbenchmark(t(A) %*% B, crossprod(A, B))\n",
        "plot(t1)"
      ],
      "id": "779e5f86"
    },
    {
      "cell_type": "markdown",
      "metadata": {},
      "source": [
        "While the results shown in the above plot will depend on the speed of\n",
        "the computer used to perform the calculation, the boxplot shown for\n",
        "`crossprod(A, B)` should be lower then `t(A) %*% B`, which means the\n",
        "`crossprod` approach is faster than the standard approach.\n",
        "\n",
        "We perform a simialr analysis for computing $\\mathbf{A}\\mathbf{B}^T$."
      ],
      "id": "f62eb8e8-6f92-4c15-86be-595a7f52dbb3"
    },
    {
      "cell_type": "code",
      "execution_count": 44,
      "metadata": {},
      "outputs": [],
      "source": [
        "t2 <- microbenchmark(A %*% t(B), tcrossprod(A, B))\n",
        "plot(t2)"
      ],
      "id": "9e4f7b4c"
    },
    {
      "cell_type": "markdown",
      "metadata": {},
      "source": [
        "Once again, the plot of our timing results should show that\n",
        "`tcrossprod(A, B)` can be computed faster than `A %*% t(B)`.\n",
        "\n",
        "### Order of matrix multiplication\n",
        "\n",
        "Matrix multiplication is associative, meaning that if we have compatible\n",
        "matrices $\\mathbf{A}$, $\\mathbf{B}$ and $\\mathbf{C}$, then\n",
        "$$(\\mathbf{A B})\\mathbf{C} = \\mathbf{A} (\\mathbf{B C}).$$\n",
        "\n",
        "The order of matrix multiplication can greatly impact how long it takes\n",
        "to perform the operations.\n",
        "\n",
        "**Prioritize performing operations that produce smaller matrices\n",
        "first.** Smaller can mean the total number of rows/columns or long/thin\n",
        "matrices, depending on the context.\n",
        "\n",
        "We create three matrices below filled with random values: `A` is a\n",
        "matrix of size $500\\times 2$, `B` is a matrix of size $2 \\times 50$, `C`\n",
        "is a $50\\times 1$ column vector."
      ],
      "id": "193b910b-3837-448b-823e-954484102f41"
    },
    {
      "cell_type": "code",
      "execution_count": 45,
      "metadata": {},
      "outputs": [],
      "source": [
        "set.seed(1999)\n",
        "A <- matrix(rnorm(1000), ncol = 2)\n",
        "B <- matrix(rnorm(100), nrow = 2)\n",
        "C <- rnorm(50)"
      ],
      "id": "4bbd67f4"
    },
    {
      "cell_type": "markdown",
      "metadata": {},
      "source": [
        "Computing $\\mathbf{A}(\\mathbf{BC})$ is much faster than computing\n",
        "$(\\mathbf{AB})\\mathbf{C}$ because $\\mathbf{BC}$ first produces\n",
        "$2\\times 1$ matrix while $\\mathbf{AB}$ produces a much larger\n",
        "$500 \\times 50$ matrix.\n",
        "\n",
        "We confirm this by timing these operations using the `microbenchmark`\n",
        "function and plotting the results."
      ],
      "id": "14193eb1-c1a5-4b2b-b8c4-93cace28212f"
    },
    {
      "cell_type": "code",
      "execution_count": 46,
      "metadata": {},
      "outputs": [],
      "source": [
        "t3 <- microbenchmark((A %*% B) %*% C,\n",
        "                     A %*% (B %*% C))\n",
        "plot(t3, las = 2, cex.axis = 0.5)"
      ],
      "id": "2724e37a"
    },
    {
      "cell_type": "markdown",
      "metadata": {},
      "source": [
        "# Arrays\n",
        "\n",
        "## What is an array? ([YouTube](), [Panopto]())\n",
        "\n",
        "An array is a multidimensional, homogeneous (one data type) data\n",
        "structure.\n",
        "\n",
        "-   Arrays can be 1, 2, 3, $\\ldots$ dimensions.\n",
        "-   Arrays are a generalization of a matrix.\n",
        "\n",
        "We will discuss 3-dimensional arrays because they are the easiest to\n",
        "visualize.\n",
        "\n",
        "A 3-dimensional array is like a loaf of bread.\n",
        "\n",
        "-   Each slice of bread is a two-dimensional matrix/array.\n",
        "-   We stack the matrix slices side-by-side to get the third dimension\n",
        "    of our array.\n",
        "\n",
        "## Creating an array in R ([YouTube](), [Panopto]())\n",
        "\n",
        "We can create an array in R using the `array` function.\n",
        "\n",
        "The two main arguments of the `array` function are:\n",
        "\n",
        "-   `data`: an atomic vector.\n",
        "-   `dim`: a numeric vector indicating the size of each dimension.\n",
        "\n",
        "Similar to the `matrix` function, the `array` function fills in the\n",
        "columns of each matrix before repeating the process for each element of\n",
        "the third dimension.\n",
        "\n",
        "We create a 3-dimensional array with dimension $3\\times 2 \\times 4$\n",
        "below."
      ],
      "id": "eb542891-3c1a-4bf2-8e92-8448bd291d44"
    },
    {
      "cell_type": "code",
      "execution_count": 47,
      "metadata": {},
      "outputs": [],
      "source": [
        "A <- array(1:24, dim = c(3, 2, 4))\n",
        "A"
      ],
      "id": "a6466b47"
    },
    {
      "cell_type": "markdown",
      "metadata": {},
      "source": [
        "Alternatively, we can bind matrices or arrays together using the `abind`\n",
        "function in the **abind** package (Plate and Heiberger 2016).\n",
        "\n",
        "This is actually a very complex function, but we illustrate its use for\n",
        "creating a 3-dimensional array by binding 2-dimensional matrices.\n",
        "\n",
        "-   Run `?abind::abind` in the Console for more details.\n",
        "\n",
        "We first load the **abind** package."
      ],
      "id": "16ceaa25-b1c8-4152-ab63-74b393f1912b"
    },
    {
      "cell_type": "code",
      "execution_count": 48,
      "metadata": {},
      "outputs": [],
      "source": [
        "library(abind)"
      ],
      "id": "81d2ea5e"
    },
    {
      "cell_type": "markdown",
      "metadata": {},
      "source": [
        "We now bind two matrices along a 3rd-dimension to create a 3-dimensional\n",
        "array."
      ],
      "id": "b9923102-7e38-4645-825e-2b567ccd3ae5"
    },
    {
      "cell_type": "code",
      "execution_count": 49,
      "metadata": {},
      "outputs": [],
      "source": [
        "A <- abind(\n",
        "      matrix(1:4, nrow = 2),\n",
        "      matrix(5:8, nrow = 2),\n",
        "      along = 3)\n",
        "A"
      ],
      "id": "c6c0e072"
    },
    {
      "cell_type": "markdown",
      "metadata": {},
      "source": [
        "We create a second 3-dimensional array (of size $2\\times 2 \\times 2$\n",
        "named `B` below."
      ],
      "id": "8242c593-5cfd-4ac4-8aa6-572dec46eb8b"
    },
    {
      "cell_type": "code",
      "execution_count": 50,
      "metadata": {},
      "outputs": [],
      "source": [
        "B <- array(9:16, dim = c(2, 2, 2))"
      ],
      "id": "268280a1"
    },
    {
      "cell_type": "markdown",
      "metadata": {},
      "source": [
        "To bind `A` and `B` together, we can use the `abind` function."
      ],
      "id": "e8f0dee3-ae53-4ab7-a3af-efd062325e17"
    },
    {
      "cell_type": "code",
      "execution_count": 51,
      "metadata": {},
      "outputs": [],
      "source": [
        "abind(A, B)"
      ],
      "id": "651553e4"
    },
    {
      "cell_type": "markdown",
      "metadata": {},
      "source": [
        "The `dim` function can be used to determine the size of an array."
      ],
      "id": "bd2f2336-1f57-4758-b83a-57d800e03787"
    },
    {
      "cell_type": "code",
      "execution_count": 52,
      "metadata": {},
      "outputs": [],
      "source": [
        "dim(A)"
      ],
      "id": "71a95bbe"
    },
    {
      "cell_type": "markdown",
      "metadata": {},
      "source": [
        "## Subsetting an array ([YouTube](), [Panopto]())\n",
        "\n",
        "We can subset an array in much the same way as a matrix. We use the `[`\n",
        "operator and provide vectors indicate the desired positions in each\n",
        "dimension that we want to extract, with each dimension being separated\n",
        "by a comma.\n",
        "\n",
        "# Lists\n",
        "\n",
        "## What is a list? ([YouTube](), [Panopto]())\n",
        "\n",
        "A list in R is a non-atomic vector.\n",
        "\n",
        "-   It is a vector, meaning it is one-dimensional.\n",
        "-   It is non-atomic, meaning it can hold data beyond the basic types\n",
        "    (`character`, `integer`, `double`, `logical`, `complex`, `raw`).\n",
        "\n",
        "Lists are commonly used in two different ways:\n",
        "\n",
        "1.  A vector with elements of the same non-atomic type, e.g., a vector\n",
        "    of `lm` objects from the `lm` function.\n",
        "2.  A vector of elements of many different types. This is often used in\n",
        "    objected-oriented programming in R, which we will not discuss.\n",
        "\n",
        "We will discuss the first type of list in the context of loops and apply\n",
        "functions, where they make more sense.\n",
        "\n",
        "We will discuss the second type below.\n",
        "\n",
        "## Creating a list ([YouTube](), [Panopto]())\n",
        "\n",
        "A list is stored as a `list` object.\n",
        "\n",
        "A `list` object can be created using the `list` function. Simply pass\n",
        "the objects you want to include the `list` as arguments to the `list`\n",
        "function.\n",
        "\n",
        "We provide an example below. We create a list that includes a vector, a\n",
        "matrix, and a function."
      ],
      "id": "dec65e50-d7ad-4e04-8704-8137f22cfe79"
    },
    {
      "cell_type": "code",
      "execution_count": 53,
      "metadata": {},
      "outputs": [],
      "source": [
        "list(1:10, matrix(1:10, nrow = 2), mean)"
      ],
      "id": "2cf37beb"
    },
    {
      "cell_type": "markdown",
      "metadata": {},
      "source": [
        "It is common to assign the elements of a list names to make them easier\n",
        "to reference. To do that, we simply use the syntax `name = x` in our\n",
        "list, where `name` is the name we want to give the element and `x` is\n",
        "the object we are including in our list."
      ],
      "id": "f135af2b-f1b1-47ad-9ab0-de4901eeadfc"
    },
    {
      "cell_type": "code",
      "execution_count": 54,
      "metadata": {},
      "outputs": [],
      "source": [
        "mylist <- list(a = 1:10, b = matrix(1:10, nrow = 2), f = mean)\n",
        "mylist"
      ],
      "id": "27ac0e3d"
    },
    {
      "cell_type": "markdown",
      "metadata": {},
      "source": [
        "We can create a new list by combining two or more other lists using the\n",
        "`c` function.\n",
        "\n",
        "We combine 3 simple lists below using the `c` function."
      ],
      "id": "fd3f051c-c1f7-447a-a617-9218a4a6e7ec"
    },
    {
      "cell_type": "code",
      "execution_count": 55,
      "metadata": {},
      "outputs": [],
      "source": [
        "c(list(1, 1:2), list(\"a\", c(\"a\", \"b\")), list(TRUE, c(TRUE, FALSE)))"
      ],
      "id": "2da267ed"
    },
    {
      "cell_type": "markdown",
      "metadata": {},
      "source": [
        "## Subsetting a list ([YouTube](), [Panopto]())\n",
        "\n",
        "Subsetting a list is more similar to subsetting an atomic vector than it\n",
        "is to subsetting a matrix or array.\n",
        "\n",
        "We create a simple 4-element list with names components below."
      ],
      "id": "510814df-7d3a-4187-8e36-6db42366172a"
    },
    {
      "cell_type": "code",
      "execution_count": 56,
      "metadata": {},
      "outputs": [],
      "source": [
        "a <- list(a = 1, b = 1:2, c = 1:3, d = 1:4)"
      ],
      "id": "977ada66"
    },
    {
      "cell_type": "markdown",
      "metadata": {},
      "source": [
        "To subset elements of the list, we append `[idx]` to the end of the\n",
        "list’s name, where `idx` is a vector with the indices of the elements we\n",
        "want to extract or a logical vector indicating the elements we want to\n",
        "extract.\n",
        "\n",
        "In the example below, we extract the 1st and 3rd elements of `a`."
      ],
      "id": "0f1d067b-9382-4570-909e-788ba1417fca"
    },
    {
      "cell_type": "code",
      "execution_count": 57,
      "metadata": {},
      "outputs": [],
      "source": [
        "a[c(1, 3)]"
      ],
      "id": "3a32db59"
    },
    {
      "cell_type": "markdown",
      "metadata": {},
      "source": [
        "In the next example, we use a logical vector to subset the 2nd and 4th\n",
        "elements of `a`."
      ],
      "id": "ca0f8a00-b41b-422c-b717-1928ff956a2f"
    },
    {
      "cell_type": "code",
      "execution_count": 58,
      "metadata": {},
      "outputs": [],
      "source": [
        "a[c(FALSE, TRUE, FALSE, TRUE)]"
      ],
      "id": "afa59962"
    },
    {
      "cell_type": "markdown",
      "metadata": {},
      "source": [
        "Since the elements of the list are named, we can also use a vector of\n",
        "character strings to indicate the elements we want to subset.\n",
        "\n",
        "We subset elements `c` and `d` below."
      ],
      "id": "df0f1a1d-860d-4975-9170-f4f036e36202"
    },
    {
      "cell_type": "code",
      "execution_count": 59,
      "metadata": {},
      "outputs": [],
      "source": [
        "a[c(\"c\", \"d\")]"
      ],
      "id": "2941a5d0"
    },
    {
      "cell_type": "markdown",
      "metadata": {},
      "source": [
        "If we want to extract a specific element out of our list, then we append\n",
        "`[[i]]` to the list’s name, with `i` indicating the index of the element\n",
        "we want to extract.\n",
        "\n",
        "In the example below, we extract the second element of `a`. Notice that\n",
        "the result is the vector `1:2`, which is what is contained in the 2nd\n",
        "element of `a`."
      ],
      "id": "6e685947-6137-4350-aad7-46e7a3b87ff3"
    },
    {
      "cell_type": "code",
      "execution_count": 60,
      "metadata": {},
      "outputs": [],
      "source": [
        "a[[2]]"
      ],
      "id": "b81cfa23"
    },
    {
      "cell_type": "markdown",
      "metadata": {},
      "source": [
        "What is the difference between the previous result and what we get from\n",
        "the following command?"
      ],
      "id": "34e56d9b-bc1d-4733-95bc-40b2e845a578"
    },
    {
      "cell_type": "code",
      "execution_count": 61,
      "metadata": {},
      "outputs": [],
      "source": [
        "a[2]"
      ],
      "id": "8ecc9ab1"
    },
    {
      "cell_type": "markdown",
      "metadata": {},
      "source": [
        "In the former example, we extracted the object that was in the 2nd\n",
        "element of `a`. In the latter example, we get a list with only one\n",
        "element. The only element of this list is what was previously the 2nd\n",
        "element of `a`.\n",
        "\n",
        "For a list with named components, we can use the `$` operator to extract\n",
        "a specific element.\n",
        "\n",
        "In the code below, we extract the object in element `\"c\"` of `a`."
      ],
      "id": "92bbe980-1709-463f-b2e2-57507b6b71f8"
    },
    {
      "cell_type": "code",
      "execution_count": 62,
      "metadata": {},
      "outputs": [],
      "source": [
        "a$c"
      ],
      "id": "4aba4a72"
    },
    {
      "cell_type": "markdown",
      "metadata": {},
      "source": [
        "## Nested Lists ([YouTube](), [Panopto]())\n",
        "\n",
        "We can create lists of lists of lists, which created “nested” lists\n",
        "because the lists are nested in each other.\n",
        "\n",
        "In that case, to subset elements of the lists, we might need to stack\n",
        "usage of `[]` or `[[]]` side by side to subset or extract the desired\n",
        "elements.\n",
        "\n",
        "We create a nested list below."
      ],
      "id": "736c5335-3d3f-4f10-8fa2-cdffbc594a70"
    },
    {
      "cell_type": "code",
      "execution_count": 63,
      "metadata": {},
      "outputs": [],
      "source": [
        "b <- list(list(1, 1:2, list(3, 3:4)), 5:7)\n",
        "b"
      ],
      "id": "cb712f20"
    },
    {
      "cell_type": "markdown",
      "metadata": {},
      "source": [
        "The first element of the top-level of the list is another list with the\n",
        "second element is the vector `5:7`."
      ],
      "id": "722d9441-3ecf-4bce-87de-af1e64b53819"
    },
    {
      "cell_type": "code",
      "execution_count": 64,
      "metadata": {},
      "outputs": [],
      "source": [
        "b[[1]]"
      ],
      "id": "d5e5d625"
    },
    {
      "cell_type": "code",
      "execution_count": 65,
      "metadata": {},
      "outputs": [],
      "source": [
        "b[[2]]"
      ],
      "id": "29146355"
    },
    {
      "cell_type": "markdown",
      "metadata": {},
      "source": [
        "`b[[1]]` is a list with 3 elements: the first element is the vector `1`,\n",
        "the second element is the vector `[3]`, while the third element is\n",
        "another list with two elements.\n",
        "\n",
        "We can subset the first two elements of `b[[1]]` by appending `[1:2]` to\n",
        "the previous syntax."
      ],
      "id": "aa669ed6-7442-4caa-a0b3-b18e14801c5a"
    },
    {
      "cell_type": "code",
      "execution_count": 66,
      "metadata": {},
      "outputs": [],
      "source": [
        "b[[1]][1:2]"
      ],
      "id": "43f73ffd"
    },
    {
      "cell_type": "markdown",
      "metadata": {},
      "source": [
        "We can extract the third element of `b[[1]]` by appending `[[3]]` to the\n",
        "previous syntax."
      ],
      "id": "997f2fbb-4aed-4bff-ad75-a663d694bdf3"
    },
    {
      "cell_type": "code",
      "execution_count": 67,
      "metadata": {},
      "outputs": [],
      "source": [
        "b[[1]][[3]]"
      ],
      "id": "b15086e6"
    },
    {
      "cell_type": "markdown",
      "metadata": {},
      "source": [
        "We can access information contained in the 3rd element of the list\n",
        "contained in element of `b` in a similar way.\n",
        "\n",
        "Mersmann, Olaf. 2023. *Microbenchmark: Accurate Timing Functions*.\n",
        "<https://github.com/joshuaulrich/microbenchmark/>.\n",
        "\n",
        "Plate, Tony, and Richard Heiberger. 2016. *Abind: Combine\n",
        "Multidimensional Arrays*. <https://CRAN.R-project.org/package=abind>."
      ],
      "id": "50c50f36-a80d-43b3-9993-884a846b4b8a"
    }
  ],
  "nbformat": 4,
  "nbformat_minor": 5,
  "metadata": {
    "kernelspec": {
      "name": "ir",
      "display_name": "R",
      "language": "R"
    },
    "language_info": {
      "name": "R",
      "codemirror_mode": "r",
      "file_extension": ".r",
      "mimetype": "text/x-r-source",
      "pygments_lexer": "r",
      "version": "4.2.2"
    }
  }
}