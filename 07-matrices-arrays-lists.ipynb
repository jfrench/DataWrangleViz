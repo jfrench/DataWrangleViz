{
  "cells": [
    {
      "cell_type": "markdown",
      "metadata": {},
      "source": [
        "# Matrices, Arrays, and Lists\n",
        "\n",
        "Joshua P. French  \n",
        "October 16, 2023\n",
        "\n",
        "To open this information in an interactive Colab notebook, click the\n",
        "Open in Colab graphic below.\n",
        "\n",
        "<a href=\"https://colab.research.google.com/github/jfrench/DataWrangleViz/blob/master/07-matrices-arrays-lists.ipynb\">\n",
        "<img src=\"https://colab.research.google.com/assets/colab-badge.svg\">\n",
        "</a>\n",
        "\n",
        "------------------------------------------------------------------------\n",
        "\n",
        "In this module we will cover some additional data structures available\n",
        "in R that were not covered in the Crash Course in R Module.\n",
        "Specifically, we will discuss matrices, arrays, and lists. These data\n",
        "structures are fundamental to performing data analysis in R,\n",
        "particularly if we need to program our own methods.\n",
        "\n",
        "We start by making sure the necessary R packages are installed."
      ],
      "id": "770f7c30-7fa4-4dff-bc3e-f089f8b0323d"
    },
    {
      "cell_type": "code",
      "execution_count": 2,
      "metadata": {},
      "outputs": [],
      "source": [
        "if(!require(microbenchmark, quietly = TRUE)) {\n",
        "  install.packages(\"microbenchmark\",\n",
        "                   repos = \"https://cran.rstudio.com/\")\n",
        "}"
      ],
      "id": "03b23062"
    },
    {
      "cell_type": "code",
      "execution_count": 3,
      "metadata": {},
      "outputs": [],
      "source": [
        "if(!require(abind, quietly = TRUE)) {\n",
        "  install.packages(\"abind\",\n",
        "                   repos = \"https://cran.rstudio.com/\")\n",
        "}"
      ],
      "id": "a12724f3"
    },
    {
      "cell_type": "markdown",
      "metadata": {},
      "source": [
        "# Matrices and matrix algebra\n",
        "\n",
        "## Why are matrices and matrix algebra important knowledge for data scientists? ([YouTube](https://youtu.be/40THrClg9Ho), [Panopto](https://ucdenver.hosted.panopto.com/Panopto/Pages/Viewer.aspx?id=f36ecb67-06e8-45a1-8fb8-b099015ade57))\n",
        "\n",
        "Understanding how to use matrices is foundational knowledge for any data\n",
        "scientist.\n",
        "\n",
        "-   Matrices are a simple, efficient way of storing many kinds of data.\n",
        "-   Matrix algebra is the most basic way of manipulating data\n",
        "    represented in matrix format.\n",
        "\n",
        "Numeric matrices are often needed to implement complex algorithms used\n",
        "for data science methods related to regression, optimization, and\n",
        "classification.\n",
        "\n",
        "## What is a matrix? ([YouTube](https://youtu.be/BrNr3cpLxQY), [Panopto](https://ucdenver.hosted.panopto.com/Panopto/Pages/Viewer.aspx?id=35569ba5-8909-4a0b-bb3a-b099015b52e4))\n",
        "\n",
        "A matrix is a two-dimensional object whose values have the same data\n",
        "type.\n",
        "\n",
        "-   We can have numeric, character, or logical matrices, but only one\n",
        "    data type can exist at a time in a matrix.\n",
        "\n",
        "A matrix $\\mathbf{A}$ with $m$ rows and $n$ columns (an $m\\times n$\n",
        "matrix) will be denoted as\n",
        "\n",
        "$$\n",
        "\\mathbf{A} = \\begin{bmatrix}\n",
        "\\mathbf{A}_{1,1} & \\mathbf{A}_{1,2} & \\cdots & \\mathbf{A}_{1,n} \\\\\n",
        "\\mathbf{A}_{2,1} & \\mathbf{A}_{2,2} & \\cdots & \\mathbf{A}_{2,n} \\\\\n",
        "\\vdots & \\vdots & \\ddots & \\vdots \\\\\n",
        "\\mathbf{A}_{m,1} & \\mathbf{A}_{m,2} & \\cdots & \\mathbf{A}_{m,n} \\\\\n",
        "\\end{bmatrix},\n",
        "$$\n",
        "\n",
        "where $\\mathbf{A}_{i,j}$ denotes the element in row $i$ and column $j$\n",
        "of matrix $\\mathbf{A}$.\n",
        "\n",
        "A **column vector** is a matrix with a single column. A **row vector**\n",
        "is a matrix with a single row.\n",
        "\n",
        "-   Vectors are commonly denoted with bold lowercase letters such as\n",
        "    $\\mathbf{a}$ or $\\mathbf{b}$, but this may be simplified to\n",
        "    lowercase letters such as $a$ or $b$.\n",
        "\n",
        "A $p\\times 1$ column vector $\\mathbf{a}$ may constructed as\n",
        "\n",
        "$$\n",
        "\\mathbf{a} = [a_1, a_2, \\ldots, a_p] = \n",
        "\\begin{bmatrix}\n",
        "a_1 \\\\ a_2 \\\\ \\vdots \\\\ a_p\n",
        "\\end{bmatrix}.\n",
        "$$\n",
        "\n",
        "A vector is assumed to be a column vector unless otherwise indicated.\n",
        "\n",
        "## Creating a matrix ([YouTube](https://youtu.be/OsO39R0S6nY), [Panopto](https://ucdenver.hosted.panopto.com/Panopto/Pages/Viewer.aspx?id=bf3047ad-d8ea-4ba0-99c0-b099015b6066))\n",
        "\n",
        "A matrix can be created in R by passing a vector to the `matrix`\n",
        "function and specifying the number of rows and columns the matrix will\n",
        "have.\n",
        "\n",
        "-   The values of the vector will be placed into the matrix one column\n",
        "    at a time.\n",
        "-   The `nrow` argument specifies the number of rows.\n",
        "-   The `ncol` argument specifies the number of columns.\n",
        "\n",
        "Let’s create a $5\\times 2$ matrix with the elements $1, 2, \\ldots, 5$ in\n",
        "the first column and $6, 7, \\ldots, 10$ in the second column."
      ],
      "id": "8413812a-d9b6-486e-8633-9e7c1de7adfe"
    },
    {
      "cell_type": "code",
      "execution_count": 4,
      "metadata": {},
      "outputs": [],
      "source": [
        "A <- matrix(1:10, nrow = 5, ncol = 2)\n",
        "A"
      ],
      "id": "c84afd9c"
    },
    {
      "cell_type": "markdown",
      "metadata": {},
      "source": [
        "If we change the `byrow` argument of the `matrix` function to `TRUE`,\n",
        "then the values will be placed row by row, as in the example below."
      ],
      "id": "544a9da3-0ef2-4dab-ba10-7be044e5ab16"
    },
    {
      "cell_type": "code",
      "execution_count": 5,
      "metadata": {},
      "outputs": [],
      "source": [
        "matrix(1:6, nrow = 2, ncol = 3, byrow = TRUE)"
      ],
      "id": "92694686"
    },
    {
      "cell_type": "markdown",
      "metadata": {},
      "source": [
        "The `cbind` and `rbind` functions can be used to create a `matrix`\n",
        "object by combining vectors by columns or rows, respectively.\n",
        "\n",
        "In the example below, we combine the vectors \\[1, 2, 3, 4\\] and \\[5, 6,\n",
        "7, 8\\] columnwise to create a matrix."
      ],
      "id": "3de742a2-3393-490a-806b-6238b3b003ae"
    },
    {
      "cell_type": "code",
      "execution_count": 6,
      "metadata": {},
      "outputs": [],
      "source": [
        "cbind(1:4, 5:8)"
      ],
      "id": "40cbb7ce"
    },
    {
      "cell_type": "markdown",
      "metadata": {},
      "source": [
        "Alternatively, we can use the `rbind` function to create a matrix by\n",
        "combining the vectors row by row."
      ],
      "id": "1a9fcc18-5594-4756-b499-45a681dbe383"
    },
    {
      "cell_type": "code",
      "execution_count": 7,
      "metadata": {},
      "outputs": [],
      "source": [
        "rbind(1:4, 5:8)"
      ],
      "id": "0368abfc"
    },
    {
      "cell_type": "markdown",
      "metadata": {},
      "source": [
        "The `dim` function can be used to determine/confirm the number of rows\n",
        "or columns in a matrix."
      ],
      "id": "0644b6fa-bc2c-4205-8349-a3c5ea8d0126"
    },
    {
      "cell_type": "code",
      "execution_count": 8,
      "metadata": {},
      "outputs": [],
      "source": [
        "dim(A)"
      ],
      "id": "15873c2d"
    },
    {
      "cell_type": "markdown",
      "metadata": {},
      "source": [
        "The `nrow` and `ncol` functions can be used to determine the number of\n",
        "rows and columns, respectively, in a `matrix` object."
      ],
      "id": "aec70460-20e1-4bc0-a9af-422a697ee11d"
    },
    {
      "cell_type": "code",
      "execution_count": 9,
      "metadata": {},
      "outputs": [],
      "source": [
        "nrow(A)"
      ],
      "id": "ad5bd16c"
    },
    {
      "cell_type": "code",
      "execution_count": 10,
      "metadata": {},
      "outputs": [],
      "source": [
        "ncol(A)"
      ],
      "id": "fd67c4be"
    },
    {
      "cell_type": "markdown",
      "metadata": {},
      "source": [
        "## Subsetting a matrix ([YouTube](https://youtu.be/vm-biax5mmg), [Panopto](https://ucdenver.hosted.panopto.com/Panopto/Pages/Viewer.aspx?id=9d1da8bf-1118-4105-9eb8-b099015bc078))\n",
        "\n",
        "We can access a subset of a `matrix` object using the `[` operator and\n",
        "providing vectors with the desired rows and columns separated by a\n",
        "comma.\n",
        "\n",
        "If `A` is a matrix, then we can select the subset of `A` using the\n",
        "syntax `A[r, c]`, where `r` and `c` are `numeric` vector indicating the\n",
        "desired rows and columns, respectively, that we want to select.\n",
        "\n",
        "-   If we select a single row or column, then the subsetted object will\n",
        "    simplify to `vector` object instead of a `matrix`.\n",
        "-   If we don’t supply a vector of rows or columns, then all rows or\n",
        "    columns will be returned.\n",
        "-   We can use the `-` notation to select all but the specified rows or\n",
        "    columns. This is similar to the syntax used for data frames.\n",
        "\n",
        "This is easiest to understand by walking through a set of examples.\n",
        "\n",
        "Let’s define a $4\\times 3$ matrix, `B`, below."
      ],
      "id": "bf64e201-d64e-4339-a93a-09f173049ff4"
    },
    {
      "cell_type": "code",
      "execution_count": 11,
      "metadata": {},
      "outputs": [],
      "source": [
        "B <- matrix(1:12, ncol = 3)\n",
        "B"
      ],
      "id": "b12e9d91"
    },
    {
      "cell_type": "markdown",
      "metadata": {},
      "source": [
        "Let’s select columns 2 and 3 of `B`."
      ],
      "id": "cbca71ae-cf44-4f7b-a8fb-87d17c2f1743"
    },
    {
      "cell_type": "code",
      "execution_count": 12,
      "metadata": {},
      "outputs": [],
      "source": [
        "B[, 2:3]"
      ],
      "id": "f16cf60d"
    },
    {
      "cell_type": "markdown",
      "metadata": {},
      "source": [
        "Let’s select rows 1 and 4 of `B`."
      ],
      "id": "7e10f963-7a93-430b-aabe-2a572ed018b4"
    },
    {
      "cell_type": "code",
      "execution_count": 13,
      "metadata": {},
      "outputs": [],
      "source": [
        "B[c(1, 4), ]"
      ],
      "id": "41f51124"
    },
    {
      "cell_type": "markdown",
      "metadata": {},
      "source": [
        "Let’s select columns 2 and 3 of rows 1 and 4 of `B`."
      ],
      "id": "112988a4-3beb-4659-93df-6114b6e577b2"
    },
    {
      "cell_type": "code",
      "execution_count": 14,
      "metadata": {},
      "outputs": [],
      "source": [
        "B[c(1, 4), 2:3]"
      ],
      "id": "8ddd85dc"
    },
    {
      "cell_type": "markdown",
      "metadata": {},
      "source": [
        "Let’s select all columns of `B` except the third."
      ],
      "id": "9eca3576-73ad-4a91-8945-eaad50dab6f5"
    },
    {
      "cell_type": "code",
      "execution_count": 15,
      "metadata": {},
      "outputs": [],
      "source": [
        "B[,-3]"
      ],
      "id": "f718417f"
    },
    {
      "cell_type": "markdown",
      "metadata": {},
      "source": [
        "Our matrix simplifies to a vector if we only select a single row or\n",
        "column.\n",
        "\n",
        "We select the second row of `B`."
      ],
      "id": "91274a21-5db4-44dc-829f-c305b4c2e430"
    },
    {
      "cell_type": "code",
      "execution_count": 16,
      "metadata": {},
      "outputs": [],
      "source": [
        "B[2, ]"
      ],
      "id": "87956067"
    },
    {
      "cell_type": "markdown",
      "metadata": {},
      "source": [
        "We select the second column of `B`."
      ],
      "id": "139dc061-6d3f-4dae-8c64-8e99d4d24e73"
    },
    {
      "cell_type": "code",
      "execution_count": 17,
      "metadata": {},
      "outputs": [],
      "source": [
        "B[,2]"
      ],
      "id": "86d92f7c"
    },
    {
      "cell_type": "markdown",
      "metadata": {},
      "source": [
        "If we want to retain the `matrix` structure of `B` when we select a\n",
        "single row or column, then we set the optional `drop` argument to\n",
        "`FALSE` after the column argument."
      ],
      "id": "d38430ed-418b-4397-b944-2229dfe0f127"
    },
    {
      "cell_type": "code",
      "execution_count": 18,
      "metadata": {},
      "outputs": [],
      "source": [
        "B[2, , drop = FALSE]"
      ],
      "id": "dad7c858"
    },
    {
      "cell_type": "code",
      "execution_count": 19,
      "metadata": {},
      "outputs": [],
      "source": [
        "B[, 2, drop = FALSE]"
      ],
      "id": "d32c5a77"
    },
    {
      "cell_type": "markdown",
      "metadata": {},
      "source": [
        "## Matrix operations\n",
        "\n",
        "### Addition and subtraction ([YouTube](), [Panopto]())\n",
        "\n",
        "We can add or subtract the elements of two matrices as long as they have\n",
        "the same size.\n",
        "\n",
        "We create two $2\\times 3$ matrices below."
      ],
      "id": "531dbda0-80c1-4469-9198-76bba668db13"
    },
    {
      "cell_type": "code",
      "execution_count": 20,
      "metadata": {},
      "outputs": [],
      "source": [
        "A <- matrix(1:6, nrow = 2, ncol = 3, byrow = TRUE)\n",
        "A"
      ],
      "id": "46c23eae"
    },
    {
      "cell_type": "code",
      "execution_count": 21,
      "metadata": {},
      "outputs": [],
      "source": [
        "B <- matrix(c(2, 1, 9, 3, 1, 1), nrow = 2, ncol = 3)\n",
        "B"
      ],
      "id": "de10fa7d"
    },
    {
      "cell_type": "markdown",
      "metadata": {},
      "source": [
        "We can add the two matrices below using the `+` operator. The result is\n",
        "simply the sum of the values in the same position of the matrices."
      ],
      "id": "a6559f14-e129-402b-9413-b9666e6efb2e"
    },
    {
      "cell_type": "code",
      "execution_count": 22,
      "metadata": {},
      "outputs": [],
      "source": [
        "A + B"
      ],
      "id": "2ef32d76"
    },
    {
      "cell_type": "markdown",
      "metadata": {},
      "source": [
        "Subtraction works in the same way, as shown below."
      ],
      "id": "70cdebb6-5307-48a6-8917-f65f5c2cf004"
    },
    {
      "cell_type": "code",
      "execution_count": 23,
      "metadata": {},
      "outputs": [],
      "source": [
        "A - B"
      ],
      "id": "10c8c79d"
    },
    {
      "cell_type": "markdown",
      "metadata": {},
      "source": [
        "### Scalar multiplication ([YouTube](), [Panopto]())\n",
        "\n",
        "A matrix multiplied by a scalar value $c\\in\\mathbb{R}$ is the matrix\n",
        "obtained by multiplying each element of the matrix by $c$.\n",
        "\n",
        "To perform scalar multiplication in R, we simply use the `*` operator to\n",
        "multiply the scalar value by the matrix.\n",
        "\n",
        "In the code below, we double the values in `A`."
      ],
      "id": "92968674-f10a-444b-a228-424fd52898eb"
    },
    {
      "cell_type": "code",
      "execution_count": 24,
      "metadata": {},
      "outputs": [],
      "source": [
        "2 * A"
      ],
      "id": "33d907ef"
    },
    {
      "cell_type": "markdown",
      "metadata": {},
      "source": [
        "### Matrix multiplication ([YouTube](), [Panopto]())\n",
        "\n",
        "Consider two matrices $\\mathbf{A}$ and $\\mathbf{B}$. The matrix product\n",
        "$\\mathbf{AB}$ is only defined if the number of columns in $\\mathbf{A}$\n",
        "matches the number of rows in $\\mathbf{B}$.\n",
        "\n",
        "Assume $\\mathbf{A}$ is an $m\\times n$ matrix and $\\mathbf{B}$ is an\n",
        "$n\\times p$ matrix. $\\mathbf{AB}$ will be an $m\\times p$ matrix and $$\n",
        "(\\mathbf{AB})_{i,j} = \\sum_{k=1}^{n} \\mathbf{A}_{i,k}\\mathbf{B}_{k,j}.\n",
        "$$\n",
        "\n",
        "We consider multiplying the two matrices below.\n",
        "\n",
        "$$\n",
        "\\begin{bmatrix}\n",
        "1 & 2 & 3 \\\\\n",
        "4 & 5 & 6\n",
        "\\end{bmatrix}\n",
        "\\begin{bmatrix}\n",
        "1 & 4\\\\\n",
        "2 & 5\\\\\n",
        "3 & 6\n",
        "\\end{bmatrix}=\n",
        "\\begin{bmatrix}\n",
        "1\\cdot 1 +  2 \\cdot 2 + 3 \\cdot 3 & 1 \\cdot 4 + 2 \\cdot 5 + 3 \\cdot 6\\\\\n",
        "4\\cdot 1 +  5 \\cdot 2 + 6 \\cdot 3 & 4 \\cdot 4 + 5 \\cdot 5 + 6 \\cdot 6\\\\\n",
        "\\end{bmatrix}=\n",
        "\\begin{bmatrix}\n",
        "14 & 32\\\\\n",
        "32 & 77\\\\\n",
        "\\end{bmatrix}.\n",
        "$$\n",
        "\n",
        "We multiply two matrices of the correct size using the `%*%` operator.\n",
        "Let’s multiply these same matrices using R"
      ],
      "id": "a6d0ea0d-663d-49ef-a147-3d99d6c9614d"
    },
    {
      "cell_type": "code",
      "execution_count": 25,
      "metadata": {},
      "outputs": [],
      "source": [
        "A"
      ],
      "id": "77251c75"
    },
    {
      "cell_type": "code",
      "execution_count": 26,
      "metadata": {},
      "outputs": [],
      "source": [
        "B <- matrix(1:6, nrow = 3, ncol = 2)\n",
        "B"
      ],
      "id": "0baf1ea0"
    },
    {
      "cell_type": "code",
      "execution_count": 27,
      "metadata": {},
      "outputs": [],
      "source": [
        "A %*% B"
      ],
      "id": "2087cdc5"
    },
    {
      "cell_type": "markdown",
      "metadata": {},
      "source": [
        "### Elementwise matrix multiplication ([YouTube](), [Panopto]())\n",
        "\n",
        "Consider two matrices $\\mathbf{A}$ and $\\mathbf{B}$ that have the same\n",
        "dimensions. The elementwise product, denoted\n",
        "$\\mathbf{A} \\circ \\mathbf{B}$ is the product of the elements in the same\n",
        "position of the matrix.\n",
        "\n",
        "Assume $\\mathbf{A}$ and $\\mathbf{B}$ are $n\\times m$ matrices.\n",
        "$\\mathbf{A} \\circ \\mathbf{B}$ will be an $n\\times m$ matrix and $$\n",
        "(\\mathbf{A} \\circ \\mathbf{B})_{i,j} = \\mathbf{A}_{i,j}\\mathbf{B}_{i,j}.\n",
        "$$\n",
        "\n",
        "We perform elementwise multiplication of the two matrices below.\n",
        "\n",
        "$$\n",
        "\\begin{bmatrix}\n",
        "1 & 4\\\\\n",
        "2 & 5\\\\\n",
        "3 & 6\n",
        "\\end{bmatrix} \\circ\n",
        "\\begin{bmatrix}\n",
        "7 & 10\\\\\n",
        "8 & 11\\\\\n",
        "9 & 12\n",
        "\\end{bmatrix}=\n",
        "\\begin{bmatrix}\n",
        "1 \\cdot 7 & 4 \\cdot 10\\\\\n",
        "2 \\cdot 8 & 5 \\cdot 11\\\\\n",
        "3 \\cdot 9 & 6 \\cdot 12\n",
        "\\end{bmatrix}=\n",
        "\\begin{bmatrix}\n",
        "7 & 40\\\\\n",
        "16 & 55\\\\\n",
        "27 & 72\n",
        "\\end{bmatrix}.\n",
        "$$\n",
        "\n",
        "We perform elementwise multiplication of two matrices of the correct\n",
        "size using the `*` operator. Let’s multiply these same matrices using R"
      ],
      "id": "2cc13e5b-deef-4749-aed4-c66b61702661"
    },
    {
      "cell_type": "code",
      "execution_count": 28,
      "metadata": {},
      "outputs": [],
      "source": [
        "A <- matrix(1:6, ncol = 2)\n",
        "A"
      ],
      "id": "75a9e968"
    },
    {
      "cell_type": "code",
      "execution_count": 29,
      "metadata": {},
      "outputs": [],
      "source": [
        "B <- matrix(7:12, ncol = 2)"
      ],
      "id": "ea83950e"
    },
    {
      "cell_type": "code",
      "execution_count": 30,
      "metadata": {},
      "outputs": [],
      "source": [
        "B"
      ],
      "id": "4421c12f"
    },
    {
      "cell_type": "code",
      "execution_count": 31,
      "metadata": {},
      "outputs": [],
      "source": [
        "A * B"
      ],
      "id": "aa3b7a4f"
    },
    {
      "cell_type": "markdown",
      "metadata": {},
      "source": [
        "### Transpose ([YouTube](), [Panopto]())\n",
        "\n",
        "The **transpose** of a matrix $\\mathbf{A}$, denoted $\\mathbf{A}^T$,\n",
        "exchanges the rows and columns of the matrix. More formally, the $i,j$\n",
        "element of $\\mathbf{A}^T$ is the $j,i$ element of $\\mathbf{A}$, i.e.,\n",
        "$(\\mathbf{A}^T)_{i,j} = \\mathbf{A}_{j,i}$.\n",
        "\n",
        "We can use the `t` function to obtain the transpose of a matrix.\n",
        "\n",
        "We print the matrix `A` that we have previously defined."
      ],
      "id": "b99477ca-3f3d-422c-bcb4-019d7837a31b"
    },
    {
      "cell_type": "code",
      "execution_count": 32,
      "metadata": {},
      "outputs": [],
      "source": [
        "A"
      ],
      "id": "0baa7f9f"
    },
    {
      "cell_type": "markdown",
      "metadata": {},
      "source": [
        "We compute the transpose of `A` using `t`."
      ],
      "id": "064d75d0-ccba-4106-8c10-d558f6961bc9"
    },
    {
      "cell_type": "code",
      "execution_count": 33,
      "metadata": {},
      "outputs": [],
      "source": [
        "t(A)"
      ],
      "id": "8d334d41"
    },
    {
      "cell_type": "markdown",
      "metadata": {},
      "source": [
        "## Special matrices ([YouTube](), [Panopto]())\n",
        "\n",
        "### Square matrices\n",
        "\n",
        "A matrix is **square** if the number of rows equals the number of\n",
        "columns.\n",
        "\n",
        "The **diagonal elements** of an $n\\times n$ square matrix $\\mathbf{A}$\n",
        "are the elements $\\mathbf{A}_{i,i}$ for $i = 1, 2, \\ldots, n$.\n",
        "\n",
        "Non-diagonal elements of $\\mathbf{A}$ are called **off-diagonal**\n",
        "elements.\n",
        "\n",
        "### Identity matrix\n",
        "\n",
        "The $n\\times n$ **identity** matrix, $\\mathbf{I}_{n \\times n}$, is a\n",
        "matrix for which the diagonal elements are all 1 and the non-diagonal\n",
        "elements are all 0.\n",
        "\n",
        "-   Context often makes it clear what the dimensions of an identity\n",
        "    matrix are, so the notation for $\\mathbf{I}_{n\\times n}$ is often\n",
        "    simplified to $\\mathbf{I}$ or $I$.\n",
        "\n",
        "The syntax `diag(n)` will create an $n\\times n$ identity matrix in R.\n",
        "\n",
        "We create a $3\\times 3$ identify matrix below."
      ],
      "id": "f5e07217-7fb9-4205-8103-b83710d1dffc"
    },
    {
      "cell_type": "code",
      "execution_count": 34,
      "metadata": {},
      "outputs": [],
      "source": [
        "diag(3)"
      ],
      "id": "04d08ef3"
    },
    {
      "cell_type": "markdown",
      "metadata": {},
      "source": [
        "### Inverse matrix\n",
        "\n",
        "An $n\\times n$ matrix $\\mathbf{A}$ is invertible if there exists a\n",
        "matrix $\\mathbf{B}$ such that\n",
        "$\\mathbf{AB}=\\mathbf{BA}=\\mathbf{I}_{n\\times n}$.\n",
        "\n",
        "The inverse of $\\mathbf{A}$ is denoted $\\mathbf{A}^{-1}$.\n",
        "\n",
        "-   Inverse matrices only exist for square matrices.\n",
        "\n",
        "The `solve` function can be used to compute the inverse of matrix, e.g.,\n",
        "`solve(A)`.\n",
        "\n",
        "-   This will likely cause numeric issues, so don’t do this.\n",
        "\n",
        "Inverse matrices are nearly always multiplied by a different matrix,\n",
        "e.g., $\\mathbf{b}$.\n",
        "\n",
        "To compute $\\mathbf{A}^{-1} \\mathbf{b}$, we use the syntax\n",
        "`solve(A, b)`.\n",
        "\n",
        "In the example below, we use `solve` to compute\n",
        "$\\mathbf{A}^{-1} \\mathbf{b}$."
      ],
      "id": "e879c2fe-aa0e-4279-b712-fb377750f42b"
    },
    {
      "cell_type": "code",
      "execution_count": 35,
      "metadata": {},
      "outputs": [],
      "source": [
        "A <- matrix(c(3, 0.5, 0.2, \n",
        "              0.5, 2, 0.1,\n",
        "              0.2, 0.1, 1),\n",
        "            nrow = 3)\n",
        "A"
      ],
      "id": "bb4293fd"
    },
    {
      "cell_type": "code",
      "execution_count": 36,
      "metadata": {},
      "outputs": [],
      "source": [
        "b <- c(1, 0.7, 3)\n",
        "b"
      ],
      "id": "7577531c"
    },
    {
      "cell_type": "code",
      "execution_count": 37,
      "metadata": {},
      "outputs": [],
      "source": [
        "solve(A, b)"
      ],
      "id": "a7ccf44c"
    },
    {
      "cell_type": "markdown",
      "metadata": {},
      "source": [
        "Because vectors are assumed to be column vectors, the (rounded) result\n",
        "above is equivalent to\n",
        "\n",
        "$$\n",
        "\\begin{bmatrix}\n",
        "0.11\\\\\n",
        "0.18\\\\\n",
        "2.96\n",
        "\\end{bmatrix}.\n",
        "$$\n",
        "\n",
        "## Example: Line of best fit ([YouTube](), [Panopto]())\n",
        "\n",
        "A common application of matrix algebra is finding the “line of best fit”\n",
        "for the points observed in a scatter plot.\n",
        "\n",
        "A line can be written as\n",
        "\n",
        "$$y = a + b x,$$\n",
        "\n",
        "where:\n",
        "\n",
        "-   $a$ is the y-intercept (the value of $y$ when $x = 0$).\n",
        "-   $b$ is the slope of the line. $y$ changes by $b$ when $x$ increases\n",
        "    by 1.\n",
        "\n",
        "Suppose that we observe $n$ paired sets of $(x, y)$ values\n",
        "\n",
        "$$(x_1, y_1), (x_2, y_2), \\ldots, (x_n, y_n).$$\n",
        "\n",
        "We want to find the values of $a$ and $b$ that minimize the residual sum\n",
        "of squares function\n",
        "\n",
        "$$\n",
        "RSS(a, b) = \\sum_{i=1}^n (y_i - a - b  x_i)^2.\n",
        "$$\n",
        "\n",
        "We can find the values of $a$ and $b$ using matrix algebra. First, we\n",
        "must define a matrix and a column vector.\n",
        "\n",
        "Define $$\n",
        "\\mathbf{X} = \n",
        "\\begin{bmatrix}\n",
        "1 & x_1 \\\\\n",
        "1 & x_2 \\\\\n",
        "\\vdots & \\vdots \\\\\n",
        "1 & x_n\n",
        "\\end{bmatrix}.\n",
        "$$\n",
        "\n",
        "Define\n",
        "\n",
        "$$\n",
        "\\mathbf{y} =\n",
        "\\begin{bmatrix}\n",
        "y_1 \\\\\n",
        "y_2 \\\\\n",
        "\\vdots \\\\\n",
        "y_n\n",
        "\\end{bmatrix}.\n",
        "$$\n",
        "\n",
        "The values of $a$ and $b$ that minimize $RSS(a, b)$, which we will call\n",
        "$\\hat{a}$ and $\\hat{b}$, are computed through the equation\n",
        "\n",
        "<span id=\"eq-ols-solution\">$$\n",
        "\\begin{bmatrix}\n",
        "\\hat{a} \\\\\n",
        "\\hat {b}\n",
        "\\end{bmatrix} = (\\mathbf{X}^T \\mathbf{X})^{-1} \\mathbf{X}^T \\mathbf{y}.\n",
        " \\qquad(1)$$</span>\n",
        "\n",
        "Let says we have the following 6 pairs of $(x, y)$ values:\n",
        "\n",
        "$$(1, 4.9), (1.3, 4.2), (1.7, 4.0), (2.1, 5.7), (3, 4.6), (3.5, 6.8).$$\n",
        "We turn these into two vectors, `x` and `y`, below."
      ],
      "id": "0023ea20-55e3-41c9-8e2d-5eaced9aaca9"
    },
    {
      "cell_type": "code",
      "execution_count": 38,
      "metadata": {},
      "outputs": [],
      "source": [
        "x <- c(1, 1.3, 1.7, 2.1, 3, 3.5)\n",
        "y <- c(4.9, 4.2, 4.0, 5.7, 4.6, 6.8)"
      ],
      "id": "baf5cbb1"
    },
    {
      "cell_type": "markdown",
      "metadata": {},
      "source": [
        "We create a scatter plot of the vectors below."
      ],
      "id": "ed377269-d940-46ed-b5ef-eab11d756cfc"
    },
    {
      "cell_type": "code",
      "execution_count": 39,
      "metadata": {},
      "outputs": [],
      "source": [
        "plot(x, y)"
      ],
      "id": "493dd483"
    },
    {
      "cell_type": "markdown",
      "metadata": {},
      "source": [
        "We now create the $\\mathbf{X}$ matrix using the `cbind` function by\n",
        "combining a vector of 1s with `x`."
      ],
      "id": "d80351ee-9c42-45cd-ae8f-d44ace9a2de5"
    },
    {
      "cell_type": "code",
      "execution_count": 40,
      "metadata": {},
      "outputs": [],
      "source": [
        "X <- cbind(1, x)\n",
        "X"
      ],
      "id": "c40ea211"
    },
    {
      "cell_type": "markdown",
      "metadata": {},
      "source": [
        "Now, we use [Equation 1](#eq-ols-solution) to determine the line of best\n",
        "fit.\n",
        "\n",
        "For clarity, we’ll first compute $\\mathbf{X}^T \\mathbf{X}$, then\n",
        "$\\mathbf{X}^T \\mathbf{y}$, and then use the `solve` function to obtain\n",
        "our solution."
      ],
      "id": "d015cf20-34e5-4759-80ca-3141cabe53e7"
    },
    {
      "cell_type": "code",
      "execution_count": 41,
      "metadata": {},
      "outputs": [],
      "source": [
        "xtx <- t(X) %*% X\n",
        "xty <- t(X) %*% y\n",
        "solve(xtx, xty)"
      ],
      "id": "eebca87f"
    },
    {
      "cell_type": "markdown",
      "metadata": {},
      "source": [
        "Thus, our solution for $\\hat{a}$ and $\\hat{b}$ that minimizes\n",
        "$RSS(a, b)$ is $\\hat{a} = 3.58$ and $\\hat{b} = 0.69$.\n",
        "\n",
        "We use the `abline` function to add the line of best fit to our scatter\n",
        "plot."
      ],
      "id": "d98e85dc-e670-43ba-9fb2-b89ed8997d35"
    },
    {
      "cell_type": "code",
      "execution_count": 42,
      "metadata": {},
      "outputs": [],
      "source": [
        "plot(x, y)\n",
        "abline(a = 3.58, b = 0.69)"
      ],
      "id": "a0aaec53"
    },
    {
      "cell_type": "markdown",
      "metadata": {},
      "source": [
        "## Optimizing matrix algebra ([YouTube](), [Panopto]())\n",
        "\n",
        "It is straightforward to perform matrix algebra in R. However, it is\n",
        "more difficult to write *efficient* (faster) matrix code. We provide\n",
        "some basic tips below.\n",
        "\n",
        "### `crossprod` and `tcrossprod`\n",
        "\n",
        "The `crossprod` and `tcrossprod` functions are faster approaches to\n",
        "performing matrix multiplication when one of the matrices must first be\n",
        "transposed.\n",
        "\n",
        "If we have matrices `A` and `B` of compatible dimensions, then:\n",
        "\n",
        "-   `t(A) %*% B` is equivalent to `crossprod(A, B)`.\n",
        "-   `A %*% t(B)` is equivalent to `tcrossprod(A, B)`.\n",
        "\n",
        "`crossprod` and `tcrossprod` are faster than their equivalent approaches\n",
        "because the equivalent approaches compute the transpose of matrix in\n",
        "memory before performing the multiplication. The `crossprod` and\n",
        "`tcrossprod` functions modify their multiplication algorithms so that\n",
        "the transpose matrix doesn’t have to be created prior to multiplication.\n",
        "\n",
        "To illustrate this difference, we create `A`, a $50\\times 2$ matrix of\n",
        "values and `B`, a $50 \\times 2$ matrix of values by drawing the\n",
        "appropriate number of values from a standard normal distribution. We use\n",
        "the `set.seed` function to make the example reproducible."
      ],
      "id": "1f84e131-342f-4271-85f1-f7375263ab53"
    },
    {
      "cell_type": "code",
      "execution_count": 43,
      "metadata": {},
      "outputs": [],
      "source": [
        "set.seed(314)\n",
        "A <- matrix(rnorm(100), ncol = 2)\n",
        "B <- matrix(rnorm(100), ncol = 2)"
      ],
      "id": "d835c7a5"
    },
    {
      "cell_type": "markdown",
      "metadata": {},
      "source": [
        "First, we use the `all.equal` function to confirm that the standard and\n",
        "optimized approaches produce the same results. `all.equal` confirms that\n",
        "the supplied objects are equal to each other."
      ],
      "id": "f61c4487-21e2-453b-ae52-26227b748b99"
    },
    {
      "cell_type": "code",
      "execution_count": 44,
      "metadata": {},
      "outputs": [],
      "source": [
        "all.equal(t(A) %*% B, crossprod(A, B))"
      ],
      "id": "7e4ca26a"
    },
    {
      "cell_type": "code",
      "execution_count": 45,
      "metadata": {},
      "outputs": [],
      "source": [
        "all.equal(A %*% t(B), tcrossprod(A, B))"
      ],
      "id": "9b296e68"
    },
    {
      "cell_type": "markdown",
      "metadata": {},
      "source": [
        "We will use the `microbenchmark` function from the **microbenchmark**\n",
        "package (Mersmann 2023) to time the optimized and standard approaches to\n",
        "computing $\\mathbf{A}^T \\mathbf{B}$ and $\\mathbf{A} \\mathbf{B}^T$.\n",
        "\n",
        "We start by loading the **microbenchmark** package."
      ],
      "id": "fee570ed-4765-40d3-8901-843104143dca"
    },
    {
      "cell_type": "code",
      "execution_count": 46,
      "metadata": {},
      "outputs": [],
      "source": [
        "library(microbenchmark)"
      ],
      "id": "f08308a7"
    },
    {
      "cell_type": "markdown",
      "metadata": {},
      "source": [
        "We now compute $\\mathbf{A}^T \\mathbf{B}$ using the standard approach and\n",
        "using `crossprod` within the `microbenchmark` function. The\n",
        "`microbenchmark` function will perform each computation 100 times by\n",
        "default to determine the typical speed. We then use the `plot` function\n",
        "to plot the results."
      ],
      "id": "17e18869-45a8-412e-aced-1da3467afd16"
    },
    {
      "cell_type": "code",
      "execution_count": 47,
      "metadata": {},
      "outputs": [],
      "source": [
        "t1 <- microbenchmark::microbenchmark(t(A) %*% B, crossprod(A, B))\n",
        "plot(t1)"
      ],
      "id": "a4f1bd4f"
    },
    {
      "cell_type": "markdown",
      "metadata": {},
      "source": [
        "While the results shown in the above plot will depend on the speed of\n",
        "the computer used to perform the calculation, the boxplot shown for\n",
        "`crossprod(A, B)` should be lower then `t(A) %*% B`, which means the\n",
        "`crossprod` approach is faster than the standard approach.\n",
        "\n",
        "We perform a simialr analysis for computing $\\mathbf{A}\\mathbf{B}^T$."
      ],
      "id": "e32f7127-bf69-4598-a6f2-f9d539d44fd0"
    },
    {
      "cell_type": "code",
      "execution_count": 48,
      "metadata": {},
      "outputs": [],
      "source": [
        "t2 <- microbenchmark(A %*% t(B), tcrossprod(A, B))\n",
        "plot(t2)"
      ],
      "id": "16b7cd34"
    },
    {
      "cell_type": "markdown",
      "metadata": {},
      "source": [
        "Once again, the plot of our timing results should show that\n",
        "`tcrossprod(A, B)` can be computed faster than `A %*% t(B)`.\n",
        "\n",
        "### Order of matrix multiplication\n",
        "\n",
        "Matrix multiplication is associative, meaning that if we have compatible\n",
        "matrices $\\mathbf{A}$, $\\mathbf{B}$ and $\\mathbf{C}$, then\n",
        "$$(\\mathbf{A B})\\mathbf{C} = \\mathbf{A} (\\mathbf{B C}).$$\n",
        "\n",
        "The order of matrix multiplication can greatly impact how long it takes\n",
        "to perform the operations.\n",
        "\n",
        "**Prioritize performing operations that produce smaller matrices\n",
        "first.** Smaller can mean the total number of rows/columns or long/thin\n",
        "matrices, depending on the context.\n",
        "\n",
        "We create three matrices below filled with random values: `A` is a\n",
        "matrix of size $500\\times 2$, `B` is a matrix of size $2 \\times 50$, `C`\n",
        "is a $50\\times 1$ column vector."
      ],
      "id": "7c313c5e-f602-4959-8b5d-563209f61f36"
    },
    {
      "cell_type": "code",
      "execution_count": 49,
      "metadata": {},
      "outputs": [],
      "source": [
        "set.seed(1999)\n",
        "A <- matrix(rnorm(1000), ncol = 2)\n",
        "B <- matrix(rnorm(100), nrow = 2)\n",
        "C <- rnorm(50)"
      ],
      "id": "9f5e1fd1"
    },
    {
      "cell_type": "markdown",
      "metadata": {},
      "source": [
        "Computing $\\mathbf{A}(\\mathbf{BC})$ is much faster than computing\n",
        "$(\\mathbf{AB})\\mathbf{C}$ because $\\mathbf{BC}$ first produces\n",
        "$2\\times 1$ matrix while $\\mathbf{AB}$ produces a much larger\n",
        "$500 \\times 50$ matrix.\n",
        "\n",
        "We confirm this by timing these operations using the `microbenchmark`\n",
        "function and plotting the results."
      ],
      "id": "2d475126-3ae2-4aa4-81e7-be59840e3a4b"
    },
    {
      "cell_type": "code",
      "execution_count": 50,
      "metadata": {},
      "outputs": [],
      "source": [
        "t3 <- microbenchmark((A %*% B) %*% C,\n",
        "                     A %*% (B %*% C))\n",
        "plot(t3, las = 2, cex.axis = 0.5)"
      ],
      "id": "87a8d4ad"
    },
    {
      "cell_type": "markdown",
      "metadata": {},
      "source": [
        "# Arrays\n",
        "\n",
        "## What is an array? ([YouTube](), [Panopto]())\n",
        "\n",
        "An array is a multidimensional, homogeneous (one data type) data\n",
        "structure.\n",
        "\n",
        "-   Arrays can be 1, 2, 3, $\\ldots$ dimensions.\n",
        "-   Arrays are a generalization of a matrix.\n",
        "\n",
        "We will discuss 3-dimensional arrays because they are the easiest to\n",
        "visualize.\n",
        "\n",
        "A 3-dimensional array is like a loaf of bread.\n",
        "\n",
        "-   Each slice of bread is a two-dimensional matrix/array.\n",
        "-   We stack the matrix slices side-by-side to get the third dimension\n",
        "    of our array.\n",
        "\n",
        "![Sliced\n",
        "bread](https://images.pexels.com/photos/166021/pexels-photo-166021.jpeg)\n",
        "\n",
        "## Creating an array in R ([YouTube](), [Panopto]())\n",
        "\n",
        "We can create an array in R using the `array` function.\n",
        "\n",
        "The two main arguments of the `array` function are:\n",
        "\n",
        "-   `data`: an atomic vector.\n",
        "-   `dim`: a numeric vector indicating the size of each dimension.\n",
        "\n",
        "Similar to the `matrix` function, the `array` function fills in the\n",
        "columns of each matrix before repeating the process for each element of\n",
        "the third dimension.\n",
        "\n",
        "We create a 3-dimensional array with dimension $3\\times 2 \\times 4$\n",
        "below."
      ],
      "id": "9e1fa1fe-f08b-4514-bb16-cb6005c15315"
    },
    {
      "cell_type": "code",
      "execution_count": 51,
      "metadata": {},
      "outputs": [],
      "source": [
        "A <- array(1:24, dim = c(3, 2, 4))\n",
        "print(A)"
      ],
      "id": "4442a753"
    },
    {
      "cell_type": "markdown",
      "metadata": {},
      "source": [
        "Alternatively, we can bind matrices or arrays together using the `abind`\n",
        "function in the **abind** package (Plate and Heiberger 2016).\n",
        "\n",
        "This is actually a very complex function, but we illustrate its use for\n",
        "creating a 3-dimensional array by binding 2-dimensional matrices.\n",
        "\n",
        "-   Run `?abind::abind` in the Console for more details.\n",
        "\n",
        "We first load the **abind** package."
      ],
      "id": "f41e30ba-e0b1-4d13-b42f-5be1c304cd59"
    },
    {
      "cell_type": "code",
      "execution_count": 52,
      "metadata": {},
      "outputs": [],
      "source": [
        "library(abind)"
      ],
      "id": "463adbb7"
    },
    {
      "cell_type": "markdown",
      "metadata": {},
      "source": [
        "We now bind two matrices along a 3rd-dimension to create a 3-dimensional\n",
        "array."
      ],
      "id": "9642911b-792f-4989-8603-239eb68049cb"
    },
    {
      "cell_type": "code",
      "execution_count": 53,
      "metadata": {},
      "outputs": [],
      "source": [
        "A <- abind(\n",
        "      matrix(1:4, nrow = 2),\n",
        "      matrix(5:8, nrow = 2),\n",
        "      along = 3)\n",
        "print(A)"
      ],
      "id": "d8ed9a1f"
    },
    {
      "cell_type": "markdown",
      "metadata": {},
      "source": [
        "We create a second 3-dimensional array (of size $2\\times 2 \\times 2$\n",
        "named `B` below."
      ],
      "id": "820a7f0e-6515-4a27-a425-5c4e07c2c55e"
    },
    {
      "cell_type": "code",
      "execution_count": 54,
      "metadata": {},
      "outputs": [],
      "source": [
        "B <- array(9:16, dim = c(2, 2, 2))"
      ],
      "id": "0bb5531a"
    },
    {
      "cell_type": "markdown",
      "metadata": {},
      "source": [
        "To bind `A` and `B` together, we can use the `abind` function."
      ],
      "id": "0ebfd800-2628-434a-a79f-25849465c535"
    },
    {
      "cell_type": "code",
      "execution_count": 55,
      "metadata": {},
      "outputs": [],
      "source": [
        "AB <- abind(A, B)\n",
        "print(AB)"
      ],
      "id": "18673634"
    },
    {
      "cell_type": "markdown",
      "metadata": {},
      "source": [
        "The `dim` function can be used to determine the size of an array."
      ],
      "id": "aef9a26c-b810-44e7-8145-c8df4e0adc45"
    },
    {
      "cell_type": "code",
      "execution_count": 56,
      "metadata": {},
      "outputs": [],
      "source": [
        "dim(A)"
      ],
      "id": "2e4860e9"
    },
    {
      "cell_type": "markdown",
      "metadata": {},
      "source": [
        "## Subsetting an array ([YouTube](), [Panopto]())\n",
        "\n",
        "We can subset an array in much the same way as a matrix. We use the `[`\n",
        "operator and provide vectors indicating the desired positions in each\n",
        "dimension that we want to extract, with each dimension being separated\n",
        "by a comma.\n",
        "\n",
        "We provide some examples below."
      ],
      "id": "dd37aafc-6352-4b55-be70-01f1e73c2d90"
    },
    {
      "cell_type": "code",
      "execution_count": 57,
      "metadata": {},
      "outputs": [],
      "source": [
        "A <- array(1:24, dim = c(3, 2, 4))\n",
        "print(A)"
      ],
      "id": "f761f1da"
    },
    {
      "cell_type": "markdown",
      "metadata": {},
      "source": [
        "Here, we subset the first element of `A`. This will run across the two\n",
        "elements of the second dimension of `A` and across all 4 elements of the\n",
        "third dimension."
      ],
      "id": "e55e9348-bddc-464c-8128-85aff577d401"
    },
    {
      "cell_type": "code",
      "execution_count": 58,
      "metadata": {},
      "outputs": [],
      "source": [
        "print(A[1, , ])"
      ],
      "id": "35e193d2"
    },
    {
      "cell_type": "markdown",
      "metadata": {},
      "source": [
        "We subset the second element of the second dimension of `A`. This will\n",
        "run across all 3 elements of the first dimension of `A` and across all 4\n",
        "elements of the 3rd dimension."
      ],
      "id": "c4e61a23-168a-47cc-93e1-9f945e3981f0"
    },
    {
      "cell_type": "code",
      "execution_count": 59,
      "metadata": {},
      "outputs": [],
      "source": [
        "print(A[, 2, ])"
      ],
      "id": "44b0cc7f"
    },
    {
      "cell_type": "markdown",
      "metadata": {},
      "source": [
        "We subset the second and third elements of the third dimension of `A`,\n",
        "i.e., third second and third slices of the third dimension of `A`. This\n",
        "will run across all 3 elements of the first dimension of `A` and across\n",
        "both elements of the second dimension."
      ],
      "id": "77b0a3ca-c18f-415c-b111-cbbff562d618"
    },
    {
      "cell_type": "code",
      "execution_count": 60,
      "metadata": {},
      "outputs": [],
      "source": [
        "print(A[, , 2:3])"
      ],
      "id": "077c3675"
    },
    {
      "cell_type": "markdown",
      "metadata": {},
      "source": [
        "# Lists\n",
        "\n",
        "## What is a list? ([YouTube](), [Panopto]())\n",
        "\n",
        "A list in R is a non-atomic vector.\n",
        "\n",
        "-   It is a vector, meaning it is one-dimensional.\n",
        "-   It is non-atomic, meaning it can hold data beyond the basic types\n",
        "    (`character`, `integer`, `double`, `logical`, `complex`, `raw`).\n",
        "\n",
        "Lists are commonly used in two different ways:\n",
        "\n",
        "1.  A vector with elements of the same non-atomic type, e.g., a vector\n",
        "    of `lm` objects from the `lm` function.\n",
        "2.  A vector of elements of many different types. This is often used in\n",
        "    objected-oriented programming in R, which we will not discuss.\n",
        "\n",
        "We will discuss the first type of list in the context of loops and apply\n",
        "functions, where they make more sense.\n",
        "\n",
        "We will discuss the second type below.\n",
        "\n",
        "## Creating a list ([YouTube](), [Panopto]())\n",
        "\n",
        "A list is stored as a `list` object.\n",
        "\n",
        "A `list` object can be created using the `list` function. Simply pass\n",
        "the objects you want to include the `list` as arguments to the `list`\n",
        "function.\n",
        "\n",
        "We provide an example below. We create a list that includes a vector, a\n",
        "matrix, and a function."
      ],
      "id": "e319c673-00bb-4420-a89c-5256d055a9e7"
    },
    {
      "cell_type": "code",
      "execution_count": 61,
      "metadata": {},
      "outputs": [],
      "source": [
        "list(1:10, matrix(1:10, nrow = 2), mean)"
      ],
      "id": "15f503ad"
    },
    {
      "cell_type": "markdown",
      "metadata": {},
      "source": [
        "It is common to assign the elements of a list names to make them easier\n",
        "to reference. To do that, we simply use the syntax `name = x` in our\n",
        "list, where `name` is the name we want to give the element and `x` is\n",
        "the object we are including in our list."
      ],
      "id": "e7ecd178-1bbf-44a1-a874-f869a7ebb51c"
    },
    {
      "cell_type": "code",
      "execution_count": 62,
      "metadata": {},
      "outputs": [],
      "source": [
        "mylist <- list(a = 1:10, b = matrix(1:10, nrow = 2), f = mean)\n",
        "mylist"
      ],
      "id": "9a312597"
    },
    {
      "cell_type": "markdown",
      "metadata": {},
      "source": [
        "We can create a new list by combining two or more other lists using the\n",
        "`c` function.\n",
        "\n",
        "We combine 3 simple lists below using the `c` function."
      ],
      "id": "d90602a8-c3e1-49f3-b4fe-01acb48a6d84"
    },
    {
      "cell_type": "code",
      "execution_count": 63,
      "metadata": {},
      "outputs": [],
      "source": [
        "c(list(1, 1:2), list(\"a\", c(\"a\", \"b\")), list(TRUE, c(TRUE, FALSE)))"
      ],
      "id": "f03a45c5"
    },
    {
      "cell_type": "markdown",
      "metadata": {},
      "source": [
        "## Subsetting a list ([YouTube](), [Panopto]())\n",
        "\n",
        "Subsetting a list is more similar to subsetting an atomic vector than it\n",
        "is to subsetting a matrix or array.\n",
        "\n",
        "We create a simple 4-element list with names components below."
      ],
      "id": "a7c543cf-bf9f-4b05-8ac3-7fbc429850f4"
    },
    {
      "cell_type": "code",
      "execution_count": 64,
      "metadata": {},
      "outputs": [],
      "source": [
        "a <- list(a = 1, b = 1:2, c = 1:3, d = 1:4)"
      ],
      "id": "f0ea19e1"
    },
    {
      "cell_type": "markdown",
      "metadata": {},
      "source": [
        "To subset elements of the list, we append `[idx]` to the end of the\n",
        "list’s name, where `idx` is a vector with the indices of the elements we\n",
        "want to extract or a logical vector indicating the elements we want to\n",
        "extract.\n",
        "\n",
        "In the example below, we extract the 1st and 3rd elements of `a`."
      ],
      "id": "631a2783-9f4a-470f-b080-8956c8dbf1c9"
    },
    {
      "cell_type": "code",
      "execution_count": 65,
      "metadata": {},
      "outputs": [],
      "source": [
        "a[c(1, 3)]"
      ],
      "id": "d38e4321"
    },
    {
      "cell_type": "markdown",
      "metadata": {},
      "source": [
        "In the next example, we use a logical vector to subset the 2nd and 4th\n",
        "elements of `a`."
      ],
      "id": "3b17aac0-0c1e-4ec2-bd92-f7ac04371853"
    },
    {
      "cell_type": "code",
      "execution_count": 66,
      "metadata": {},
      "outputs": [],
      "source": [
        "a[c(FALSE, TRUE, FALSE, TRUE)]"
      ],
      "id": "bda8e261"
    },
    {
      "cell_type": "markdown",
      "metadata": {},
      "source": [
        "Since the elements of the list are named, we can also use a vector of\n",
        "character strings to indicate the elements we want to subset.\n",
        "\n",
        "We subset elements `c` and `d` below."
      ],
      "id": "cb275726-b2fa-424c-ba87-0cd8b670ab7a"
    },
    {
      "cell_type": "code",
      "execution_count": 67,
      "metadata": {},
      "outputs": [],
      "source": [
        "a[c(\"c\", \"d\")]"
      ],
      "id": "fd09add8"
    },
    {
      "cell_type": "markdown",
      "metadata": {},
      "source": [
        "If we want to extract a specific element out of our list, then we append\n",
        "`[[i]]` to the list’s name, with `i` indicating the index of the element\n",
        "we want to extract.\n",
        "\n",
        "In the example below, we extract the second element of `a`. Notice that\n",
        "the result is the vector `1:2`, which is what is contained in the 2nd\n",
        "element of `a`."
      ],
      "id": "0e8e8fc6-e667-44ea-82ee-14c06251794c"
    },
    {
      "cell_type": "code",
      "execution_count": 68,
      "metadata": {},
      "outputs": [],
      "source": [
        "a[[2]]"
      ],
      "id": "84ea4709"
    },
    {
      "cell_type": "markdown",
      "metadata": {},
      "source": [
        "What is the difference between the previous result and what we get from\n",
        "the following command?"
      ],
      "id": "4dbc89a8-7ac5-43bb-b767-eec3c62d80b4"
    },
    {
      "cell_type": "code",
      "execution_count": 69,
      "metadata": {},
      "outputs": [],
      "source": [
        "a[2]"
      ],
      "id": "c2c78a18"
    },
    {
      "cell_type": "markdown",
      "metadata": {},
      "source": [
        "In the former example, we extracted the object that was in the 2nd\n",
        "element of `a`. In the latter example, we get a list with only one\n",
        "element. The only element of this list is what was previously the 2nd\n",
        "element of `a`.\n",
        "\n",
        "For a list with named components, we can use the `$` operator to extract\n",
        "a specific element.\n",
        "\n",
        "In the code below, we extract the object in element `\"c\"` of `a`."
      ],
      "id": "853e236c-0837-481d-ad5d-f4dd12685a3d"
    },
    {
      "cell_type": "code",
      "execution_count": 70,
      "metadata": {},
      "outputs": [],
      "source": [
        "a$c"
      ],
      "id": "957d310c"
    },
    {
      "cell_type": "markdown",
      "metadata": {},
      "source": [
        "## Nested Lists ([YouTube](), [Panopto]())\n",
        "\n",
        "We can create lists of lists of lists, which created “nested” lists\n",
        "because the lists are nested in each other.\n",
        "\n",
        "In that case, to subset elements of the lists, we might need to stack\n",
        "usage of `[]` or `[[]]` side by side to subset or extract the desired\n",
        "elements.\n",
        "\n",
        "We create a nested list below."
      ],
      "id": "1cab3e3c-ccfc-4dea-9a98-e1a211126987"
    },
    {
      "cell_type": "code",
      "execution_count": 71,
      "metadata": {},
      "outputs": [],
      "source": [
        "b <- list(list(1, 1:2, list(3, 3:4)), 5:7)\n",
        "b"
      ],
      "id": "d51431e9"
    },
    {
      "cell_type": "markdown",
      "metadata": {},
      "source": [
        "The first element of the top-level of the list is another list with the\n",
        "second element is the vector `5:7`."
      ],
      "id": "60cc7b72-6b00-40fa-be4f-5da3858b4209"
    },
    {
      "cell_type": "code",
      "execution_count": 72,
      "metadata": {},
      "outputs": [],
      "source": [
        "b[[1]]"
      ],
      "id": "298a4775"
    },
    {
      "cell_type": "code",
      "execution_count": 73,
      "metadata": {},
      "outputs": [],
      "source": [
        "b[[2]]"
      ],
      "id": "636365cd"
    },
    {
      "cell_type": "markdown",
      "metadata": {},
      "source": [
        "`b[[1]]` is a list with 3 elements: the first element is the vector `1`,\n",
        "the second element is the vector `[3]`, while the third element is\n",
        "another list with two elements.\n",
        "\n",
        "We can subset the first two elements of `b[[1]]` by appending `[1:2]` to\n",
        "the previous syntax."
      ],
      "id": "eaaf97ce-20a0-4fb5-bb29-bf61df1fd333"
    },
    {
      "cell_type": "code",
      "execution_count": 74,
      "metadata": {},
      "outputs": [],
      "source": [
        "b[[1]][1:2]"
      ],
      "id": "8bb547d0"
    },
    {
      "cell_type": "markdown",
      "metadata": {},
      "source": [
        "We can extract the third element of `b[[1]]` by appending `[[3]]` to the\n",
        "previous syntax."
      ],
      "id": "671d1f4c-fcb1-43cf-ac1b-b934710ce0d6"
    },
    {
      "cell_type": "code",
      "execution_count": 75,
      "metadata": {},
      "outputs": [],
      "source": [
        "b[[1]][[3]]"
      ],
      "id": "0be5f0c4"
    },
    {
      "cell_type": "markdown",
      "metadata": {},
      "source": [
        "We can access information contained in the 3rd element of the list\n",
        "contained in element of `b` in a similar way.\n",
        "\n",
        "Mersmann, Olaf. 2023. *Microbenchmark: Accurate Timing Functions*.\n",
        "<https://github.com/joshuaulrich/microbenchmark/>.\n",
        "\n",
        "Plate, Tony, and Richard Heiberger. 2016. *Abind: Combine\n",
        "Multidimensional Arrays*. <https://CRAN.R-project.org/package=abind>."
      ],
      "id": "1b9e86c1-f23a-4cac-a885-be21ecb8869d"
    }
  ],
  "nbformat": 4,
  "nbformat_minor": 5,
  "metadata": {
    "kernelspec": {
      "name": "ir",
      "display_name": "R",
      "language": "R"
    },
    "language_info": {
      "name": "R",
      "codemirror_mode": "r",
      "file_extension": ".r",
      "mimetype": "text/x-r-source",
      "pygments_lexer": "r",
      "version": "4.2.2"
    }
  }
}