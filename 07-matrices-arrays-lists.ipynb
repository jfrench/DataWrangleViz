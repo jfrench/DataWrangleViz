{
  "cells": [
    {
      "cell_type": "markdown",
      "metadata": {},
      "source": [
        "# Matrices, Arrays, and Lists\n",
        "\n",
        "Joshua P. French  \n",
        "October 17, 2023\n",
        "\n",
        "To open this information in an interactive Colab notebook, click the\n",
        "Open in Colab graphic below.\n",
        "\n",
        "<a href=\"https://colab.research.google.com/github/jfrench/DataWrangleViz/blob/master/07-matrices-arrays-lists.ipynb\">\n",
        "<img src=\"https://colab.research.google.com/assets/colab-badge.svg\">\n",
        "</a>\n",
        "\n",
        "------------------------------------------------------------------------\n",
        "\n",
        "In this module we will cover some additional data structures available\n",
        "in R that were not covered in the Crash Course in R Module.\n",
        "Specifically, we will discuss matrices, arrays, and lists. These data\n",
        "structures are fundamental to performing data analysis in R,\n",
        "particularly if we need to program our own methods.\n",
        "\n",
        "We start by making sure the necessary R packages are installed."
      ],
      "id": "a1b4db6c-4c21-4922-aac6-592155824674"
    },
    {
      "cell_type": "code",
      "execution_count": 2,
      "metadata": {},
      "outputs": [],
      "source": [
        "if(!require(microbenchmark, quietly = TRUE)) {\n",
        "  install.packages(\"microbenchmark\",\n",
        "                   repos = \"https://cran.rstudio.com/\")\n",
        "}"
      ],
      "id": "755f1e19"
    },
    {
      "cell_type": "code",
      "execution_count": 3,
      "metadata": {},
      "outputs": [],
      "source": [
        "if(!require(abind, quietly = TRUE)) {\n",
        "  install.packages(\"abind\",\n",
        "                   repos = \"https://cran.rstudio.com/\")\n",
        "}"
      ],
      "id": "13175a8e"
    },
    {
      "cell_type": "markdown",
      "metadata": {},
      "source": [
        "# Matrices and matrix algebra\n",
        "\n",
        "## Why are matrices and matrix algebra important knowledge for data scientists? ([YouTube](https://youtu.be/40THrClg9Ho), [Panopto](https://ucdenver.hosted.panopto.com/Panopto/Pages/Viewer.aspx?id=f36ecb67-06e8-45a1-8fb8-b099015ade57))\n",
        "\n",
        "Understanding how to use matrices is foundational knowledge for any data\n",
        "scientist.\n",
        "\n",
        "-   Matrices are a simple, efficient way of storing many kinds of data.\n",
        "-   Matrix algebra is the most basic way of manipulating data\n",
        "    represented in matrix format.\n",
        "\n",
        "Numeric matrices are often needed to implement complex algorithms used\n",
        "for data science methods related to regression, optimization, and\n",
        "classification.\n",
        "\n",
        "## What is a matrix? ([YouTube](https://youtu.be/BrNr3cpLxQY), [Panopto](https://ucdenver.hosted.panopto.com/Panopto/Pages/Viewer.aspx?id=35569ba5-8909-4a0b-bb3a-b099015b52e4))\n",
        "\n",
        "A matrix is a two-dimensional object whose values have the same data\n",
        "type.\n",
        "\n",
        "-   We can have numeric, character, or logical matrices, but only one\n",
        "    data type can exist at a time in a matrix.\n",
        "\n",
        "A matrix $\\mathbf{A}$ with $m$ rows and $n$ columns (an $m\\times n$\n",
        "matrix) will be denoted as\n",
        "\n",
        "$$\n",
        "\\mathbf{A} = \\begin{bmatrix}\n",
        "\\mathbf{A}_{1,1} & \\mathbf{A}_{1,2} & \\cdots & \\mathbf{A}_{1,n} \\\\\n",
        "\\mathbf{A}_{2,1} & \\mathbf{A}_{2,2} & \\cdots & \\mathbf{A}_{2,n} \\\\\n",
        "\\vdots & \\vdots & \\ddots & \\vdots \\\\\n",
        "\\mathbf{A}_{m,1} & \\mathbf{A}_{m,2} & \\cdots & \\mathbf{A}_{m,n} \\\\\n",
        "\\end{bmatrix},\n",
        "$$\n",
        "\n",
        "where $\\mathbf{A}_{i,j}$ denotes the element in row $i$ and column $j$\n",
        "of matrix $\\mathbf{A}$.\n",
        "\n",
        "A **column vector** is a matrix with a single column. A **row vector**\n",
        "is a matrix with a single row.\n",
        "\n",
        "-   Vectors are commonly denoted with bold lowercase letters such as\n",
        "    $\\mathbf{a}$ or $\\mathbf{b}$, but this may be simplified to\n",
        "    lowercase letters such as $a$ or $b$.\n",
        "\n",
        "A $p\\times 1$ column vector $\\mathbf{a}$ may constructed as\n",
        "\n",
        "$$\n",
        "\\mathbf{a} = [a_1, a_2, \\ldots, a_p] = \n",
        "\\begin{bmatrix}\n",
        "a_1 \\\\ a_2 \\\\ \\vdots \\\\ a_p\n",
        "\\end{bmatrix}.\n",
        "$$\n",
        "\n",
        "A vector is assumed to be a column vector unless otherwise indicated.\n",
        "\n",
        "## Creating a matrix ([YouTube](https://youtu.be/OsO39R0S6nY), [Panopto](https://ucdenver.hosted.panopto.com/Panopto/Pages/Viewer.aspx?id=bf3047ad-d8ea-4ba0-99c0-b099015b6066))\n",
        "\n",
        "A matrix can be created in R by passing a vector to the `matrix`\n",
        "function and specifying the number of rows and columns the matrix will\n",
        "have.\n",
        "\n",
        "-   The values of the vector will be placed into the matrix one column\n",
        "    at a time.\n",
        "-   The `nrow` argument specifies the number of rows.\n",
        "-   The `ncol` argument specifies the number of columns.\n",
        "\n",
        "Let’s create a $5\\times 2$ matrix with the elements $1, 2, \\ldots, 5$ in\n",
        "the first column and $6, 7, \\ldots, 10$ in the second column."
      ],
      "id": "6f0c1bc8-490a-4a1a-8804-0d42da26d812"
    },
    {
      "cell_type": "code",
      "execution_count": 4,
      "metadata": {},
      "outputs": [],
      "source": [
        "A <- matrix(1:10, nrow = 5, ncol = 2)\n",
        "A"
      ],
      "id": "e5c3ce10"
    },
    {
      "cell_type": "markdown",
      "metadata": {},
      "source": [
        "If we change the `byrow` argument of the `matrix` function to `TRUE`,\n",
        "then the values will be placed row by row, as in the example below."
      ],
      "id": "52a2b7fa-1d12-488e-b5db-57e622dd13f6"
    },
    {
      "cell_type": "code",
      "execution_count": 5,
      "metadata": {},
      "outputs": [],
      "source": [
        "matrix(1:6, nrow = 2, ncol = 3, byrow = TRUE)"
      ],
      "id": "738bdc8c"
    },
    {
      "cell_type": "markdown",
      "metadata": {},
      "source": [
        "The `cbind` and `rbind` functions can be used to create a `matrix`\n",
        "object by combining vectors by columns or rows, respectively.\n",
        "\n",
        "In the example below, we combine the vectors \\[1, 2, 3, 4\\] and \\[5, 6,\n",
        "7, 8\\] columnwise to create a matrix."
      ],
      "id": "ab895d37-fc51-477b-9793-56a40db73ae3"
    },
    {
      "cell_type": "code",
      "execution_count": 6,
      "metadata": {},
      "outputs": [],
      "source": [
        "cbind(1:4, 5:8)"
      ],
      "id": "294fd6b3"
    },
    {
      "cell_type": "markdown",
      "metadata": {},
      "source": [
        "Alternatively, we can use the `rbind` function to create a matrix by\n",
        "combining the vectors row by row."
      ],
      "id": "36aafe5f-d912-44b2-a183-dd3dbe2b5c53"
    },
    {
      "cell_type": "code",
      "execution_count": 7,
      "metadata": {},
      "outputs": [],
      "source": [
        "rbind(1:4, 5:8)"
      ],
      "id": "225f9557"
    },
    {
      "cell_type": "markdown",
      "metadata": {},
      "source": [
        "The `dim` function can be used to determine/confirm the number of rows\n",
        "or columns in a matrix."
      ],
      "id": "67a7a767-b05b-4b8f-8fd8-cc4c0f78570a"
    },
    {
      "cell_type": "code",
      "execution_count": 8,
      "metadata": {},
      "outputs": [],
      "source": [
        "dim(A)"
      ],
      "id": "53454d44"
    },
    {
      "cell_type": "markdown",
      "metadata": {},
      "source": [
        "The `nrow` and `ncol` functions can be used to determine the number of\n",
        "rows and columns, respectively, in a `matrix` object."
      ],
      "id": "282784d9-bba3-4593-906a-cbbca85a88a5"
    },
    {
      "cell_type": "code",
      "execution_count": 9,
      "metadata": {},
      "outputs": [],
      "source": [
        "nrow(A)"
      ],
      "id": "5ed83911"
    },
    {
      "cell_type": "code",
      "execution_count": 10,
      "metadata": {},
      "outputs": [],
      "source": [
        "ncol(A)"
      ],
      "id": "86b41d9c"
    },
    {
      "cell_type": "markdown",
      "metadata": {},
      "source": [
        "## Subsetting a matrix ([YouTube](https://youtu.be/PEt7HZt7noA), [Panopto](https://ucdenver.hosted.panopto.com/Panopto/Pages/Viewer.aspx?id=4a20bf6d-8b6d-44d9-b304-b09e00c4018a))\n",
        "\n",
        "We can access a subset of a `matrix` object using the `[` operator and\n",
        "providing vectors with the desired rows and columns separated by a\n",
        "comma.\n",
        "\n",
        "If `A` is a matrix, then we can select the subset of `A` using the\n",
        "syntax `A[r, c]`, where `r` and `c` are `numeric` vector indicating the\n",
        "desired rows and columns, respectively, that we want to select.\n",
        "\n",
        "-   If we select a single row or column, then the subsetted object will\n",
        "    simplify to `vector` object instead of a `matrix`.\n",
        "-   If we don’t supply a vector of rows or columns, then all rows or\n",
        "    columns will be returned.\n",
        "-   We can use the `-` notation to select all but the specified rows or\n",
        "    columns. This is similar to the syntax used for data frames.\n",
        "\n",
        "This is easiest to understand by walking through a set of examples.\n",
        "\n",
        "Let’s define a $4\\times 3$ matrix, `B`, below."
      ],
      "id": "04788826-8fdc-4415-8fa2-6e22721e1b06"
    },
    {
      "cell_type": "code",
      "execution_count": 11,
      "metadata": {},
      "outputs": [],
      "source": [
        "B <- matrix(1:12, ncol = 3)\n",
        "B"
      ],
      "id": "2ebe94ad"
    },
    {
      "cell_type": "markdown",
      "metadata": {},
      "source": [
        "Let’s select columns 2 and 3 of `B`."
      ],
      "id": "69d219bc-cbc3-46ae-956d-11b986d919a2"
    },
    {
      "cell_type": "code",
      "execution_count": 12,
      "metadata": {},
      "outputs": [],
      "source": [
        "B[, 2:3]"
      ],
      "id": "248fd795"
    },
    {
      "cell_type": "markdown",
      "metadata": {},
      "source": [
        "Let’s select rows 1 and 4 of `B`."
      ],
      "id": "19df05ba-c4d2-4052-92a3-6df7d934830f"
    },
    {
      "cell_type": "code",
      "execution_count": 13,
      "metadata": {},
      "outputs": [],
      "source": [
        "B[c(1, 4), ]"
      ],
      "id": "e1979290"
    },
    {
      "cell_type": "markdown",
      "metadata": {},
      "source": [
        "Let’s select columns 2 and 3 of rows 1 and 4 of `B`."
      ],
      "id": "9df06a7c-c46c-457b-86cf-46245c81bd8d"
    },
    {
      "cell_type": "code",
      "execution_count": 14,
      "metadata": {},
      "outputs": [],
      "source": [
        "B[c(1, 4), 2:3]"
      ],
      "id": "a52ee419"
    },
    {
      "cell_type": "markdown",
      "metadata": {},
      "source": [
        "Let’s select all columns of `B` except the third."
      ],
      "id": "9498f3ef-e30e-4437-acc9-f0a910018d46"
    },
    {
      "cell_type": "code",
      "execution_count": 15,
      "metadata": {},
      "outputs": [],
      "source": [
        "B[,-3]"
      ],
      "id": "063c5bc9"
    },
    {
      "cell_type": "markdown",
      "metadata": {},
      "source": [
        "Our matrix simplifies to a vector if we only select a single row or\n",
        "column.\n",
        "\n",
        "We select the second row of `B`."
      ],
      "id": "f229aaed-499c-404d-92ab-e732e6bb5634"
    },
    {
      "cell_type": "code",
      "execution_count": 16,
      "metadata": {},
      "outputs": [],
      "source": [
        "B[2, ]"
      ],
      "id": "5daa0035"
    },
    {
      "cell_type": "markdown",
      "metadata": {},
      "source": [
        "We select the second column of `B`."
      ],
      "id": "8e083e73-0697-4912-9ea8-d264d994a52a"
    },
    {
      "cell_type": "code",
      "execution_count": 17,
      "metadata": {},
      "outputs": [],
      "source": [
        "B[,2]"
      ],
      "id": "4eadf436"
    },
    {
      "cell_type": "markdown",
      "metadata": {},
      "source": [
        "If we want to retain the `matrix` structure of `B` when we select a\n",
        "single row or column, then we set the optional `drop` argument to\n",
        "`FALSE` after the column argument."
      ],
      "id": "c79e13d3-2bc8-4470-b1fe-6e405158d28f"
    },
    {
      "cell_type": "code",
      "execution_count": 18,
      "metadata": {},
      "outputs": [],
      "source": [
        "B[2, , drop = FALSE]"
      ],
      "id": "1f35d14c"
    },
    {
      "cell_type": "code",
      "execution_count": 19,
      "metadata": {},
      "outputs": [],
      "source": [
        "B[, 2, drop = FALSE]"
      ],
      "id": "ea5e6ff7"
    },
    {
      "cell_type": "markdown",
      "metadata": {},
      "source": [
        "If we want to extract specific elements of a `matrix` object and not a\n",
        "rectangular subset of the object, then we can use a `matrix` indicating\n",
        "the elements we want to extract inside `[`.\n",
        "\n",
        "Let’s say we want to extract the elements in positions $(1, 2)$,\n",
        "$(3, 1)$, and $(4, 3)$. We create a matrix describing those positions.\n",
        "Each row of the matrix describes an element we want to extract."
      ],
      "id": "465af854-745e-47a5-96bc-2e065f2e8eeb"
    },
    {
      "cell_type": "code",
      "execution_count": 20,
      "metadata": {},
      "outputs": [],
      "source": [
        "pos <- cbind(c(1, 3, 4), c(2, 1, 3))\n",
        "pos"
      ],
      "id": "83142804"
    },
    {
      "cell_type": "markdown",
      "metadata": {},
      "source": [
        "We use `pos` to extract those elements from `B`."
      ],
      "id": "56c4cb93-70ea-41b2-bf09-cd94fecd2d04"
    },
    {
      "cell_type": "code",
      "execution_count": 21,
      "metadata": {},
      "outputs": [],
      "source": [
        "B[pos]"
      ],
      "id": "88f91bb4"
    },
    {
      "cell_type": "markdown",
      "metadata": {},
      "source": [
        "## Matrix operations\n",
        "\n",
        "### Addition and subtraction ([YouTube](https://youtu.be/ChiorfijWqY), [Panopto](https://ucdenver.hosted.panopto.com/Panopto/Pages/Viewer.aspx?id=f0afa263-b765-4054-b808-b09e0159ccb8))\n",
        "\n",
        "We can add or subtract the elements of two matrices as long as they have\n",
        "the same size.\n",
        "\n",
        "We create two $2\\times 3$ matrices below."
      ],
      "id": "fb6b7316-f48a-44ab-a45f-ac2fce16cb5e"
    },
    {
      "cell_type": "code",
      "execution_count": 22,
      "metadata": {},
      "outputs": [],
      "source": [
        "A <- matrix(1:6, nrow = 2, ncol = 3, byrow = TRUE)\n",
        "A"
      ],
      "id": "898baecf"
    },
    {
      "cell_type": "code",
      "execution_count": 23,
      "metadata": {},
      "outputs": [],
      "source": [
        "B <- matrix(c(2, 1, 9, 3, 1, 1), nrow = 2, ncol = 3)\n",
        "B"
      ],
      "id": "efc4a044"
    },
    {
      "cell_type": "markdown",
      "metadata": {},
      "source": [
        "We can add the two matrices below using the `+` operator. The result is\n",
        "simply the sum of the values in the same position of the matrices."
      ],
      "id": "11bf0ee2-0db2-4171-aa64-94ef73937f82"
    },
    {
      "cell_type": "code",
      "execution_count": 24,
      "metadata": {},
      "outputs": [],
      "source": [
        "A + B"
      ],
      "id": "288e81a9"
    },
    {
      "cell_type": "markdown",
      "metadata": {},
      "source": [
        "Subtraction works in the same way, as shown below."
      ],
      "id": "cf245179-1da7-466e-b918-5fe1f4d5c25e"
    },
    {
      "cell_type": "code",
      "execution_count": 25,
      "metadata": {},
      "outputs": [],
      "source": [
        "A - B"
      ],
      "id": "5fe41db2"
    },
    {
      "cell_type": "markdown",
      "metadata": {},
      "source": [
        "### Scalar matrix multiplication ([YouTube](https://youtu.be/gCB4EWMuF0Y), [Panopto](https://ucdenver.hosted.panopto.com/Panopto/Pages/Viewer.aspx?id=ec1b70ff-5a35-4c99-81b6-b09e015a8b6b))\n",
        "\n",
        "A matrix multiplied by a scalar value $c\\in\\mathbb{R}$ is the matrix\n",
        "obtained by multiplying each element of the matrix by $c$.\n",
        "\n",
        "To perform scalar multiplication in R, we simply use the `*` operator to\n",
        "multiply the scalar value by the matrix.\n",
        "\n",
        "In the code below, we double the values in `A`."
      ],
      "id": "10bab95e-aa30-4f00-9261-9a3925779ea7"
    },
    {
      "cell_type": "code",
      "execution_count": 26,
      "metadata": {},
      "outputs": [],
      "source": [
        "2 * A"
      ],
      "id": "c859bd3d"
    },
    {
      "cell_type": "markdown",
      "metadata": {},
      "source": [
        "### Matrix multiplication ([YouTube](https://youtu.be/QRTMoCoqai4), [Panopto](https://ucdenver.hosted.panopto.com/Panopto/Pages/Viewer.aspx?id=377475fa-ea2c-4b8c-8daf-b09e015b5d8e))\n",
        "\n",
        "Consider two matrices $\\mathbf{A}$ and $\\mathbf{B}$. The matrix product\n",
        "$\\mathbf{AB}$ is only defined if the number of columns in $\\mathbf{A}$\n",
        "matches the number of rows in $\\mathbf{B}$.\n",
        "\n",
        "Assume $\\mathbf{A}$ is an $m\\times n$ matrix and $\\mathbf{B}$ is an\n",
        "$n\\times p$ matrix. $\\mathbf{AB}$ will be an $m\\times p$ matrix and $$\n",
        "(\\mathbf{AB})_{i,j} = \\sum_{k=1}^{n} \\mathbf{A}_{i,k}\\mathbf{B}_{k,j}.\n",
        "$$\n",
        "\n",
        "We consider multiplying the two matrices below.\n",
        "\n",
        "$$\n",
        "\\begin{bmatrix}\n",
        "1 & 2 & 3 \\\\\n",
        "4 & 5 & 6\n",
        "\\end{bmatrix}\n",
        "\\begin{bmatrix}\n",
        "1 & 4\\\\\n",
        "2 & 5\\\\\n",
        "3 & 6\n",
        "\\end{bmatrix}=\n",
        "\\begin{bmatrix}\n",
        "1\\cdot 1 +  2 \\cdot 2 + 3 \\cdot 3 & 1 \\cdot 4 + 2 \\cdot 5 + 3 \\cdot 6\\\\\n",
        "4\\cdot 1 +  5 \\cdot 2 + 6 \\cdot 3 & 4 \\cdot 4 + 5 \\cdot 5 + 6 \\cdot 6\\\\\n",
        "\\end{bmatrix}=\n",
        "\\begin{bmatrix}\n",
        "14 & 32\\\\\n",
        "32 & 77\\\\\n",
        "\\end{bmatrix}.\n",
        "$$\n",
        "\n",
        "We multiply two matrices of the correct size using the `%*%` operator.\n",
        "Let’s multiply these same matrices using R"
      ],
      "id": "b95d92f0-0d27-4c50-a8d5-6ba040ca8d51"
    },
    {
      "cell_type": "code",
      "execution_count": 27,
      "metadata": {},
      "outputs": [],
      "source": [
        "A"
      ],
      "id": "e25f2e64"
    },
    {
      "cell_type": "code",
      "execution_count": 28,
      "metadata": {},
      "outputs": [],
      "source": [
        "B <- matrix(1:6, nrow = 3, ncol = 2)\n",
        "B"
      ],
      "id": "b50ef706"
    },
    {
      "cell_type": "code",
      "execution_count": 29,
      "metadata": {},
      "outputs": [],
      "source": [
        "A %*% B"
      ],
      "id": "d6f016c8"
    },
    {
      "cell_type": "markdown",
      "metadata": {},
      "source": [
        "### Elementwise matrix multiplication ([YouTube](https://youtu.be/DSqjWcorneI), [Panopto](https://ucdenver.hosted.panopto.com/Panopto/Pages/Viewer.aspx?id=25239575-20f2-4e12-a35a-b09e015c3588))\n",
        "\n",
        "Consider two matrices $\\mathbf{A}$ and $\\mathbf{B}$ that have the same\n",
        "dimensions. The elementwise product, denoted\n",
        "$\\mathbf{A} \\circ \\mathbf{B}$ is the product of the elements in the same\n",
        "position of the matrix.\n",
        "\n",
        "Assume $\\mathbf{A}$ and $\\mathbf{B}$ are $n\\times m$ matrices.\n",
        "$\\mathbf{A} \\circ \\mathbf{B}$ will be an $n\\times m$ matrix and $$\n",
        "(\\mathbf{A} \\circ \\mathbf{B})_{i,j} = \\mathbf{A}_{i,j}\\mathbf{B}_{i,j}.\n",
        "$$\n",
        "\n",
        "We perform elementwise multiplication of the two matrices below.\n",
        "\n",
        "$$\n",
        "\\begin{bmatrix}\n",
        "1 & 4\\\\\n",
        "2 & 5\\\\\n",
        "3 & 6\n",
        "\\end{bmatrix} \\circ\n",
        "\\begin{bmatrix}\n",
        "7 & 10\\\\\n",
        "8 & 11\\\\\n",
        "9 & 12\n",
        "\\end{bmatrix}=\n",
        "\\begin{bmatrix}\n",
        "1 \\cdot 7 & 4 \\cdot 10\\\\\n",
        "2 \\cdot 8 & 5 \\cdot 11\\\\\n",
        "3 \\cdot 9 & 6 \\cdot 12\n",
        "\\end{bmatrix}=\n",
        "\\begin{bmatrix}\n",
        "7 & 40\\\\\n",
        "16 & 55\\\\\n",
        "27 & 72\n",
        "\\end{bmatrix}.\n",
        "$$\n",
        "\n",
        "We perform elementwise multiplication of two matrices of the correct\n",
        "size using the `*` operator. Let’s multiply these same matrices using R"
      ],
      "id": "ebe51f28-c919-4009-9409-7a93e4f68c14"
    },
    {
      "cell_type": "code",
      "execution_count": 30,
      "metadata": {},
      "outputs": [],
      "source": [
        "A <- matrix(1:6, ncol = 2)\n",
        "A"
      ],
      "id": "a8de32a9"
    },
    {
      "cell_type": "code",
      "execution_count": 31,
      "metadata": {},
      "outputs": [],
      "source": [
        "B <- matrix(7:12, ncol = 2)"
      ],
      "id": "345410e1"
    },
    {
      "cell_type": "code",
      "execution_count": 32,
      "metadata": {},
      "outputs": [],
      "source": [
        "B"
      ],
      "id": "69711acf"
    },
    {
      "cell_type": "code",
      "execution_count": 33,
      "metadata": {},
      "outputs": [],
      "source": [
        "A * B"
      ],
      "id": "b93efa14"
    },
    {
      "cell_type": "markdown",
      "metadata": {},
      "source": [
        "### Transpose ([YouTube](https://youtu.be/R_v94nP4O70), [Panopto](https://ucdenver.hosted.panopto.com/Panopto/Pages/Viewer.aspx?id=0fb7b469-0f72-407d-bf10-b09e015d2526))\n",
        "\n",
        "The **transpose** of a matrix $\\mathbf{A}$, denoted $\\mathbf{A}^T$,\n",
        "exchanges the rows and columns of the matrix. More formally, the $i,j$\n",
        "element of $\\mathbf{A}^T$ is the $j,i$ element of $\\mathbf{A}$, i.e.,\n",
        "$(\\mathbf{A}^T)_{i,j} = \\mathbf{A}_{j,i}$.\n",
        "\n",
        "We can use the `t` function to obtain the transpose of a matrix.\n",
        "\n",
        "We print the matrix `A` that we have previously defined."
      ],
      "id": "63f51667-ba01-4f05-82c5-0a37701f94a1"
    },
    {
      "cell_type": "code",
      "execution_count": 34,
      "metadata": {},
      "outputs": [],
      "source": [
        "A"
      ],
      "id": "b5818ced"
    },
    {
      "cell_type": "markdown",
      "metadata": {},
      "source": [
        "We compute the transpose of `A` using `t`."
      ],
      "id": "0ca198cd-7c24-4d8e-ba81-ca189ce05d6a"
    },
    {
      "cell_type": "code",
      "execution_count": 35,
      "metadata": {},
      "outputs": [],
      "source": [
        "t(A)"
      ],
      "id": "f2392d8e"
    },
    {
      "cell_type": "markdown",
      "metadata": {},
      "source": [
        "## Special matrices ([YouTube](https://youtu.be/-05Z3BG3ZZA), [Panopto](https://ucdenver.hosted.panopto.com/Panopto/Pages/Viewer.aspx?id=5d546ef4-c64f-471d-b1a4-b09e015e3620))\n",
        "\n",
        "### Square matrices\n",
        "\n",
        "A matrix is **square** if the number of rows equals the number of\n",
        "columns.\n",
        "\n",
        "The **diagonal elements** of an $n\\times n$ square matrix $\\mathbf{A}$\n",
        "are the elements $\\mathbf{A}_{i,i}$ for $i = 1, 2, \\ldots, n$.\n",
        "\n",
        "Non-diagonal elements of $\\mathbf{A}$ are called **off-diagonal**\n",
        "elements.\n",
        "\n",
        "### Identity matrix\n",
        "\n",
        "The $n\\times n$ **identity** matrix, $\\mathbf{I}_{n \\times n}$, is a\n",
        "matrix for which the diagonal elements are all 1 and the non-diagonal\n",
        "elements are all 0.\n",
        "\n",
        "-   Context often makes it clear what the dimensions of an identity\n",
        "    matrix are, so the notation for $\\mathbf{I}_{n\\times n}$ is often\n",
        "    simplified to $\\mathbf{I}$ or $I$.\n",
        "\n",
        "The syntax `diag(n)` will create an $n\\times n$ identity matrix in R.\n",
        "\n",
        "We create a $3\\times 3$ identify matrix below."
      ],
      "id": "821b72b8-0df2-4a05-90a2-46c94fdb694a"
    },
    {
      "cell_type": "code",
      "execution_count": 36,
      "metadata": {},
      "outputs": [],
      "source": [
        "diag(3)"
      ],
      "id": "ba782802"
    },
    {
      "cell_type": "markdown",
      "metadata": {},
      "source": [
        "### Inverse matrix\n",
        "\n",
        "An $n\\times n$ matrix $\\mathbf{A}$ is invertible if there exists a\n",
        "matrix $\\mathbf{B}$ such that\n",
        "$\\mathbf{AB}=\\mathbf{BA}=\\mathbf{I}_{n\\times n}$.\n",
        "\n",
        "The inverse of $\\mathbf{A}$ is denoted $\\mathbf{A}^{-1}$.\n",
        "\n",
        "-   Inverse matrices only exist for square matrices.\n",
        "\n",
        "The `solve` function can be used to compute the inverse of matrix, e.g.,\n",
        "`solve(A)`.\n",
        "\n",
        "-   This will likely cause numeric issues, so don’t do this.\n",
        "\n",
        "Inverse matrices are nearly always multiplied by a different matrix,\n",
        "e.g., $\\mathbf{b}$.\n",
        "\n",
        "To compute $\\mathbf{A}^{-1} \\mathbf{b}$, we use the syntax\n",
        "`solve(A, b)`.\n",
        "\n",
        "In the example below, we use `solve` to compute\n",
        "$\\mathbf{A}^{-1} \\mathbf{b}$."
      ],
      "id": "32b51a6f-a2c5-4053-9ed1-6b8a376c91fc"
    },
    {
      "cell_type": "code",
      "execution_count": 37,
      "metadata": {},
      "outputs": [],
      "source": [
        "A <- matrix(c(3, 0.5, 0.2, \n",
        "              0.5, 2, 0.1,\n",
        "              0.2, 0.1, 1),\n",
        "            nrow = 3)\n",
        "A"
      ],
      "id": "109b6a46"
    },
    {
      "cell_type": "code",
      "execution_count": 38,
      "metadata": {},
      "outputs": [],
      "source": [
        "b <- c(1, 0.7, 3)\n",
        "b"
      ],
      "id": "7d3ca84d"
    },
    {
      "cell_type": "code",
      "execution_count": 39,
      "metadata": {},
      "outputs": [],
      "source": [
        "solve(A, b)"
      ],
      "id": "a4aa1333"
    },
    {
      "cell_type": "markdown",
      "metadata": {},
      "source": [
        "Because vectors are assumed to be column vectors, the (rounded) result\n",
        "above is equivalent to\n",
        "\n",
        "$$\n",
        "\\begin{bmatrix}\n",
        "0.11\\\\\n",
        "0.18\\\\\n",
        "2.96\n",
        "\\end{bmatrix}.\n",
        "$$\n",
        "\n",
        "## Example: Computing the line of best fit using matrix algebra ([YouTube](https://youtu.be/rSVxdqRCkuE), [Panopto](https://ucdenver.hosted.panopto.com/Panopto/Pages/Viewer.aspx?id=4d6cbd52-1169-49fd-b9a1-b09e015eb369))\n",
        "\n",
        "A common application of matrix algebra is finding the “line of best fit”\n",
        "for the points observed in a scatter plot.\n",
        "\n",
        "A line can be written as\n",
        "\n",
        "$$y = a + b x,$$\n",
        "\n",
        "where:\n",
        "\n",
        "-   $a$ is the y-intercept (the value of $y$ when $x = 0$).\n",
        "-   $b$ is the slope of the line. $y$ changes by $b$ when $x$ increases\n",
        "    by 1.\n",
        "\n",
        "Suppose that we observe $n$ paired sets of $(x, y)$ values\n",
        "\n",
        "$$(x_1, y_1), (x_2, y_2), \\ldots, (x_n, y_n).$$\n",
        "\n",
        "We want to find the values of $a$ and $b$ that minimize the residual sum\n",
        "of squares function\n",
        "\n",
        "$$\n",
        "RSS(a, b) = \\sum_{i=1}^n (y_i - a - b  x_i)^2.\n",
        "$$\n",
        "\n",
        "We can find the values of $a$ and $b$ using matrix algebra. First, we\n",
        "must define a matrix and a column vector.\n",
        "\n",
        "Define $$\n",
        "\\mathbf{X} = \n",
        "\\begin{bmatrix}\n",
        "1 & x_1 \\\\\n",
        "1 & x_2 \\\\\n",
        "\\vdots & \\vdots \\\\\n",
        "1 & x_n\n",
        "\\end{bmatrix}.\n",
        "$$\n",
        "\n",
        "Define\n",
        "\n",
        "$$\n",
        "\\mathbf{y} =\n",
        "\\begin{bmatrix}\n",
        "y_1 \\\\\n",
        "y_2 \\\\\n",
        "\\vdots \\\\\n",
        "y_n\n",
        "\\end{bmatrix}.\n",
        "$$\n",
        "\n",
        "The values of $a$ and $b$ that minimize $RSS(a, b)$, which we will call\n",
        "$\\hat{a}$ and $\\hat{b}$, are computed through the equation\n",
        "\n",
        "<span id=\"eq-ols-solution\">$$\n",
        "\\begin{bmatrix}\n",
        "\\hat{a} \\\\\n",
        "\\hat {b}\n",
        "\\end{bmatrix} = (\\mathbf{X}^T \\mathbf{X})^{-1} \\mathbf{X}^T \\mathbf{y}.\n",
        " \\qquad(1)$$</span>\n",
        "\n",
        "Let says we have the following 6 pairs of $(x, y)$ values:\n",
        "\n",
        "$$(1, 4.9), (1.3, 4.2), (1.7, 4.0), (2.1, 5.7), (3, 4.6), (3.5, 6.8).$$\n",
        "We turn these into two vectors, `x` and `y`, below."
      ],
      "id": "c983dc22-586b-4e57-a0b8-56069f21b422"
    },
    {
      "cell_type": "code",
      "execution_count": 40,
      "metadata": {},
      "outputs": [],
      "source": [
        "x <- c(1, 1.3, 1.7, 2.1, 3, 3.5)\n",
        "y <- c(4.9, 4.2, 4.0, 5.7, 4.6, 6.8)"
      ],
      "id": "f6e46c25"
    },
    {
      "cell_type": "markdown",
      "metadata": {},
      "source": [
        "We create a scatter plot of the vectors below."
      ],
      "id": "0a2e55bb-4edc-4490-8b3c-fe69267ddc05"
    },
    {
      "cell_type": "code",
      "execution_count": 41,
      "metadata": {},
      "outputs": [],
      "source": [
        "plot(x, y)"
      ],
      "id": "31feb686"
    },
    {
      "cell_type": "markdown",
      "metadata": {},
      "source": [
        "We now create the $\\mathbf{X}$ matrix using the `cbind` function by\n",
        "combining a vector of 1s with `x`."
      ],
      "id": "675889f9-a3ab-4dca-bcba-739e86ed008b"
    },
    {
      "cell_type": "code",
      "execution_count": 42,
      "metadata": {},
      "outputs": [],
      "source": [
        "X <- cbind(1, x)\n",
        "X"
      ],
      "id": "96a2f393"
    },
    {
      "cell_type": "markdown",
      "metadata": {},
      "source": [
        "Now, we use [Equation 1](#eq-ols-solution) to determine the line of best\n",
        "fit.\n",
        "\n",
        "For clarity, we’ll first compute $\\mathbf{X}^T \\mathbf{X}$, then\n",
        "$\\mathbf{X}^T \\mathbf{y}$, and then use the `solve` function to obtain\n",
        "our solution."
      ],
      "id": "38daada2-b54f-4872-96f2-c59cf5575888"
    },
    {
      "cell_type": "code",
      "execution_count": 43,
      "metadata": {},
      "outputs": [],
      "source": [
        "xtx <- t(X) %*% X\n",
        "xty <- t(X) %*% y\n",
        "solve(xtx, xty)"
      ],
      "id": "6332c3f8"
    },
    {
      "cell_type": "markdown",
      "metadata": {},
      "source": [
        "Thus, our solution for $\\hat{a}$ and $\\hat{b}$ that minimizes\n",
        "$RSS(a, b)$ is $\\hat{a} = 3.58$ and $\\hat{b} = 0.69$.\n",
        "\n",
        "We use the `abline` function to add the line of best fit to our scatter\n",
        "plot."
      ],
      "id": "19548e3c-77d0-465f-96cc-2f4eb4ff4fef"
    },
    {
      "cell_type": "code",
      "execution_count": 44,
      "metadata": {},
      "outputs": [],
      "source": [
        "plot(x, y)\n",
        "abline(a = 3.58, b = 0.69)"
      ],
      "id": "a25c177f"
    },
    {
      "cell_type": "markdown",
      "metadata": {},
      "source": [
        "## Tips for optimizing matrix algebra operations ([YouTube](https://youtu.be/cBovzIQvw78), [Panopto](https://ucdenver.hosted.panopto.com/Panopto/Pages/Viewer.aspx?id=5e2bb274-0855-40ef-a60e-b09e015fec12))\n",
        "\n",
        "It is straightforward to perform matrix algebra in R. However, it is\n",
        "more difficult to write *efficient* (faster) matrix code. We provide\n",
        "some basic tips below.\n",
        "\n",
        "### `crossprod` and `tcrossprod`\n",
        "\n",
        "The `crossprod` and `tcrossprod` functions are faster approaches to\n",
        "performing matrix multiplication when one of the matrices must first be\n",
        "transposed.\n",
        "\n",
        "If we have matrices `A` and `B` of compatible dimensions, then:\n",
        "\n",
        "-   `t(A) %*% B` is equivalent to `crossprod(A, B)`.\n",
        "-   `A %*% t(B)` is equivalent to `tcrossprod(A, B)`.\n",
        "\n",
        "`crossprod` and `tcrossprod` are faster than their equivalent approaches\n",
        "because the equivalent approaches compute the transpose of matrix in\n",
        "memory before performing the multiplication. The `crossprod` and\n",
        "`tcrossprod` functions modify their multiplication algorithms so that\n",
        "the transpose matrix doesn’t have to be created prior to multiplication.\n",
        "\n",
        "To illustrate this difference, we create `A`, a $50\\times 2$ matrix of\n",
        "values and `B`, a $50 \\times 2$ matrix of values by drawing the\n",
        "appropriate number of values from a standard normal distribution. We use\n",
        "the `set.seed` function to make the example reproducible."
      ],
      "id": "676544e1-ca8f-46df-b1b8-a02420439d0d"
    },
    {
      "cell_type": "code",
      "execution_count": 45,
      "metadata": {},
      "outputs": [],
      "source": [
        "set.seed(314)\n",
        "A <- matrix(rnorm(100), ncol = 2)\n",
        "B <- matrix(rnorm(100), ncol = 2)"
      ],
      "id": "217bc2d0"
    },
    {
      "cell_type": "markdown",
      "metadata": {},
      "source": [
        "First, we use the `all.equal` function to confirm that the standard and\n",
        "optimized approaches produce the same results. `all.equal` confirms that\n",
        "the supplied objects are equal to each other."
      ],
      "id": "f8d5f3c4-3ccc-4094-b784-6aca3d28bc44"
    },
    {
      "cell_type": "code",
      "execution_count": 46,
      "metadata": {},
      "outputs": [],
      "source": [
        "all.equal(t(A) %*% B, crossprod(A, B))"
      ],
      "id": "df916d17"
    },
    {
      "cell_type": "code",
      "execution_count": 47,
      "metadata": {},
      "outputs": [],
      "source": [
        "all.equal(A %*% t(B), tcrossprod(A, B))"
      ],
      "id": "bce5aa54"
    },
    {
      "cell_type": "markdown",
      "metadata": {},
      "source": [
        "We will use the `microbenchmark` function from the **microbenchmark**\n",
        "package (Mersmann 2023) to time the optimized and standard approaches to\n",
        "computing $\\mathbf{A}^T \\mathbf{B}$ and $\\mathbf{A} \\mathbf{B}^T$.\n",
        "\n",
        "We start by loading the **microbenchmark** package."
      ],
      "id": "1ea196e7-1aee-4e5e-9b61-7acf3ed21d8a"
    },
    {
      "cell_type": "code",
      "execution_count": 48,
      "metadata": {},
      "outputs": [],
      "source": [
        "library(microbenchmark)"
      ],
      "id": "3a1d9e3f"
    },
    {
      "cell_type": "markdown",
      "metadata": {},
      "source": [
        "We now compute $\\mathbf{A}^T \\mathbf{B}$ using the standard approach and\n",
        "using `crossprod` within the `microbenchmark` function. The\n",
        "`microbenchmark` function will perform each computation 100 times by\n",
        "default to determine the typical speed. We then use the `plot` function\n",
        "to plot the results."
      ],
      "id": "8cd2da1a-0b38-4eef-b722-936e0e945e26"
    },
    {
      "cell_type": "code",
      "execution_count": 49,
      "metadata": {},
      "outputs": [],
      "source": [
        "t1 <- microbenchmark::microbenchmark(t(A) %*% B, crossprod(A, B))\n",
        "plot(t1)"
      ],
      "id": "d444b7b5"
    },
    {
      "cell_type": "markdown",
      "metadata": {},
      "source": [
        "While the results shown in the above plot will depend on the speed of\n",
        "the computer used to perform the calculation, the boxplot shown for\n",
        "`crossprod(A, B)` should be lower then `t(A) %*% B`, which means the\n",
        "`crossprod` approach is faster than the standard approach.\n",
        "\n",
        "We perform a simialr analysis for computing $\\mathbf{A}\\mathbf{B}^T$."
      ],
      "id": "960041b0-b6e8-4d94-993f-7971a66502ec"
    },
    {
      "cell_type": "code",
      "execution_count": 50,
      "metadata": {},
      "outputs": [],
      "source": [
        "t2 <- microbenchmark(A %*% t(B), tcrossprod(A, B))\n",
        "plot(t2)"
      ],
      "id": "70c50a88"
    },
    {
      "cell_type": "markdown",
      "metadata": {},
      "source": [
        "Once again, the plot of our timing results should show that\n",
        "`tcrossprod(A, B)` can be computed faster than `A %*% t(B)`.\n",
        "\n",
        "### Order of matrix multiplication\n",
        "\n",
        "Matrix multiplication is associative, meaning that if we have compatible\n",
        "matrices $\\mathbf{A}$, $\\mathbf{B}$ and $\\mathbf{C}$, then\n",
        "$$(\\mathbf{A B})\\mathbf{C} = \\mathbf{A} (\\mathbf{B C}).$$\n",
        "\n",
        "The order of matrix multiplication can greatly impact how long it takes\n",
        "to perform the operations.\n",
        "\n",
        "**Prioritize performing operations that produce smaller matrices\n",
        "first.** Smaller can mean the total number of rows/columns or long/thin\n",
        "matrices, depending on the context.\n",
        "\n",
        "We create three matrices below filled with random values: `A` is a\n",
        "matrix of size $500\\times 2$, `B` is a matrix of size $2 \\times 50$, `C`\n",
        "is a $50\\times 1$ column vector."
      ],
      "id": "353ff1f0-de41-462f-a3ee-83acd7d2a9a4"
    },
    {
      "cell_type": "code",
      "execution_count": 51,
      "metadata": {},
      "outputs": [],
      "source": [
        "set.seed(1999)\n",
        "A <- matrix(rnorm(1000), ncol = 2)\n",
        "B <- matrix(rnorm(100), nrow = 2)\n",
        "C <- rnorm(50)"
      ],
      "id": "42500d2b"
    },
    {
      "cell_type": "markdown",
      "metadata": {},
      "source": [
        "Computing $\\mathbf{A}(\\mathbf{BC})$ is much faster than computing\n",
        "$(\\mathbf{AB})\\mathbf{C}$ because $\\mathbf{BC}$ first produces\n",
        "$2\\times 1$ matrix while $\\mathbf{AB}$ produces a much larger\n",
        "$500 \\times 50$ matrix.\n",
        "\n",
        "We confirm this by timing these operations using the `microbenchmark`\n",
        "function and plotting the results."
      ],
      "id": "65ebf37a-326e-4ba7-b3bc-18f7c1b69253"
    },
    {
      "cell_type": "code",
      "execution_count": 52,
      "metadata": {},
      "outputs": [],
      "source": [
        "t3 <- microbenchmark((A %*% B) %*% C,\n",
        "                     A %*% (B %*% C))\n",
        "plot(t3, las = 2, cex.axis = 0.5)"
      ],
      "id": "89db8738"
    },
    {
      "cell_type": "markdown",
      "metadata": {},
      "source": [
        "# Arrays\n",
        "\n",
        "## What is an array? ([YouTube](https://youtu.be/Gd5Z5TR9rQI), [Panopto](https://ucdenver.hosted.panopto.com/Panopto/Pages/Viewer.aspx?id=1d53c909-ca7a-4ae6-b63a-b09e0161a2d3))\n",
        "\n",
        "An array is a multidimensional, homogeneous (one data type) data\n",
        "structure.\n",
        "\n",
        "-   Arrays can be 1, 2, 3, $\\ldots$ dimensions.\n",
        "-   Arrays are a generalization of a matrix.\n",
        "\n",
        "We will discuss 3-dimensional arrays because they are the easiest to\n",
        "visualize.\n",
        "\n",
        "A 3-dimensional array is like a loaf of bread.\n",
        "\n",
        "-   Each slice of bread is a two-dimensional matrix/array.\n",
        "-   We stack the matrix slices side-by-side to get the third dimension\n",
        "    of our array.\n",
        "\n",
        "![Sliced\n",
        "bread](https://images.pexels.com/photos/166021/pexels-photo-166021.jpeg)\n",
        "\n",
        "## Creating an array ([YouTube](https://youtu.be/rI-S4DgESLU), [Panopto](https://ucdenver.hosted.panopto.com/Panopto/Pages/Viewer.aspx?id=78e4896e-a7bc-42fb-99bf-b09e0162500c))\n",
        "\n",
        "We can create an array in R using the `array` function.\n",
        "\n",
        "The two main arguments of the `array` function are:\n",
        "\n",
        "-   `data`: an atomic vector.\n",
        "-   `dim`: a numeric vector indicating the size of each dimension.\n",
        "\n",
        "Similar to the `matrix` function, the `array` function fills in the\n",
        "columns of each matrix before repeating the process for each element of\n",
        "the third dimension.\n",
        "\n",
        "We create a 3-dimensional array with dimension $3\\times 2 \\times 4$\n",
        "below."
      ],
      "id": "e1115d0c-d898-445d-9402-6139eb477fd8"
    },
    {
      "cell_type": "code",
      "execution_count": 53,
      "metadata": {},
      "outputs": [],
      "source": [
        "A <- array(1:24, dim = c(3, 2, 4))\n",
        "print(A)"
      ],
      "id": "c45c345e"
    },
    {
      "cell_type": "markdown",
      "metadata": {},
      "source": [
        "Alternatively, we can bind matrices or arrays together using the `abind`\n",
        "function in the **abind** package (Plate and Heiberger 2016).\n",
        "\n",
        "This is actually a very complex function, but we illustrate its use for\n",
        "creating a 3-dimensional array by binding 2-dimensional matrices.\n",
        "\n",
        "-   Run `?abind::abind` in the Console for more details.\n",
        "\n",
        "We first load the **abind** package."
      ],
      "id": "8920d0ec-f793-4128-9b78-6d836ffa8b9e"
    },
    {
      "cell_type": "code",
      "execution_count": 54,
      "metadata": {},
      "outputs": [],
      "source": [
        "library(abind)"
      ],
      "id": "6a969a60"
    },
    {
      "cell_type": "markdown",
      "metadata": {},
      "source": [
        "We now bind two matrices along a 3rd-dimension to create a 3-dimensional\n",
        "array."
      ],
      "id": "90e264a7-69ae-4b9c-8d4f-b51b5ef6b524"
    },
    {
      "cell_type": "code",
      "execution_count": 55,
      "metadata": {},
      "outputs": [],
      "source": [
        "A <- abind(\n",
        "      matrix(1:4, nrow = 2),\n",
        "      matrix(5:8, nrow = 2),\n",
        "      along = 3)\n",
        "print(A)"
      ],
      "id": "75b9c41e"
    },
    {
      "cell_type": "markdown",
      "metadata": {},
      "source": [
        "We create a second 3-dimensional array (of size $2\\times 2 \\times 2$\n",
        "named `B` below."
      ],
      "id": "5be5af78-8f12-4b3f-9d90-19e75daa1883"
    },
    {
      "cell_type": "code",
      "execution_count": 56,
      "metadata": {},
      "outputs": [],
      "source": [
        "B <- array(9:16, dim = c(2, 2, 2))"
      ],
      "id": "96eae8fa"
    },
    {
      "cell_type": "markdown",
      "metadata": {},
      "source": [
        "To bind `A` and `B` together, we can use the `abind` function."
      ],
      "id": "223a44d1-598f-4f90-aaf6-6a7525649401"
    },
    {
      "cell_type": "code",
      "execution_count": 57,
      "metadata": {},
      "outputs": [],
      "source": [
        "AB <- abind(A, B)\n",
        "print(AB)"
      ],
      "id": "e559ed7d"
    },
    {
      "cell_type": "markdown",
      "metadata": {},
      "source": [
        "The `dim` function can be used to determine the size of an array."
      ],
      "id": "0324d14f-7183-4729-ad3b-fadf01aaf119"
    },
    {
      "cell_type": "code",
      "execution_count": 58,
      "metadata": {},
      "outputs": [],
      "source": [
        "dim(A)"
      ],
      "id": "8a200e3a"
    },
    {
      "cell_type": "markdown",
      "metadata": {},
      "source": [
        "## Subsetting an array ([YouTube](https://youtu.be/tfynOZxThHA), [Panopto](https://ucdenver.hosted.panopto.com/Panopto/Pages/Viewer.aspx?id=dc55a667-f106-4254-a1ed-b09e0162f98f))\n",
        "\n",
        "We can subset an array in much the same way as a matrix. We use the `[`\n",
        "operator and provide vectors indicating the desired positions in each\n",
        "dimension that we want to extract, with each dimension being separated\n",
        "by a comma.\n",
        "\n",
        "If `A` is an array with 3 dimensions, then we can select a rectangular\n",
        "subset of `A` using the syntax `A[v1, v2, v3]`, where `v1`, `v2`, and\n",
        "`v3` are `numeric` vectors indicating the desired elements in each\n",
        "dimension, respectively, that we want to select.\n",
        "\n",
        "We provide some examples below."
      ],
      "id": "e3cd73d0-0856-4f2d-af6b-fc842f641f0d"
    },
    {
      "cell_type": "code",
      "execution_count": 59,
      "metadata": {},
      "outputs": [],
      "source": [
        "A <- array(1:24, dim = c(3, 2, 4))\n",
        "print(A)"
      ],
      "id": "26363db3"
    },
    {
      "cell_type": "markdown",
      "metadata": {},
      "source": [
        "Here, we subset the first element of the first dimension of `A`. This\n",
        "will run across the two elements of the second dimension of `A` and\n",
        "across all 4 elements of the third dimension."
      ],
      "id": "21333ea7-cc78-416e-a60d-73917ade978b"
    },
    {
      "cell_type": "code",
      "execution_count": 60,
      "metadata": {},
      "outputs": [],
      "source": [
        "print(A[1, , ])"
      ],
      "id": "f68cca8d"
    },
    {
      "cell_type": "markdown",
      "metadata": {},
      "source": [
        "We subset the second element of the second dimension of `A`. This will\n",
        "run across all 3 elements of the first dimension of `A` and across all 4\n",
        "elements of the 3rd dimension."
      ],
      "id": "34c78f3f-9b50-4c56-b4ed-e96bb7263d34"
    },
    {
      "cell_type": "code",
      "execution_count": 61,
      "metadata": {},
      "outputs": [],
      "source": [
        "print(A[, 2, ])"
      ],
      "id": "103a8e0b"
    },
    {
      "cell_type": "markdown",
      "metadata": {},
      "source": [
        "We subset the second and third elements of the third dimension of `A`,\n",
        "i.e., the second and third slices of the third dimension of `A`. This\n",
        "will run across all 3 elements of the first dimension of `A` and across\n",
        "both elements of the second dimension."
      ],
      "id": "ddc928f7-f3f5-41e6-9a7d-ec3cdcb3e2e9"
    },
    {
      "cell_type": "code",
      "execution_count": 62,
      "metadata": {},
      "outputs": [],
      "source": [
        "print(A[, , 2:3])"
      ],
      "id": "26b51903"
    },
    {
      "cell_type": "markdown",
      "metadata": {},
      "source": [
        "If we subset an array such that the subset can be thought of as a vector\n",
        "(e.g., a $1\\times 1 \\times 4$ array is like a vector with length 4),\n",
        "then R will automatically convert the subsetted object to a vector\n",
        "because the `[` operator has a hidden `drop` argument that by default\n",
        "coerces the result to the lowest possible dimension."
      ],
      "id": "353b1762-95e3-4b80-b3bb-2f407db57942"
    },
    {
      "cell_type": "code",
      "execution_count": 63,
      "metadata": {},
      "outputs": [],
      "source": [
        "print(A[1, 1, ])"
      ],
      "id": "cb8d5b10"
    },
    {
      "cell_type": "markdown",
      "metadata": {},
      "source": [
        "To avoid this behavior, we must set `drop` to `FALSE`."
      ],
      "id": "5dbbb740-2bb2-4a9d-afe7-b5e7ae39af74"
    },
    {
      "cell_type": "code",
      "execution_count": 64,
      "metadata": {},
      "outputs": [],
      "source": [
        "print(A[1, 1, , drop = FALSE])"
      ],
      "id": "fb58d9c1"
    },
    {
      "cell_type": "markdown",
      "metadata": {},
      "source": [
        "If we want to select specific *elements* of an array (and not a\n",
        "rectangular subset) then we can pass a matrix indicating the elements we\n",
        "want to select.\n",
        "\n",
        "-   The number of columns of the matrix needs to match the number of\n",
        "    dimensions of the array we are subsetting.\n",
        "-   Each row of the matrix indicates an element we want to select.\n",
        "\n",
        "We create an matrix, `v`, to subset the elements in positions\n",
        "$(1, 1, 1)$ and $(3, 2, 4)$ of `A`."
      ],
      "id": "512cdd8b-61ef-4364-b636-994067e70bdc"
    },
    {
      "cell_type": "code",
      "execution_count": 65,
      "metadata": {},
      "outputs": [],
      "source": [
        "v <- cbind(c(1, 3), c(1, 2), c(1, 4))\n",
        "v"
      ],
      "id": "dba65ee6"
    },
    {
      "cell_type": "markdown",
      "metadata": {},
      "source": [
        "We now use `v` to subset these elements of `A`."
      ],
      "id": "4bd30534-f56e-45b3-8f07-7ffff3eb6b4f"
    },
    {
      "cell_type": "code",
      "execution_count": 66,
      "metadata": {},
      "outputs": [],
      "source": [
        "print(A[v])"
      ],
      "id": "e46257c0"
    },
    {
      "cell_type": "markdown",
      "metadata": {},
      "source": [
        "We can use the `-` syntax we learned with `matrix` objects to subset\n",
        "parts of an array that are not in certain positions, but we don’t\n",
        "demonstrate its usage here.\n",
        "\n",
        "# Lists\n",
        "\n",
        "## What is a list? ([YouTube](https://youtu.be/VGqZg0Na7kU), [Panopto](https://ucdenver.hosted.panopto.com/Panopto/Pages/Viewer.aspx?id=ce680bde-c6d6-480d-a331-b09e01643cb4))\n",
        "\n",
        "A list in R is a non-atomic vector.\n",
        "\n",
        "-   It is a vector, meaning it is one-dimensional.\n",
        "-   It is non-atomic, meaning it can hold data beyond the basic types\n",
        "    (`character`, `integer`, `double`, `logical`, `complex`, `raw`).\n",
        "\n",
        "Lists are commonly used in two different ways:\n",
        "\n",
        "1.  A vector with elements of the same non-atomic type, e.g., a vector\n",
        "    of `lm` objects from the `lm` function.\n",
        "2.  A vector of elements of many different types. This is often used in\n",
        "    objected-oriented programming in R, which we will not discuss.\n",
        "\n",
        "We will discuss the first type of list in the context of loops and apply\n",
        "functions, where they make more sense.\n",
        "\n",
        "We will discuss the second type below.\n",
        "\n",
        "## Creating a list ([YouTube](https://youtu.be/l5-qDCntYZg), [Panopto](https://ucdenver.hosted.panopto.com/Panopto/Pages/Viewer.aspx?id=b83d4606-7365-4576-9e5a-b09e017310d9))\n",
        "\n",
        "A list is stored as a `list` object.\n",
        "\n",
        "A `list` object can be created using the `list` function. Simply pass\n",
        "the objects you want to include the `list` as arguments to the `list`\n",
        "function.\n",
        "\n",
        "We provide an example below. We create a list that includes a vector, a\n",
        "matrix, and a function."
      ],
      "id": "56ec1678-85f9-4286-8a7a-667bb2a170ce"
    },
    {
      "cell_type": "code",
      "execution_count": 67,
      "metadata": {},
      "outputs": [],
      "source": [
        "list(1:10, matrix(1:10, nrow = 2), mean)"
      ],
      "id": "bb9a4385"
    },
    {
      "cell_type": "markdown",
      "metadata": {},
      "source": [
        "It is common to assign the elements of a list names to make them easier\n",
        "to reference. To do that, we simply use the syntax `name = x` in our\n",
        "list, where `name` is the name we want to give the element and `x` is\n",
        "the object we are including in our list."
      ],
      "id": "8ecbf101-8ace-4241-b9b5-f55f2057ade4"
    },
    {
      "cell_type": "code",
      "execution_count": 68,
      "metadata": {},
      "outputs": [],
      "source": [
        "mylist <- list(a = 1:10, b = matrix(1:10, nrow = 2), f = mean)\n",
        "mylist"
      ],
      "id": "90ce4521"
    },
    {
      "cell_type": "markdown",
      "metadata": {},
      "source": [
        "We can create a new list by combining two or more other lists using the\n",
        "`c` function.\n",
        "\n",
        "We combine 3 simple lists below using the `c` function."
      ],
      "id": "36c1ab38-3784-4399-9753-1b93a05631a2"
    },
    {
      "cell_type": "code",
      "execution_count": 69,
      "metadata": {},
      "outputs": [],
      "source": [
        "c(list(1, 1:2), list(\"a\", c(\"a\", \"b\")), list(TRUE, c(TRUE, FALSE)))"
      ],
      "id": "1973fe9f"
    },
    {
      "cell_type": "markdown",
      "metadata": {},
      "source": [
        "## Subsetting a list ([YouTube](https://youtu.be/mc5oUxvSVZM), [Panopto](https://ucdenver.hosted.panopto.com/Panopto/Pages/Viewer.aspx?id=fdd25b1c-f02e-4ba2-8231-b09e0173c626))\n",
        "\n",
        "Subsetting a list is more similar to subsetting an atomic vector than it\n",
        "is to subsetting a matrix or array.\n",
        "\n",
        "We create a simple 4-element list with named\\` components below."
      ],
      "id": "591b1bab-f7cf-4016-8fe2-a369f9a7efa6"
    },
    {
      "cell_type": "code",
      "execution_count": 70,
      "metadata": {},
      "outputs": [],
      "source": [
        "a <- list(a = 1, b = 1:2, c = 1:3, d = 1:4)"
      ],
      "id": "a35ae3e8"
    },
    {
      "cell_type": "markdown",
      "metadata": {},
      "source": [
        "To subset elements of the list, we append `[idx]` to the end of the\n",
        "list’s name, where `idx` is a vector with the indices of the elements we\n",
        "want to extract or a logical vector indicating the elements we want to\n",
        "extract.\n",
        "\n",
        "In the example below, we extract the 1st and 3rd elements of `a`."
      ],
      "id": "a10ac109-8701-4467-b2c7-8a35f94f8449"
    },
    {
      "cell_type": "code",
      "execution_count": 71,
      "metadata": {},
      "outputs": [],
      "source": [
        "a[c(1, 3)]"
      ],
      "id": "72f355b9"
    },
    {
      "cell_type": "markdown",
      "metadata": {},
      "source": [
        "In the next example, we use a logical vector to subset the 2nd and 4th\n",
        "elements of `a`."
      ],
      "id": "c44549a1-8baf-4415-9245-7011cf7933fe"
    },
    {
      "cell_type": "code",
      "execution_count": 72,
      "metadata": {},
      "outputs": [],
      "source": [
        "a[c(FALSE, TRUE, FALSE, TRUE)]"
      ],
      "id": "0b3d6945"
    },
    {
      "cell_type": "markdown",
      "metadata": {},
      "source": [
        "Since the elements of the list are named, we can also use a vector of\n",
        "character strings to indicate the elements we want to subset.\n",
        "\n",
        "We subset elements `c` and `d` below."
      ],
      "id": "d6b3898c-54a0-4eed-8549-eabb57e7a0d9"
    },
    {
      "cell_type": "code",
      "execution_count": 73,
      "metadata": {},
      "outputs": [],
      "source": [
        "a[c(\"c\", \"d\")]"
      ],
      "id": "ff20d34f"
    },
    {
      "cell_type": "markdown",
      "metadata": {},
      "source": [
        "If we want to extract a specific element out of our list, then we append\n",
        "`[[i]]` to the list’s name, with `i` indicating the index of the element\n",
        "we want to extract.\n",
        "\n",
        "In the example below, we extract the second element of `a`. Notice that\n",
        "the result is the vector `1:2`, which is what is contained in the 2nd\n",
        "element of `a`."
      ],
      "id": "17721497-531b-42b9-806d-8fbaa1e56556"
    },
    {
      "cell_type": "code",
      "execution_count": 74,
      "metadata": {},
      "outputs": [],
      "source": [
        "a[[2]]"
      ],
      "id": "522d9e99"
    },
    {
      "cell_type": "markdown",
      "metadata": {},
      "source": [
        "What is the difference between the previous result and what we get from\n",
        "the following command?"
      ],
      "id": "9283d3d9-0cec-4a9e-98df-f8956b3a6dca"
    },
    {
      "cell_type": "code",
      "execution_count": 75,
      "metadata": {},
      "outputs": [],
      "source": [
        "a[2]"
      ],
      "id": "c1c75e21"
    },
    {
      "cell_type": "markdown",
      "metadata": {},
      "source": [
        "In the former example, we extracted the object that was in the 2nd\n",
        "element of `a`. In the latter example, we get a list with only one\n",
        "element. The only element of this list is what was previously the 2nd\n",
        "element of `a`.\n",
        "\n",
        "For a list with named components, we can use the `$` operator to extract\n",
        "a specific element.\n",
        "\n",
        "In the code below, we extract the object in element `\"c\"` of `a`."
      ],
      "id": "c30b7f60-9f87-46d6-94a6-18e1a434c598"
    },
    {
      "cell_type": "code",
      "execution_count": 76,
      "metadata": {},
      "outputs": [],
      "source": [
        "a$c"
      ],
      "id": "0b54b1a1"
    },
    {
      "cell_type": "markdown",
      "metadata": {},
      "source": [
        "## Nested lists ([YouTube](https://youtu.be/wkgPuUgtPR8), [Panopto](https://ucdenver.hosted.panopto.com/Panopto/Pages/Viewer.aspx?id=b74d8590-6e6d-4ef7-a541-b09e017450b9))\n",
        "\n",
        "We can create lists of lists of lists, which created “nested” lists\n",
        "because the lists are nested in each other.\n",
        "\n",
        "In that case, to subset elements of the lists, we might need to stack\n",
        "usage of `[]` or `[[]]` side by side to subset or extract the desired\n",
        "elements.\n",
        "\n",
        "We create a nested list below."
      ],
      "id": "b260fe7b-637a-4cb7-8d6d-ac211a93e20a"
    },
    {
      "cell_type": "code",
      "execution_count": 77,
      "metadata": {},
      "outputs": [],
      "source": [
        "b <- list(list(1, 1:2, list(3, 3:4)), 5:7)\n",
        "b"
      ],
      "id": "53d41af4"
    },
    {
      "cell_type": "markdown",
      "metadata": {},
      "source": [
        "The first element of the top-level of the list is another list with the\n",
        "second element is the vector `5:7`."
      ],
      "id": "2ecfac07-f8db-40f1-9b2f-82aadb1fe2b4"
    },
    {
      "cell_type": "code",
      "execution_count": 78,
      "metadata": {},
      "outputs": [],
      "source": [
        "b[[1]]"
      ],
      "id": "5522907c"
    },
    {
      "cell_type": "code",
      "execution_count": 79,
      "metadata": {},
      "outputs": [],
      "source": [
        "b[[2]]"
      ],
      "id": "8f3d3941"
    },
    {
      "cell_type": "markdown",
      "metadata": {},
      "source": [
        "`b[[1]]` is a list with 3 elements: the first element is the vector `1`,\n",
        "the second element is the vector `[3]`, while the third element is\n",
        "another list with two elements.\n",
        "\n",
        "We can subset the first two elements of `b[[1]]` by appending `[1:2]` to\n",
        "the previous syntax."
      ],
      "id": "9a205700-f3b9-49f1-9ec1-6306122140f2"
    },
    {
      "cell_type": "code",
      "execution_count": 80,
      "metadata": {},
      "outputs": [],
      "source": [
        "b[[1]][1:2]"
      ],
      "id": "80e6d029"
    },
    {
      "cell_type": "markdown",
      "metadata": {},
      "source": [
        "We can extract the third element of `b[[1]]` by appending `[[3]]` to the\n",
        "previous syntax."
      ],
      "id": "dc71e537-83c5-4e62-a51d-71087bbb4211"
    },
    {
      "cell_type": "code",
      "execution_count": 81,
      "metadata": {},
      "outputs": [],
      "source": [
        "b[[1]][[3]]"
      ],
      "id": "f165957a"
    },
    {
      "cell_type": "markdown",
      "metadata": {},
      "source": [
        "We can access information contained in the 3rd element of the list\n",
        "contained in element of `b` in a similar way.\n",
        "\n",
        "Mersmann, Olaf. 2023. *Microbenchmark: Accurate Timing Functions*.\n",
        "<https://github.com/joshuaulrich/microbenchmark/>.\n",
        "\n",
        "Plate, Tony, and Richard Heiberger. 2016. *Abind: Combine\n",
        "Multidimensional Arrays*. <https://CRAN.R-project.org/package=abind>."
      ],
      "id": "c0a55e82-f65d-4eb7-9046-f4b735ffbebb"
    }
  ],
  "nbformat": 4,
  "nbformat_minor": 5,
  "metadata": {
    "kernelspec": {
      "name": "ir",
      "display_name": "R",
      "language": "R"
    },
    "language_info": {
      "name": "R",
      "codemirror_mode": "r",
      "file_extension": ".r",
      "mimetype": "text/x-r-source",
      "pygments_lexer": "r",
      "version": "4.2.2"
    }
  }
}