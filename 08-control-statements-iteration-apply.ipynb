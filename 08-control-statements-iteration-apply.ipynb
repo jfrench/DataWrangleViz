{
  "cells": [
    {
      "cell_type": "markdown",
      "metadata": {},
      "source": [
        "# Control statements, iteration, and apply functions\n",
        "\n",
        "Joshua P. French  \n",
        "October 26, 2023\n",
        "\n",
        "To open this information in an interactive Colab notebook, click the\n",
        "Open in Colab graphic below.\n",
        "\n",
        "<a href=\"https://colab.research.google.com/github/jfrench/DataWrangleViz/blob/master/08-control-statements-iteration-apply.ipynb\">\n",
        "<img src=\"https://colab.research.google.com/assets/colab-badge.svg\">\n",
        "</a>\n",
        "\n",
        "------------------------------------------------------------------------\n",
        "\n",
        "In this module we will discuss control statements, iteration, and apply\n",
        "functions. These are fundamental tools used in R programming. A simple\n",
        "analysis will not need them, but as we analyze more complex data, these\n",
        "tools will be critical in completing our analyses.\n",
        "\n",
        "We start by making sure the necessary R packages are installed."
      ],
      "id": "a259ba36-6329-4bbc-b02d-8b9f8ac75013"
    },
    {
      "cell_type": "code",
      "execution_count": 2,
      "metadata": {},
      "outputs": [],
      "source": [
        "if(!require(microbenchmark, quietly = TRUE)) {\n",
        "  install.packages(\"microbenchmark\",\n",
        "                   repos = \"https://cran.rstudio.com/\")\n",
        "}"
      ],
      "id": "f11d30cd"
    },
    {
      "cell_type": "code",
      "execution_count": 3,
      "metadata": {},
      "outputs": [],
      "source": [
        "if(!require(pbapply, quietly = TRUE)) {\n",
        "  install.packages(\"pbapply\",\n",
        "                   repos = \"https://cran.rstudio.com/\")\n",
        "}"
      ],
      "id": "04c8fa0c"
    },
    {
      "cell_type": "code",
      "execution_count": 4,
      "metadata": {},
      "outputs": [],
      "source": [
        "if(!require(future.apply, quietly = TRUE)) {\n",
        "  install.packages(\"future.apply\",\n",
        "                   repos = \"https://cran.rstudio.com/\")\n",
        "}"
      ],
      "id": "ed005068"
    },
    {
      "cell_type": "markdown",
      "metadata": {},
      "source": [
        "# Control statements\n",
        "\n",
        "A control statement is code that controls what is executed later in the\n",
        "program or script. The most well-known examples are “if-else” and\n",
        "“switch” statements.\n",
        "\n",
        "## `if`, `else if` and `else`\n",
        "\n",
        "If-else statements in R rely on 3 functions: `if`, `elseif`, `else`.\n",
        "\n",
        "-   The `if` statement can be used by itself.\n",
        "-   The `else` statement must be used in conjunction with the `if`\n",
        "    function.\n",
        "-   `else if` must be used in conjunction with the `if` statement and\n",
        "    should be used with an `else` statement (otherwise there may be\n",
        "    cases that are left out).\n",
        "\n",
        "An `if` or `else if` statement is used to perform a sequence of commands\n",
        "when its argument is `TRUE`.\n",
        "\n",
        "An `else` statement is used to perform a sequence of commands when all\n",
        "previous control statement arguments are `FALSE` in a group of control\n",
        "statements.\n",
        "\n",
        "A set of `if`, `else if`, and `else` statements will having the\n",
        "following structure:\n",
        "\n",
        "    if (logical statement) {\n",
        "      # code to run if logical statement is true\n",
        "    } else if (another logical statement) {\n",
        "      # code to run if another logical statement is true\n",
        "    } else {\n",
        "      # code to run if none of the other logical statements were true\n",
        "    }\n",
        "\n",
        "The curly braces, `{}`, are used to indicate the set of commands we want\n",
        "to execute if the logical statement is true.\n",
        "\n",
        "The `else if` and `else` statements should be one space after the `}`\n",
        "used to indicate the end if the previous `if` or `elseif` statement.\n",
        "\n",
        "It is common to indent the code within a control statement by one tab to\n",
        "make the code easier to read.\n",
        "\n",
        "### Categorization example\n",
        "\n",
        "According to the CareGivers of America at\n",
        "<https://caregiversofamerica.com/2022-generation-names-explained/>, here\n",
        "is a breakdown of birth years for seven recent generations.\n",
        "\n",
        "-   The Greatest Generation: born 1901-1927.\n",
        "-   The Silent Generation: born 1928-1945.\n",
        "-   The Baby Boomer Generation: born 1946-1964.\n",
        "-   Generation X: born 1965-1980.\n",
        "-   Millennials: born 1981-1996.\n",
        "-   Generation Z: born 1996-2012.\n",
        "-   Gen Alpha: born 2013 – 2025.\n",
        "\n",
        "Let’s say we have a vector with the birth year of an individual and we\n",
        "wish to identify the individual’s generation based on the dates above.\n",
        "We can do this using a sequence of control statements. For simplicity,\n",
        "we only use the last four generations (Millennials, Generation Z, Gen\n",
        "Alpha, and Other).\n",
        "\n",
        "We create a sequence of control statements to categorize the generation\n",
        "of a single number stored in the `year` object.\n",
        "\n",
        "We set `year` to `1950`."
      ],
      "id": "64b3d763-8762-4734-928f-68e109c03749"
    },
    {
      "cell_type": "code",
      "execution_count": 5,
      "metadata": {},
      "outputs": [],
      "source": [
        "year <- 1950"
      ],
      "id": "3fa08c5a"
    },
    {
      "cell_type": "markdown",
      "metadata": {},
      "source": [
        "Now we create a sequence of control statements to categorize the `year`\n",
        "variable"
      ],
      "id": "6083563a-1d30-4759-9f38-deab8a48e140"
    },
    {
      "cell_type": "code",
      "execution_count": 6,
      "metadata": {},
      "outputs": [],
      "source": [
        "if (year >= 1981 & year <= 1996) {\n",
        "  generation <- \"millennial\"\n",
        "} else if (year >= 1997 & year <= 2012) {\n",
        "  generation <- \"generation z\"  \n",
        "} else if (year >= 2013 & year <= 2025) {\n",
        "  generation <- \"gen alpha\"\n",
        "} else {\n",
        "  generation <- \"other\"\n",
        "}"
      ],
      "id": "470859ba"
    },
    {
      "cell_type": "markdown",
      "metadata": {},
      "source": [
        "We now look at the result stored in `generation`."
      ],
      "id": "e25bac13-7d14-4449-a5d4-8be0dea5529b"
    },
    {
      "cell_type": "code",
      "execution_count": 7,
      "metadata": {},
      "outputs": [],
      "source": [
        "generation"
      ],
      "id": "8d735de3"
    },
    {
      "cell_type": "markdown",
      "metadata": {},
      "source": [
        "As expected, `generation` categorizes a person born in 1950 as being\n",
        "part of the `\"other\"` generation.\n",
        "\n",
        "It would be even better if we made a function to do this categorization\n",
        "so that we can do the categorization for many different values of\n",
        "`year`.\n",
        "\n",
        "We create a function, `determine_generation`, that takes the argument\n",
        "`year` and returns the generation corresponding to that year."
      ],
      "id": "0d31a2f5-0b61-4732-9b04-b4a61a332fdc"
    },
    {
      "cell_type": "code",
      "execution_count": 8,
      "metadata": {},
      "outputs": [],
      "source": [
        "determine_generation <- function(year) {\n",
        "  if (year >= 1981 & year <= 1996) {\n",
        "    generation <- \"millennial\"\n",
        "  } else if (year >= 1997 & year <= 2012) {\n",
        "    generation <- \"generation z\"  \n",
        "  } else if (year >= 2013 & year <= 2025) {\n",
        "    generation <- \"gen alpha\"\n",
        "  } else {\n",
        "    generation <- \"other\"\n",
        "  }\n",
        "  return(generation)\n",
        "}"
      ],
      "id": "01b15f91"
    },
    {
      "cell_type": "markdown",
      "metadata": {},
      "source": [
        "We now use the function to determine the generation associated with the\n",
        "value 1985."
      ],
      "id": "99c41d8e-cd0c-4016-8789-f2a47978bb74"
    },
    {
      "cell_type": "code",
      "execution_count": 9,
      "metadata": {},
      "outputs": [],
      "source": [
        "determine_generation(1985)"
      ],
      "id": "307213cd"
    },
    {
      "cell_type": "markdown",
      "metadata": {},
      "source": [
        "The above example is trivial and unrealistic. E.g., our control\n",
        "statements won’t work with a vector of inputs. Additionally, it doesn’t\n",
        "handle cases like non-integer values very well (what generation is\n",
        "1981.5?). However, it paints a picture of what can be done using control\n",
        "statements.\n",
        "\n",
        "## The `switch` function\n",
        "\n",
        "The `switch` function is a compact way of evaluating a set of `if`,\n",
        "`elseif`, and `else` statements when we need to change our action\n",
        "depending on a single value argument that can only take a small number\n",
        "of values.\n",
        "\n",
        "The `switch` function takes the following arguments:\n",
        "\n",
        "-   `EXPR`: a single value that evaluates to a number or character\n",
        "    string.\n",
        "-   … A list of what to do based on the value of `EXPR`.\n",
        "\n",
        "### Animal example\n",
        "\n",
        "Let’s create a function called `sound` that takes a single character\n",
        "value `animal` and returns the “sound” associated with that animal.\n",
        "\n",
        "The `switch` function takes the value in `animal` and then decides what\n",
        "to do.\n",
        "\n",
        "-   If `animal` is `\"dog\"`, then the `switch` function returns `\"ruff\"`.\n",
        "-   If `animal` is `\"cat\"`, then the `switch` function returns `\"meow\"`.\n",
        "-   The last input to the `switch` argument in the above example is what\n",
        "    we want to return if the value of `animal` doesn’t match any of the\n",
        "    previous choices."
      ],
      "id": "d99fe973-8c5e-4085-b12a-a9dd56860141"
    },
    {
      "cell_type": "code",
      "execution_count": 10,
      "metadata": {},
      "outputs": [],
      "source": [
        "sound <- function(animal) {\n",
        "  switch(animal, \n",
        "         \"dog\" = \"ruff\",\n",
        "         \"cat\" = \"meow\",\n",
        "         \"horse\" = \"neigh\",\n",
        "         \"frog\" = \"ribbit\",\n",
        "         \"cow\" = \"moo\",\n",
        "         \"duck\" = \"quack\",\n",
        "         \"rooster\" = \"keekarikee\",\n",
        "         \"coyote\" = \"yipp\",\n",
        "         \"donkey\" = \"hee-haw\",\n",
        "         \"we don't know what sound this animal makes\")\n",
        "}"
      ],
      "id": "8e0f01dd"
    },
    {
      "cell_type": "markdown",
      "metadata": {},
      "source": [
        "Let’s use this function."
      ],
      "id": "6aeb0470-cf0d-4113-ace8-d57d27c98d44"
    },
    {
      "cell_type": "code",
      "execution_count": 11,
      "metadata": {},
      "outputs": [],
      "source": [
        "sound(\"dog\")"
      ],
      "id": "4df1f6f8"
    },
    {
      "cell_type": "code",
      "execution_count": 12,
      "metadata": {},
      "outputs": [],
      "source": [
        "sound(\"duck\")"
      ],
      "id": "d5ec9d26"
    },
    {
      "cell_type": "code",
      "execution_count": 13,
      "metadata": {},
      "outputs": [],
      "source": [
        "sound(\"goose\")"
      ],
      "id": "1591cd47"
    },
    {
      "cell_type": "markdown",
      "metadata": {},
      "source": [
        "# Iteration\n",
        "\n",
        "`for` and `while` loops are the two *main* types of iteration in R\n",
        "\n",
        "There is also a `repeat` iterator that repeatedly runs the same set of\n",
        "code until the `break` function is used.\n",
        "\n",
        "-   The `break` function is used to “break out” of the current iteration\n",
        "    of the inner-most loop.\n",
        "-   The `next` function is used stop the current iteration and advance\n",
        "    the looping index.\n",
        "\n",
        "I have never once used the `repeat`, `break`, or `next` functions in\n",
        "over 20 years of R programming. While I’m sure they have their uses,\n",
        "they are not commonly used nor needed, so we will not be covering them.\n",
        "\n",
        "## `for` loops\n",
        "\n",
        "### Basic `for` loops\n",
        "\n",
        "`for` loops are useful if we know in advance the set of values that we\n",
        "want to iterate over. E.g., we may want to perform an action for integer\n",
        "values running from 1 to 100.\n",
        "\n",
        "The basic syntax of a `for` loop is shown in the psuedo code below.\n",
        "\n",
        "    for (i in vector_of_values) {\n",
        "      # some code to run\n",
        "    }\n",
        "\n",
        "We have the following components of the `for` loop:\n",
        "\n",
        "-   The loop starts with `for`, which indicates that we want to perform\n",
        "    a `for` loop.\n",
        "-   Inside parentheses after `for`, we have the iterator name, which is\n",
        "    the name of the variable that our loop is changing. In this example,\n",
        "    we called the iterator `i`. Names like `i`, `j`, `k`, and `l` are\n",
        "    commonly used, but we can use any name that won’t conflict with\n",
        "    other object in memory.\n",
        "-   After the iterator name, we use the syntax “`in`”, which indicates\n",
        "    that our iterator will take the values in `vector_of_values`.\n",
        "-   `vector_of_values` is a vector containing the values the iterator\n",
        "    can take as we progress through the loop.\n",
        "-   After the parenthesis, we use the curly braces `{}` to indicate the\n",
        "    code we want to run in our loop.\n",
        "-   The `#some code to run` is the code we wish to execute in our loop.\n",
        "\n",
        "Here’s what happens in a `for` loop:\n",
        "\n",
        "1.  The iterator takes the first value in `vector_of_values`.\n",
        "2.  Using that iterator value, the loop runs the code in the curly\n",
        "    braces.\n",
        "3.  After that code runs, the `for` function will change the iterator to\n",
        "    the next value in `vector_of_values`.\n",
        "4.  We repeat steps 2 and 3 until there are no more values in\n",
        "    `vector_of_values`.\n",
        "5.  We exit the loop.\n",
        "\n",
        "Here’s an example of a simple `for` loop that prints the current\n",
        "iterator value for the values 1, 2, and 3."
      ],
      "id": "bfc25037-9aca-461d-b422-20fd9db81917"
    },
    {
      "cell_type": "code",
      "execution_count": 14,
      "metadata": {},
      "outputs": [],
      "source": [
        "for (i in 1:3) {\n",
        "  message(\"The current iterator value is \", i)\n",
        "}"
      ],
      "id": "ca9ba262"
    },
    {
      "cell_type": "markdown",
      "metadata": {},
      "source": [
        "The `message` function prints a diagnostic message to the screen. Notice\n",
        "that the `message` function can combine text and numeric values into a\n",
        "single message. We have to manually include spaces in the text.\n",
        "\n",
        "Here is a loop that takes a character string of animal names and returns\n",
        "the sound made by the animal. We use the `sound` function we previously\n",
        "created."
      ],
      "id": "ff2d558b-1a46-425b-92c7-bb9db6eee9e9"
    },
    {
      "cell_type": "code",
      "execution_count": 15,
      "metadata": {},
      "outputs": [],
      "source": [
        "for (animal in c(\"dog\", \"cat\", \"coyote\")) {\n",
        "  current_sound <- sound(animal)\n",
        "  message(\"The \", animal, \" makes the sound \", current_sound, \".\")\n",
        "}"
      ],
      "id": "d1d096f8"
    },
    {
      "cell_type": "markdown",
      "metadata": {},
      "source": [
        "### Q-q plot example\n",
        "\n",
        "Let’s create a more realistic `for` loop example involving\n",
        "quantile-quantile plots (q-q plots).\n",
        "\n",
        "A q-q plot is a way to compare the quantiles observed for a data set\n",
        "with the theoretical quantiles we expect if the data comes from a\n",
        "certain distribution.\n",
        "\n",
        "-   We plot the pairs of quantiles in a scatter plot.\n",
        "-   If the points of the q-q plot fall close to a straight line, then it\n",
        "    is plausible that the observed data are a sample from the\n",
        "    theoretical distribution.\n",
        "\n",
        "Q-q plots are often used to evaluate whether data seems to have come\n",
        "from a normally-distributed population. However, each random sample from\n",
        "the population will vary. How much variability can we expect in our q-q\n",
        "plot if the data are a random sample from a normally-distributed\n",
        "population?\n",
        "\n",
        "In the code below, we:\n",
        "\n",
        "1.  Use the `set.seed` function to make our example reproducible.\n",
        "2.  Use the `mfrow` argument of the `par` function to create a plotting\n",
        "    grid of size 2x2.\n",
        "3.  Use a `for` loop to iterate over the values 1, 2, 3, 4. For each\n",
        "    value of the iterator:\n",
        "    1.  Use the `rnorm` function to draw a random sample of 20 values\n",
        "        from a normal population with mean 0 and standard deviation 1.\n",
        "    2.  Use the `qqnorm` function to create a q-q plot for the random\n",
        "        sample based on a normal population.\n",
        "    3.  Use the `abline` function add a 45 degree reference line for\n",
        "        convenience.\n",
        "4.  Use the `par` function to reset the plotting grid to size 1x1."
      ],
      "id": "2b5290c6-29c5-41cb-887d-0a07456b1211"
    },
    {
      "cell_type": "code",
      "execution_count": 16,
      "metadata": {},
      "outputs": [],
      "source": [
        "# make example reproducible\n",
        "set.seed(33)\n",
        "# create 2x2 plotting grid\n",
        "par(mfrow = c(2, 2))\n",
        "# draw normal samples, create q-q plot\n",
        "for (i in 1:4) {\n",
        "  # draw 20 values from a N(0, 1) population\n",
        "  s <- rnorm(20)\n",
        "  # draw q-q plot for sample using normal distribution\n",
        "  qqnorm(s)\n",
        "  # draw reference line\n",
        "  abline(0, 1)\n",
        "}\n",
        "# reset plotting grid to 1x1\n",
        "par(mfrow = c(1, 1))"
      ],
      "id": "f4e036f7"
    },
    {
      "cell_type": "markdown",
      "metadata": {},
      "source": [
        "### KNN example\n",
        "\n",
        "We now use a `for` loop to determine the K nearest neighbors of a set of\n",
        "locations. For each location, we determine the K locations that are\n",
        "nearest to the current location. These K locations are the nearest\n",
        "neighbors of the current location.\n",
        "\n",
        "We start be generating a random set of 25 coordinates where the x- and\n",
        "y-values can take any value between 0 and 1. In the code below, we:\n",
        "\n",
        "-   Use `set.seed` to make sure the example is reproducible.\n",
        "-   Use the `runif` function to draw a random sample of 50 values\n",
        "    between 0 and 1 based on a uniform distribution.\n",
        "-   Store these values in a `matrix` with 25 rows and 2 columns that has\n",
        "    the name `coords`."
      ],
      "id": "fd8f7c4b-cba0-44fb-86a5-98161c1e1bd0"
    },
    {
      "cell_type": "code",
      "execution_count": 17,
      "metadata": {},
      "outputs": [],
      "source": [
        "set.seed(1989)\n",
        "coords <- matrix(runif(50), ncol = 2)"
      ],
      "id": "ce1f1dba"
    },
    {
      "cell_type": "markdown",
      "metadata": {},
      "source": [
        "We plot the coordinates using the `plot` function."
      ],
      "id": "6ff10c66-2051-48ef-9a0f-2a0a13285437"
    },
    {
      "cell_type": "code",
      "execution_count": 18,
      "metadata": {},
      "outputs": [],
      "source": [
        "plot(coords, xlab = \"x\", ylab = \"y\")"
      ],
      "id": "aea30f9a"
    },
    {
      "cell_type": "markdown",
      "metadata": {},
      "source": [
        "We will determine the 3 nearest neighbors of each observation using a\n",
        "`for` loop. We will store our results in a `list` with 25 elements. Each\n",
        "element of the `list` will be a `numeric` `vector` of length 3\n",
        "indicating the 3 nearest neighbors of the current location. We could\n",
        "store this in a `matrix` for efficiency, but we use a `list` to get\n",
        "broader exposure to the R programming language.\n",
        "\n",
        "We start by creating `nnlist`, which is the `list` that will store the\n",
        "nearest neighbors for each location. We can create an empty vector using\n",
        "the `vector` function, specifying `mode = \"list\"`, then indicating the\n",
        "length of the `list`."
      ],
      "id": "52b51f9c-e5a4-4900-a576-c826b878552f"
    },
    {
      "cell_type": "code",
      "execution_count": 19,
      "metadata": {},
      "outputs": [],
      "source": [
        "nnlist <- vector(mode = \"list\", length = nrow(coords))"
      ],
      "id": "b6f49beb"
    },
    {
      "cell_type": "markdown",
      "metadata": {},
      "source": [
        "Why did we specify `length = nrow(coords)` instead of `length = 25`?\n",
        "This allows us to adapt our code to a new set of locations that may not\n",
        "be the same size.\n",
        "\n",
        "*It is wise not to “hard code” values (like the size of a `matrix` or\n",
        "`list` or even the values for a loop) into our code to make it easier to\n",
        "use the code for a new setting.*\n",
        "\n",
        "To find the nearest neighbors of each location, we need to find the\n",
        "distances between locations.\n",
        "\n",
        "The `dist` function can be used to determine the distances between the\n",
        "coordinates contained in a `matrix` object. The function can compute\n",
        "many kinds of distance, but the default is `\"euclidean\"`, which is what\n",
        "we need. By default, the `dist` function doesn’t return the diagonal\n",
        "elements of the distance matrix nor the upper diagonal elements. A trick\n",
        "to get the complete distance matrix is to use the `as.matrix` function\n",
        "on the object returned by the `dist` function. The value contained in\n",
        "row `i` and column `j` of the distance matrix is the distance between\n",
        "the $i$th location and the $j$th location.\n",
        "\n",
        "With all that being said, we compute the distance matrix for the\n",
        "locations in `coords`."
      ],
      "id": "67cad732-0abf-4341-bf37-ff2c005a60b9"
    },
    {
      "cell_type": "code",
      "execution_count": 20,
      "metadata": {},
      "outputs": [],
      "source": [
        "d <- as.matrix(dist(coords))"
      ],
      "id": "48d5186c"
    },
    {
      "cell_type": "markdown",
      "metadata": {},
      "source": [
        "This matrix is too big to look at easily. However, from the code below,\n",
        "we can see that the distance between the 3 and 17th locations is\n",
        "0.474391."
      ],
      "id": "b549ba94-4851-45e5-bbe6-0693d5684bd4"
    },
    {
      "cell_type": "code",
      "execution_count": 21,
      "metadata": {},
      "outputs": [],
      "source": [
        "d[3, 17]"
      ],
      "id": "30c949b3"
    },
    {
      "cell_type": "markdown",
      "metadata": {},
      "source": [
        "How do we find the locations nearest the current location? We need to\n",
        "find the locations that have the smallest distance from the current\n",
        "location. The easiest way to do this in R is using the `order` function.\n",
        "\n",
        "The `order` function takes a vector of values and indicates which\n",
        "positions of the vector contain the smallest values, in ascending order.\n",
        "The `decreasing` argument of `order` can be changed to `TRUE` to order\n",
        "the values in descending order.\n",
        "\n",
        "Here’s a quick example that uses the `order` functions to order the\n",
        "values of a `numeric` `vector` from smallest to largest."
      ],
      "id": "f40a1268-a85a-4433-8cac-880972bc175f"
    },
    {
      "cell_type": "code",
      "execution_count": 22,
      "metadata": {},
      "outputs": [],
      "source": [
        "order(c(5, 1, 2, 4))"
      ],
      "id": "8e58fc66"
    },
    {
      "cell_type": "markdown",
      "metadata": {},
      "source": [
        "The second element of the vector we gave to `order` has the smallest\n",
        "value. The third element has the second smallest value. The fourth\n",
        "element has the next smallest value. The first element has the largest\n",
        "value.\n",
        "\n",
        "We can use the `order` function to order the distances associated with\n",
        "each location. Let’s do this for the first location in `coords`. We pass\n",
        "the vector of distances between the first location and all other\n",
        "locations (including itself) to the `order` function. This vector of\n",
        "distances is simply the first row of `d`."
      ],
      "id": "e3f6ec00-bcd6-4386-9d79-945386c8c6a2"
    },
    {
      "cell_type": "code",
      "execution_count": 23,
      "metadata": {},
      "outputs": [],
      "source": [
        "order(d[1,])"
      ],
      "id": "c69ba646"
    },
    {
      "cell_type": "markdown",
      "metadata": {},
      "source": [
        "Unsurprisingly, the first location is “closest” to itself. The next\n",
        "closest location is location 23. The next location after that is\n",
        "location 21, then 21, then 15, etc. A K nearest neighbors algorithm\n",
        "doesn’t usually allow a location to be its own neighbor. So, in our\n",
        "case, we want to select the second through fourth elements of the\n",
        "ordered distances. We can do that using the code below."
      ],
      "id": "896196b4-d277-49a1-a151-594ead1b912d"
    },
    {
      "cell_type": "code",
      "execution_count": 24,
      "metadata": {},
      "outputs": [],
      "source": [
        "od1 <- order(d[1,])\n",
        "od1[2:4]"
      ],
      "id": "aa844a17"
    },
    {
      "cell_type": "markdown",
      "metadata": {},
      "source": [
        "Now, we will use a loop to repeat this process for all locations in\n",
        "`coords`. For each location we will order the distances, determine the\n",
        "indices of the 3 nearest neighbors, and then place the nearest neighbor\n",
        "indices in the appropriate elements of `nnlist`."
      ],
      "id": "19574c5f-0d79-4c48-a76c-c1eb6fa68dfe"
    },
    {
      "cell_type": "code",
      "execution_count": 25,
      "metadata": {},
      "outputs": [],
      "source": [
        "for (i in 1:length(nnlist)) {\n",
        "  # order the distances associated with the ith location\n",
        "  odi <- order(d[i, ])\n",
        "  # extract the 3 nearest neighbors for observation i\n",
        "  # (not including the location itself)\n",
        "  nni <- odi[2:4]\n",
        "  # put the nn of observation i in the ith position of nnlist\n",
        "  nnlist[[i]] <- nni\n",
        "}"
      ],
      "id": "45e2765b"
    },
    {
      "cell_type": "markdown",
      "metadata": {},
      "source": [
        "We look at the first 3 elements of `nnlist`."
      ],
      "id": "b26cbc46-ebce-423f-8bb6-f51a6ad1176e"
    },
    {
      "cell_type": "code",
      "execution_count": 26,
      "metadata": {},
      "outputs": [],
      "source": [
        "nnlist[1:3]"
      ],
      "id": "c2283e13"
    },
    {
      "cell_type": "markdown",
      "metadata": {},
      "source": [
        "The nearest neighbors of the first location are locations 23, 21, and\n",
        "15.\n",
        "\n",
        "The nearest neigbhors of the second location are locations 11, 25, and\n",
        "18.\n",
        "\n",
        "The nearest neighbors of the third location are locations 21, 12, and\n",
        "15.\n",
        "\n",
        "### Nested `for` loops\n",
        "\n",
        "A nested `for` loop is one that uses one or more `for` loops inside of\n",
        "another `for` loop. Here is some pseudo code to illustrate a nested\n",
        "`for` loop.\n",
        "\n",
        "    for (i in i_vector) {\n",
        "      # some code\n",
        "      for (j in j_vector) {\n",
        "        # some code\n",
        "        for (k in k_vector) {\n",
        "          # some code\n",
        "        }\n",
        "        # some code\n",
        "      }\n",
        "      # some code\n",
        "    }\n",
        "\n",
        "The psuedo code above has 3 loops. The outermost loop is iterating over\n",
        "`i`, the innermost loop is iterating over `k`, while the second loop is\n",
        "iterating over `j`.\n",
        "\n",
        "The innermost loop iterates the fastest. This is because for each value\n",
        "if `i` and `j`, we iterate `k` through all the values in `k_vector`. The\n",
        "second loop iterates the second fastest because it iterates through all\n",
        "the values in the `j_vector` for a single value of `i`, but not as fast\n",
        "as innermost loop, which will have iterated `k` through the all the\n",
        "values in `k_vector` `length(j_vector)` times!\n",
        "\n",
        "It is helpful to use proper formatting to make the code easier to\n",
        "process. Make sure to indent the code inside a `for` loop to indicate\n",
        "that it is run instide a certain `for` loop.\n",
        "\n",
        "We will use a double loop to compute the distance matrix of a set of\n",
        "coordinates.\n",
        "\n",
        "Recall that if $(x_i, y_i)$ and $(x_j, y_j)$ are two points, then the\n",
        "Euclidean distance between them is computed as\n",
        "\n",
        "<span id=\"eq-dij\">$$\n",
        "d_{i,j} = \\sqrt{(x_i - x_j)^2 + (y_i - y_j)^2}.\n",
        " \\qquad(1)$$</span>\n",
        "\n",
        "Let’s create a small set of 5 coordinates."
      ],
      "id": "b776688a-bf6c-481c-8049-0fb522f84975"
    },
    {
      "cell_type": "code",
      "execution_count": 27,
      "metadata": {},
      "outputs": [],
      "source": [
        "coords <- cbind(c(1, 4, 2, 5, 3), c(9, 4, 3, 2, 1))\n",
        "coords"
      ],
      "id": "982b2034"
    },
    {
      "cell_type": "markdown",
      "metadata": {},
      "source": [
        "Each row of `coords` represents a location. For each row of `coords`, we\n",
        "need to iterate over all the locations of `coords`. For each combination\n",
        "of locations, we need to use [Equation 1](#eq-dij) to compute the\n",
        "distance between the locations.\n",
        "\n",
        "We create a matrix, `d`, to store the distances we compute in our loop."
      ],
      "id": "57d1c878-28a1-43a6-87f5-dde55c5d2e7c"
    },
    {
      "cell_type": "code",
      "execution_count": 28,
      "metadata": {},
      "outputs": [],
      "source": [
        "d <- matrix(nrow = nrow(coords), ncol = nrow(coords))"
      ],
      "id": "6e53dbaa"
    },
    {
      "cell_type": "markdown",
      "metadata": {},
      "source": [
        "We now compute the distances for all pairs of locations."
      ],
      "id": "1013829a-b8a4-46de-bc14-c6a5b0d9a7e0"
    },
    {
      "cell_type": "code",
      "execution_count": 29,
      "metadata": {},
      "outputs": [],
      "source": [
        "# compute distances\n",
        "for (i in 1:nrow(coords)) {\n",
        "  for (j in 1:nrow(coords)) {\n",
        "    d[i, j] <- sqrt((coords[i, 1] - coords[j, 1])^2 + \n",
        "                      (coords[i, 2] - coords[j, 2])^2)\n",
        "  }\n",
        "}\n",
        "d # print d"
      ],
      "id": "b2838485"
    },
    {
      "cell_type": "markdown",
      "metadata": {},
      "source": [
        "We can compare this to the output of the `dist` function to confirm that\n",
        "we have computed the distances correctly."
      ],
      "id": "1afd4245-5874-4294-8c14-054533de9218"
    },
    {
      "cell_type": "code",
      "execution_count": 30,
      "metadata": {},
      "outputs": [],
      "source": [
        "as.matrix(dist(coords))"
      ],
      "id": "ff85f9d7"
    },
    {
      "cell_type": "markdown",
      "metadata": {},
      "source": [
        "## `while` loops\n",
        "\n",
        "A `while` loop is a loop that repeats a set of actions while a condition\n",
        "is `TRUE`. The loop stops running when the provided condition is\n",
        "`FALSE`.\n",
        "\n",
        "A `while` loop can be used to do the same thing as a `for` loop but is\n",
        "better suited for situations for which we don’t know how many times we\n",
        "need to iterate. An common use of a `while` loop is to iteratively\n",
        "improve an approximation one iteration at a time until the change in the\n",
        "approximation is smaller than some standard of precision.\n",
        "\n",
        "The basic syntax of a `while` loop is shown in the psuedo code below.\n",
        "\n",
        "    while (condition) {\n",
        "      # some code to run\n",
        "    }\n",
        "\n",
        "We have the following components of the `while` loop:\n",
        "\n",
        "-   The loop starts with `while`, which indicates that we want to\n",
        "    implement a `while` loop.\n",
        "-   Inside the parentheses after `while`, we have a `condition`.\n",
        "-   If `condition` is `TRUE`, we run the code in between the curly\n",
        "    braces.\n",
        "\n",
        "We can read a `while` loop in the following way: While our condition is\n",
        "`TRUE`, run the following code.\n",
        "\n",
        "Here’s what happens in a `while` loop:\n",
        "\n",
        "1.  We check whether our condition is `TRUE`.\n",
        "2.  If the condition is `TRUE`, then we run the code in the curly\n",
        "    braces. This code will perform some actions that should potentially\n",
        "    have an impact on the condition.\n",
        "3.  We repeat steps 1 and 2 until our condition is `FALSE`.\n",
        "4.  We exit the loop.\n",
        "\n",
        "We provide a trivial example of a `while` loop that prints the current\n",
        "value of an iterator, `i`.\n",
        "\n",
        "-   We initially set `i` to `1`.\n",
        "-   The `while` loop runs as long as `i` is less than 4.\n",
        "-   We print the current value of `i` and then increment `i` (meaning we\n",
        "    increase it by 1). - We repeat printing the current value of `i`\n",
        "    until `i` is 4."
      ],
      "id": "4cfefb05-59c3-4a73-93f4-03ce2506a3f6"
    },
    {
      "cell_type": "code",
      "execution_count": 31,
      "metadata": {},
      "outputs": [],
      "source": [
        "# set iterator\n",
        "i <- 1\n",
        "while (i < 4) {\n",
        "  message(\"The current iterator value is \", i)\n",
        "  i <- i + 1\n",
        "}"
      ],
      "id": "b58e808c"
    },
    {
      "cell_type": "markdown",
      "metadata": {},
      "source": [
        "`while` loops tend to be more dangerous than `for` loops because it is\n",
        "easy create an “infinite loop” \\`that never stops running. What this\n",
        "means is that our condition is always satisfied, so the loop keeps\n",
        "running indefinitely or until an error occurs (like running out of\n",
        "memory).\n",
        "\n",
        "If we want to crash our computer, we can run the following code:\n",
        "\n",
        "    i <- 2\n",
        "    while (i > 0) {\n",
        "      i = i^2\n",
        "    }\n",
        "\n",
        "In the code above, we start by setting `i` equal to `2`. We then check\n",
        "whether `i` is more than 0. If it is more than 0 then we update `i` to\n",
        "be the current value of `i` squared. Our condition will always be\n",
        "`TRUE`, so we keep squaring the current value of `i` indefinitely.\n",
        "\n",
        "If we are stuck in an infinite loop, then:\n",
        "\n",
        "-   Pressing `Ctrl + c` (PC) or `Cmd + c` (Mac) may stop a loop.\n",
        "-   Sometimes, a “STOP” button is available in the Console. Clicking\n",
        "    this button will attempt to stop a loop.\n",
        "-   In R Studio, we can click “Session” in the Menu and that click\n",
        "    “Interrupt R” to stop the code being executed.\n",
        "\n",
        "### Bisection example\n",
        "\n",
        "The bisection method can be used to find the “zeros” or “roots” of a\n",
        "continuous function, i.e., where the function equals 0, as long as we\n",
        "start at two values of the function that have opposite signs.\n",
        "\n",
        "Suppose we have a continuous function, $f(x)$.\n",
        "\n",
        "The bisection method is implemented in the following way:\n",
        "\n",
        "1.  Find two points, $a$ and $b$, such that $a < b$ and $f(a)f(b) < 0$.\n",
        "2.  Compute the average of $a$ and $b$, $m = (a + b)/2$\n",
        "3.  Determine if $f(m) \\neq 0$ (or in practice, whether\n",
        "    $|f(m)| > \\epsilon$). If our condition is satisfied, perform the\n",
        "    following steps:\n",
        "    1.  If $f(m)f(a) < 0$, then a root exists between $a$ and $m$. Set\n",
        "        $b = m$ and return to step 2.\n",
        "    2.  Otherwise, a root exists between $m$ and $b$. Set $a = m$ and\n",
        "        return to step 2.\n",
        "\n",
        "When our condition is NOT satisfied, we have found an (approximate) root\n",
        "of our function.\n",
        "\n",
        "We now create a function, `bisect`, that implements the bisection\n",
        "method. The function will take arguments:\n",
        "\n",
        "-   `lower`: The smaller starting value used to implement the bisection\n",
        "    method.\n",
        "-   `upper`: The upper starting value used to implement the bisection\n",
        "    method.\n",
        "-   `fun`: A continuous function that can take both positive and\n",
        "    negative values.\n",
        "-   `eps`: A tolerance value indicating how close we must be to a true\n",
        "    “zero”.\n",
        "\n",
        "We implement the bisection method below. We:\n",
        "\n",
        "1.  Start by checking whether `fun(lower) * fun(upper) > 0`. If this is\n",
        "    `TRUE`, then then the bisection algorithm may fail and we might end\n",
        "    up in an infinite loop!. We use the `stop` function to exit the\n",
        "    function with an error if we have bad starting values.\n",
        "2.  Compute `m` using the `lower` and `upper` values.\n",
        "3.  Check if `m` is a root. If it’s not a root:\n",
        "    1.  Use a control statement to decide whether to update the `lower`\n",
        "        or `upper` value to `m`.\n",
        "    2.  Compute `m` using the `lower` and `upper` values.\n",
        "    3.  Return so step 3.\n",
        "4.  Return the final value of `m`, which is an (approximate) root of\n",
        "    `fun`."
      ],
      "id": "f098ef44-78e9-4b69-85a4-1a74f786c032"
    },
    {
      "cell_type": "code",
      "execution_count": 32,
      "metadata": {},
      "outputs": [],
      "source": [
        "bisect <- function(lower, upper, fun, eps = 0.0001) {\n",
        "  # make sure our initial lower and upper values produce\n",
        "  # opposite signs when plugged into fun\n",
        "  if (fun(lower) * fun(upper) > 0) {\n",
        "    stop(\"\\nBig yikes!\",\n",
        "         \"\\nThose starting values are sus.\",\n",
        "         \"\\nYou need to glow up those values so  that fun(lower) * fun(upper) < 0.\")\n",
        "  }\n",
        "  # compute m\n",
        "  m <- (lower + upper)/2\n",
        "  # determine if we're at (or really close to a root)\n",
        "  while (abs(fun(m)) > eps) { # if we're not close to a root\n",
        "    # determine whether a root is below m or above m\n",
        "    if (fun(m) * fun(lower) < 0) { # if the root is below m\n",
        "      upper <- m\n",
        "    } else { # if the root is above m\n",
        "      lower <- m\n",
        "    }\n",
        "    # determine a new candidate for m\n",
        "    m <- c(lower + upper)/2\n",
        "  }\n",
        "  return(m)\n",
        "}"
      ],
      "id": "a6c9ce2c"
    },
    {
      "cell_type": "markdown",
      "metadata": {},
      "source": [
        "Consider the continuous polynomial function $$\n",
        "f(x) = (x - 3)(x + 1).\n",
        "$$\n",
        "\n",
        "From looking at this equation, we can easily verify that $f(x) = 0$ when\n",
        "$x = 3$ or $x = -1$.\n",
        "\n",
        "We create a function for $f(x)$ below."
      ],
      "id": "de15c442-021f-469d-9fb6-2679e17d3fb3"
    },
    {
      "cell_type": "code",
      "execution_count": 33,
      "metadata": {},
      "outputs": [],
      "source": [
        "f <- function(x) {\n",
        "  (x - 3) * (x + 1)\n",
        "}"
      ],
      "id": "9c524d80"
    },
    {
      "cell_type": "markdown",
      "metadata": {},
      "source": [
        "We now plot $f(x)$ for for a sequence of $x$ values between -2 and 4."
      ],
      "id": "5c6f5823-77fd-41d6-84ab-837e391c1266"
    },
    {
      "cell_type": "code",
      "execution_count": 34,
      "metadata": {},
      "outputs": [],
      "source": [
        "xs <- seq(-2, 4, len = 1000)\n",
        "plot(xs, f(xs), type = \"l\", xlab = \"x\", ylab = \"f(x)\")"
      ],
      "id": "4b1cec93"
    },
    {
      "cell_type": "markdown",
      "metadata": {},
      "source": [
        "We will try to find a root of `f` using `bisect` using starting values\n",
        "of `2` and `5`."
      ],
      "id": "80612e95-5e7c-4695-98ab-9b81c4fbee8e"
    },
    {
      "cell_type": "code",
      "execution_count": 35,
      "metadata": {},
      "outputs": [],
      "source": [
        "bisect(lower = 2, upper = 5, fun = f)"
      ],
      "id": "0ed2efd3"
    },
    {
      "cell_type": "markdown",
      "metadata": {},
      "source": [
        "If we choose different starting values then we can find the other root\n",
        "of $f$."
      ],
      "id": "76532ca2-4fa6-4f16-ae40-24793ff6f6e0"
    },
    {
      "cell_type": "code",
      "execution_count": 36,
      "metadata": {},
      "outputs": [],
      "source": [
        "bisect(lower = -2, upper = 1, fun = f)"
      ],
      "id": "7c82c030"
    },
    {
      "cell_type": "markdown",
      "metadata": {},
      "source": [
        "What happens if we choose bad starting values?"
      ],
      "id": "644a2da3-a216-411c-b006-a09c55ed59a8"
    },
    {
      "cell_type": "code",
      "execution_count": 37,
      "metadata": {},
      "outputs": [],
      "source": [
        "bisect(lower = -4, upper = 5, fun = f)"
      ],
      "id": "3d285e61"
    },
    {
      "cell_type": "markdown",
      "metadata": {},
      "source": [
        "## Loops versus vectorization\n",
        "\n",
        "Loops in R are notoriously slow.\n",
        "\n",
        "When possible, we should prefer *vectorized operations* over loops.\n",
        "\n",
        "A **vectorized** operation uses a fast, pre-compiled function to apply\n",
        "an operation to all elements of a vector, matrix, list, etc., without\n",
        "using a loop.\n",
        "\n",
        "Here is a trivial example demonstrating the the speed and power of\n",
        "vectorization over loops.\n",
        "\n",
        "Let’s say we want to compute the cumulative sum of a set of numeric\n",
        "values. The cumulative sum of a vector of numeric values is the sum of\n",
        "each value and all the previous values in the vector. The cumulative sum\n",
        "of the vector $[1, 2, 4]$ is $[1, 3, 7]$.\n",
        "\n",
        "We create a function, `cumsum_loop`, to compute the cumulative sum of a\n",
        "numeric vector. We describe our approach:\n",
        "\n",
        "-   The function takes, `x`, which we assume is a numeric vector.\n",
        "-   We create a vector, `results`, to store our cumulative sums.\n",
        "-   We create a `for` loop to iterate `i` over every element of `x`. For\n",
        "    each value of `i`, we:\n",
        "    -   Check if we are considering the first element of `x`. If we are,\n",
        "        then `results[i]` is simply the value in the first position of\n",
        "        `x`.\n",
        "    -   If we are not considering the first element of `x`, then the\n",
        "        cumulative sum of the first `i` elements of `x` is the value in\n",
        "        the $i$th position of `x`, `x[i]`, plus the previous value of\n",
        "        the cumulative sum, `results[i - 1]`.\n",
        "-   After we iterating over all positions of `x`, we return the\n",
        "    `results` vector."
      ],
      "id": "a2ee1de8-05d9-4f01-a4fd-ba9f0d6c04fb"
    },
    {
      "cell_type": "code",
      "execution_count": 38,
      "metadata": {},
      "outputs": [],
      "source": [
        "cumsum_loop <- function(x) {\n",
        "  # create vector of results\n",
        "  results <- numeric(length(x))\n",
        "  for (i in 1:length(x)) {\n",
        "    if (i == 1) {\n",
        "      results[i] <- x[i]\n",
        "    } else {\n",
        "      results[i] <- results[i - 1] + x[i]\n",
        "    }\n",
        "  }\n",
        "  return(results)\n",
        "}"
      ],
      "id": "1a9c3870"
    },
    {
      "cell_type": "markdown",
      "metadata": {},
      "source": [
        "Let’s try this function on the vector $[1, 2, 4]$."
      ],
      "id": "a51c1995-82b8-4277-ae1d-d2dc349a01bd"
    },
    {
      "cell_type": "code",
      "execution_count": 39,
      "metadata": {},
      "outputs": [],
      "source": [
        "cumsum_loop(c(1, 2, 4))"
      ],
      "id": "be8e3839"
    },
    {
      "cell_type": "markdown",
      "metadata": {},
      "source": [
        "What is wrong with this function? Nothing, really. Except that it’s slow\n",
        "compared to the equivalent vectorized version of this calculation.\n",
        "\n",
        "The `cumsum` function is a vectorized version of a cumulative sum that\n",
        "relies on fast, pre-compiled code. We can see that it gives the same\n",
        "results as the function we created."
      ],
      "id": "f73896da-2448-447f-b5c3-8739d89479ff"
    },
    {
      "cell_type": "code",
      "execution_count": 40,
      "metadata": {},
      "outputs": [],
      "source": [
        "cumsum(c(1, 2, 4))"
      ],
      "id": "7827120e"
    },
    {
      "cell_type": "markdown",
      "metadata": {},
      "source": [
        "We use the `microbenchmark` function in the **microbenchmark** package\n",
        "(Mersmann 2023) to compare the timings of `cumsum_loop` and `cumsum`.\n",
        "The `microbenchmark` function will run the provided functions 100 times,\n",
        "by default.\n",
        "\n",
        "-   We sample 1000 values from a standard normal distribution.,\n",
        "-   We use `microbenchmark` to time how long it takes to compute the\n",
        "    cumulative sum of the sampled values using both cumulative sum\n",
        "    functions. We repeat this timing 100 times for each function.\n",
        "-   We plot the results for comparison."
      ],
      "id": "d26599c9-c5cf-4e07-8fc8-ee37a0d0623b"
    },
    {
      "cell_type": "code",
      "execution_count": 41,
      "metadata": {},
      "outputs": [],
      "source": [
        "# attach microbenchmark\n",
        "library(microbenchmark) \n",
        "# draw 1000 values from a N(0, 1) distribution\n",
        "x <- rnorm(1000)\n",
        "# compute the cumulative sum 100 times using both approaches\n",
        "cumsum_timings <- microbenchmark(cumsum_loop(x), cumsum(x))\n",
        "# plot timing results\n",
        "plot(cumsum_timings)"
      ],
      "id": "e8d79050"
    },
    {
      "cell_type": "markdown",
      "metadata": {},
      "source": [
        "While the exact timing results will depend on the computer the timings\n",
        "are performed on, the plot above will clearly show that the vectorized\n",
        "`cumsum` function is substantially faster than the `cumsum_loop`\n",
        "function.\n",
        "\n",
        "These results may seem trivial, but for large data sets where these\n",
        "operations are performed thousands or millions of times, vectorized\n",
        "operations can be many orders of magnitude faster than loops.\n",
        "\n",
        "# The vectorized \\*apply functions\n",
        "\n",
        "The `*apply` functions are a set of vectorized functions that can be\n",
        "applied different object types. The “`*`” in `*apply` is a “wildcard”\n",
        "character, meaning that it can be any set of characters.\n",
        "\n",
        "`*apply` functions will typically perform operations much faster than\n",
        "equivalent operations implemented using loops. `*apply` functions also\n",
        "make code simpler and more elegant.\n",
        "\n",
        "[Table 1](#tbl-apply) summarizes the various `*apply` functions\n",
        "available by default in R.\n",
        "\n",
        "| name   | description                                                                                |\n",
        "|:-----|:-----------------------------------------------------------------|\n",
        "| apply  | Applies a function to the margins of a data frame, matrix, or array.                       |\n",
        "| lapply | Applies a function to each element of a list.                                              |\n",
        "| sapply | A version of `lapply` that attempts to simplify the results to a vector, matrix, or array. |\n",
        "| vapply | A safer version of `sapply` that returns a pre-specified type of return value.             |\n",
        "| tapply | Applies a function to a vector or data frame based on the levels of a categorical variable |\n",
        "| mapply | A multivariate version of `sapply`.                                                        |\n",
        "\n",
        "Table 1: A summary of the various `*apply` functions available in R.\n",
        "\n",
        "### The `apply` function\n",
        "\n",
        "The `apply` function applies a function to a margin (dimension) of a\n",
        "data frame, matrix, or array.\n",
        "\n",
        "The primary arguments of the `apply` function are:\n",
        "\n",
        "-   `X`: A data frame, `matrix`, or `array`.\n",
        "-   `MARGIN`: a vector indicating the dimension to apply the function\n",
        "    to. `1` indicates rows, `2` indicates columns, `3` indicates the\n",
        "    third dimension of an array, `1:2` indicates row and columns, etc.\n",
        "-   `FUN`: the function to be applied to the margins of `X`.\n",
        "-   `...`: additional arguments that need to be passed to `FUN`.\n",
        "-   `simplify`: a logical value indicating whether results should be\n",
        "    simplified, if possible. The default is `TRUE`.\n",
        "\n",
        "We provide several example using the `apply` function below.\n",
        "\n",
        "Consider the matrix `mat` below."
      ],
      "id": "c4b7a258-9a03-40bf-ac2f-97f3cb80b93d"
    },
    {
      "cell_type": "code",
      "execution_count": 43,
      "metadata": {},
      "outputs": [],
      "source": [
        "mat <- cbind(1:5, 6:10)\n",
        "mat"
      ],
      "id": "f0699352"
    },
    {
      "cell_type": "markdown",
      "metadata": {},
      "source": [
        "We can compute the mean value for each row of `mat` by running the\n",
        "command below."
      ],
      "id": "1ddd66d4-bc49-41c5-b9b2-ccb841287c9e"
    },
    {
      "cell_type": "code",
      "execution_count": 44,
      "metadata": {},
      "outputs": [],
      "source": [
        "apply(X = mat, MARGIN = 1, FUN = mean)"
      ],
      "id": "e9b1781f"
    },
    {
      "cell_type": "markdown",
      "metadata": {},
      "source": [
        "We can compute the mean value for each column of `mat` by running the\n",
        "command below."
      ],
      "id": "7d31e782-9b02-4fd8-9845-0fc4ce73660c"
    },
    {
      "cell_type": "code",
      "execution_count": 45,
      "metadata": {},
      "outputs": [],
      "source": [
        "apply(mat, 2, mean)"
      ],
      "id": "31514412"
    },
    {
      "cell_type": "markdown",
      "metadata": {},
      "source": [
        "Note that the `rowMeans` and `colMeans` functions would have produced\n",
        "the same results, with simpler code. However, the examples above are\n",
        "simple examples to illustrate usage of the `apply` function.\n",
        "\n",
        "What if we want to apply a function that has arguments we need to\n",
        "specify? E.g., let’s say we want to compute the 0.8 quantile of a set of\n",
        "values in a numeric vector `x`. We could run the command\n",
        "`quantile(x, prob = 0.8)`. How can we use a function like this with the\n",
        "`apply` function?\n",
        "\n",
        "The code below uses `apply` to compute the 0.8 quantile for each column\n",
        "of `mat`."
      ],
      "id": "92411e15-49c5-49c1-839d-3644f9cc5902"
    },
    {
      "cell_type": "code",
      "execution_count": 46,
      "metadata": {},
      "outputs": [],
      "source": [
        "apply(mat, 2, quantile, prob = 0.8)"
      ],
      "id": "8e9f218e"
    },
    {
      "cell_type": "markdown",
      "metadata": {},
      "source": [
        "Lastly, we consider a basic application of the `apply` function a\n",
        "3-dimensional array.\n",
        "\n",
        "We create a 3-dimensional array with dimension $3\\times 2 \\times 4$\n",
        "below."
      ],
      "id": "a8a10f84-29a5-491a-aad3-74eaf995b617"
    },
    {
      "cell_type": "code",
      "execution_count": 47,
      "metadata": {},
      "outputs": [],
      "source": [
        "A <- array(1:24, dim = c(3, 2, 4))\n",
        "A"
      ],
      "id": "1ed75b3f"
    },
    {
      "cell_type": "markdown",
      "metadata": {},
      "source": [
        "Let’s compute means for each row of `A`."
      ],
      "id": "66e94249-c94e-4849-b889-5c13bebea3a1"
    },
    {
      "cell_type": "code",
      "execution_count": 48,
      "metadata": {},
      "outputs": [],
      "source": [
        "apply(A, 1, mean)"
      ],
      "id": "bcadb724"
    },
    {
      "cell_type": "markdown",
      "metadata": {},
      "source": [
        "`11.5` comes from averaging all the values in the 1st row of `A` across\n",
        "all columns and the third dimension:\n",
        "`(1 + 4 + 7 + 10 + 13 + 16 + 19 + 22)/8 = 11.5`. More simply, it is\n",
        "equivalent to running the following command."
      ],
      "id": "98d33384-3096-45d4-927c-b429fb3aa026"
    },
    {
      "cell_type": "code",
      "execution_count": 49,
      "metadata": {},
      "outputs": [],
      "source": [
        "mean(A[1,,])"
      ],
      "id": "49e28326"
    },
    {
      "cell_type": "markdown",
      "metadata": {},
      "source": [
        "`12.5` and `13.5` come from averaging all the values in the second and\n",
        "third rows of `A`, respectively.\n",
        "\n",
        "Let’s compute the sums across the third dimension of `A`."
      ],
      "id": "e4f4e7aa-2c9b-466a-864d-c3327340f113"
    },
    {
      "cell_type": "code",
      "execution_count": 50,
      "metadata": {},
      "outputs": [],
      "source": [
        "apply(A, 3, sum)"
      ],
      "id": "e4a8a6fd"
    },
    {
      "cell_type": "markdown",
      "metadata": {},
      "source": [
        "`21` comes from adding all the values in the first element of the third\n",
        "dimension of `A`. More specifically, it is equivalent to running the\n",
        "following comman."
      ],
      "id": "c7ccd535-8ee7-46a8-a962-fa4f1449aba7"
    },
    {
      "cell_type": "code",
      "execution_count": 51,
      "metadata": {},
      "outputs": [],
      "source": [
        "sum(A[,,1])"
      ],
      "id": "5b525e7c"
    },
    {
      "cell_type": "markdown",
      "metadata": {},
      "source": [
        "Let’s compute the means across the row and columns of `A`."
      ],
      "id": "21a5cc7e-0b85-4713-bc4a-1abf8180431d"
    },
    {
      "cell_type": "code",
      "execution_count": 52,
      "metadata": {},
      "outputs": [],
      "source": [
        "apply(A, 1:2, mean)"
      ],
      "id": "2b92efe2"
    },
    {
      "cell_type": "markdown",
      "metadata": {},
      "source": [
        "The command above returns the values obtained by averaging all of the\n",
        "values in a particular row and column of `A` across the third dimension\n",
        "of `A`.\n",
        "\n",
        "`10` comes from averaging the values in `A[1, 1, 1]`, `A[1, 1, 2]`,\n",
        "`A[1, 1, 3]`, `A[1, 1, 4]`, i.e., `(1 + 7 + 13 + 19)/4 = 10`.\n",
        "Alternatively, it is equivalent to running the following command."
      ],
      "id": "3088d472-22ae-40d7-82cb-1e21ff302f3c"
    },
    {
      "cell_type": "code",
      "execution_count": 53,
      "metadata": {},
      "outputs": [],
      "source": [
        "mean(A[1, 1, ])"
      ],
      "id": "2e6c8891"
    },
    {
      "cell_type": "markdown",
      "metadata": {},
      "source": [
        "## The `lapply`, `sapply`, and `vapply` functions.\n",
        "\n",
        "The `lapply` function applies a function to each element of an atomic\n",
        "vector or list. It is very convenient for performing analyses in\n",
        "simulation studies. The `lapply` function always returns a list.\n",
        "\n",
        "The arguments of the `lapply` function are:\n",
        "\n",
        "-   `X`: An atomic vector or list.\n",
        "-   `FUN`: the function to be applied to each element of `X`.\n",
        "-   `...`: additional arguments that need to be passed to `FUN`.\n",
        "\n",
        "We start with a simple example that computes the sample mean of a `list`\n",
        "containing numeric vectors.\n",
        "\n",
        "We first define the our `list`."
      ],
      "id": "acf6cd80-1dc7-4f08-830e-53c3b2ec9ac2"
    },
    {
      "cell_type": "code",
      "execution_count": 54,
      "metadata": {},
      "outputs": [],
      "source": [
        "simple_list <- list(1:10, 11:20)\n",
        "simple_list"
      ],
      "id": "50a44908"
    },
    {
      "cell_type": "markdown",
      "metadata": {},
      "source": [
        "We then use `lapply` to compute the sample mean of each element of\n",
        "`sample_list`."
      ],
      "id": "8a0c495e-4cc9-4656-923f-c09b2233cc61"
    },
    {
      "cell_type": "code",
      "execution_count": 55,
      "metadata": {},
      "outputs": [],
      "source": [
        "lapply(simple_list, mean)"
      ],
      "id": "61b84c11"
    },
    {
      "cell_type": "markdown",
      "metadata": {},
      "source": [
        "The `sapply` function attempts to coerce the results of `lapply` to a\n",
        "`vector`, `matrix`, or `array` (whichever is simplest) using the\n",
        "`simplify2array` function. Technically, the `sapply` function has two\n",
        "additional arguments compared to `lapply`:\n",
        "\n",
        "-   `simplify`: a logical value indicating whether the `sapply` should\n",
        "    attempt to simplify the result using `simplify2array`. The default\n",
        "    is `TRUE`.\n",
        "-   `USE.NAMES`: a logical value indicator whether names should be\n",
        "    associated with the results. The default is `TRUE`.\n",
        "\n",
        "We repeat the previous example using `sapply`."
      ],
      "id": "0447a9f2-0e13-4d42-82fc-f9f0db8603a6"
    },
    {
      "cell_type": "code",
      "execution_count": 56,
      "metadata": {},
      "outputs": [],
      "source": [
        "sapply(simple_list, mean)"
      ],
      "id": "bbe3a67d"
    },
    {
      "cell_type": "markdown",
      "metadata": {},
      "source": [
        "Instead of returning a `list` object with elements `5.5` and `15.5`, we\n",
        "get a vector with the same elements.\n",
        "\n",
        "The `sapply` function *seems* like it is the more convenient version of\n",
        "`lapply`, but this is a trap. The `sapply` function can produce\n",
        "unexpected results because it is not required to return an object of a\n",
        "specific type. The result may change depending on the input.\n",
        "\n",
        "Let’s create a second list, `simple_list2`, with two elements: the first\n",
        "element is a vector of 3 numeric values and the second element is a\n",
        "vector of 4 numeric values."
      ],
      "id": "ec4f2fa2-8968-4964-b14e-a48d64359181"
    },
    {
      "cell_type": "code",
      "execution_count": 57,
      "metadata": {},
      "outputs": [],
      "source": [
        "simple_list2 <- list(1:3, 4:7)\n",
        "simple_list2"
      ],
      "id": "06b41b42"
    },
    {
      "cell_type": "markdown",
      "metadata": {},
      "source": [
        "We create a function, `add2`, that takes a `numeric` vector `x` and adds\n",
        "2 to all the elements in `x`."
      ],
      "id": "f3f2f667-0f0e-406a-9a6a-f25b2b3c2e47"
    },
    {
      "cell_type": "code",
      "execution_count": 58,
      "metadata": {},
      "outputs": [],
      "source": [
        "add2 <- function(x) {\n",
        "  x + 2\n",
        "}"
      ],
      "id": "6a8c4623"
    },
    {
      "cell_type": "markdown",
      "metadata": {},
      "source": [
        "We confirm that `add2` works as intended."
      ],
      "id": "3bea7b68-4525-4369-842b-bc3e2ec25bf7"
    },
    {
      "cell_type": "code",
      "execution_count": 59,
      "metadata": {},
      "outputs": [],
      "source": [
        "add2(2:3)"
      ],
      "id": "3d41a061"
    },
    {
      "cell_type": "markdown",
      "metadata": {},
      "source": [
        "If we use `sapply` to apply `add2` to each element of `simple_list`, the\n",
        "result is returned as a `matrix` because the results can be simplified\n",
        "by `simplify2array`."
      ],
      "id": "f9b2d816-d173-4652-ae0b-05b855ee57b1"
    },
    {
      "cell_type": "code",
      "execution_count": 60,
      "metadata": {},
      "outputs": [],
      "source": [
        "sapply(simple_list, add2)"
      ],
      "id": "858b314f"
    },
    {
      "cell_type": "markdown",
      "metadata": {},
      "source": [
        "If we apply `add2` to each element of `simple_list2`, the result is\n",
        "returned as a `list` because the results cannot be simplified by\n",
        "`simplify2array`."
      ],
      "id": "c7cd7e56-8d02-4d91-affa-e77cd0b29228"
    },
    {
      "cell_type": "code",
      "execution_count": 61,
      "metadata": {},
      "outputs": [],
      "source": [
        "sapply(simple_list2, add2)"
      ],
      "id": "2e5c38b1"
    },
    {
      "cell_type": "markdown",
      "metadata": {},
      "source": [
        "We don’t always know that data type the `sapply` function will return,\n",
        "which is dangerous if we use those results in any future calculations.\n",
        "\n",
        "The `vapply` function attempts to be a safer version of `sapply` by\n",
        "requiring the user to indicate the data type expected from each\n",
        "application of `FUN`. However, `vapply` also attempts to simplify the\n",
        "output using `simplify2array`, so it can also create issues in later\n",
        "code.\n",
        "\n",
        "The `vapply` function essentially adds one additional argument to\n",
        "`sapply`.\n",
        "\n",
        "-   `FUN.VALUE`: a template for the value returned by `FUN`.\n",
        "\n",
        "If `FUN` doesn’t have the same structure as `FUN.VALUE`, then `vapply`\n",
        "returns an error.\n",
        "\n",
        "Let’s create a trivial example. We create two lists, `l1` and `l2`.\n",
        "\n",
        "-   `l1` has two elements containing `integer` vectors.\n",
        "-   `l2` has two elements containing `double` vectors."
      ],
      "id": "0c77fa4e-95be-48f5-b5d1-adbef34cfcef"
    },
    {
      "cell_type": "code",
      "execution_count": 62,
      "metadata": {},
      "outputs": [],
      "source": [
        "l1 <- list(seq.int(1, 4), seq.int(4, 7))\n",
        "l1"
      ],
      "id": "cd4536b6"
    },
    {
      "cell_type": "code",
      "execution_count": 63,
      "metadata": {},
      "outputs": [],
      "source": [
        "l2 <- list(seq(1.5, 4.5, by = 1), seq(4.5, 7.5, by = 1))\n",
        "l2"
      ],
      "id": "6b8d5b50"
    },
    {
      "cell_type": "markdown",
      "metadata": {},
      "source": [
        "We apply the `max` function to `l1` using `vapply`. We specify\n",
        "`FUN.VALUE = integer(1)` to indicate that each time we apply the `max`\n",
        "function to an element of `l1`, we expect to get an `integer` vector of\n",
        "length 1."
      ],
      "id": "912487de-ad91-4453-9660-de6755cb2eec"
    },
    {
      "cell_type": "code",
      "execution_count": 64,
      "metadata": {},
      "outputs": [],
      "source": [
        "vapply(l1, max, FUN.VALUE = integer(1))"
      ],
      "id": "7ff0b29a"
    },
    {
      "cell_type": "markdown",
      "metadata": {},
      "source": [
        "We get an error if we do the same thing for `l2` because the `max`\n",
        "function will return an atomic vector of type `double` of length 1. The\n",
        "error produced by `vapply` indicates that it was expecting to get an\n",
        "`integer` type by got a `double` type instead."
      ],
      "id": "e9942eeb-b630-4705-9e65-dee08151d070"
    },
    {
      "cell_type": "code",
      "execution_count": 65,
      "metadata": {},
      "outputs": [],
      "source": [
        "vapply(l2, max, FUN.VALUE = integer(1))"
      ],
      "id": "6a1097b2"
    },
    {
      "cell_type": "markdown",
      "metadata": {},
      "source": [
        "We can correct the problem by changing `FUN.VALUE` to `double(1)`."
      ],
      "id": "8fa85e88-5ebe-4604-9696-c68daf8cba2b"
    },
    {
      "cell_type": "code",
      "execution_count": 66,
      "metadata": {},
      "outputs": [],
      "source": [
        "vapply(l2, max, FUN.VALUE = double(1))"
      ],
      "id": "2681127d"
    },
    {
      "cell_type": "markdown",
      "metadata": {},
      "source": [
        "We should not use `sapply` or `vapply` inside any function to avoid\n",
        "problems with the output change data types. Instead, use the `lapply`\n",
        "function to keep the output consistent.\n",
        "\n",
        "### Bootstrap confidence interval example\n",
        "\n",
        "A confidence interval procedure produces plausible values for a target\n",
        "parameter with an associated confidence level.\n",
        "\n",
        "-   If we repeatedly obtain samples from a population, a confidence\n",
        "    interval procedure will produce intervals containing the target\n",
        "    parameter with probability equal to the confidence level.\n",
        "\n",
        "Confidence intervals are typically constructed on the assumption that we\n",
        "know the population distribution from which the sample came.\n",
        "\n",
        "A bootstrap confidence interval procedure can be used to construct\n",
        "confidence intervals when the population distribution is unknown.\n",
        "\n",
        "More generally, the bootstrap method allows us to approximate the\n",
        "sampling distribution of a statistic by using the observed data to\n",
        "produce simulated data sets.\n",
        "\n",
        "Suppose we have a sample of $n$ data values, $x_1, x_2, \\ldots, x_n$.\n",
        "Suppose we want to estimate the mean, $\\mu$, of the population from\n",
        "which the sample came. A natural estimator of $\\mu$ is the sample mean,\n",
        "$\\bar{x}$.\n",
        "\n",
        "The procedure for producing a bootstrap confidence interval for $\\mu$\n",
        "with confidence level $1-\\alpha$ is:\n",
        "\n",
        "1.  Sample with replacement a data set of size $n$ from the observed\n",
        "    data values. This is a bootstrap sample.\n",
        "2.  Compute $\\bar{x}$ for the random sample.\n",
        "3.  Perform steps 1 and 2 $B$ times, where $B$ is a number like 1000 or\n",
        "    10000.\n",
        "4.  Compute the $\\alpha/2$ and $1-\\alpha/2$ quantiles of the sample\n",
        "    means obtained from the bootstrap samples.\n",
        "\n",
        "Suppose we have observed the following sample:\n",
        "\n",
        "3.318, 4.940, 5.516, 2.958, 6.098, 6.858, -0.539, 2.544, 4.091, 1.884\n",
        "\n",
        "Let’s construct a 95% bootstrap confidence interval for the population\n",
        "mean, $\\mu$, using the sample data. We will build a function to\n",
        "construct our bootstrap confidence interval that is based on `lapply`.\n",
        "Our function will take three arguments:\n",
        "\n",
        "-   `x`: A vector of numeric values.\n",
        "-   `conf.level`: The confidence level desired for the interval. The\n",
        "    default value will be `0.95`.\n",
        "-   `B`: The number of bootstrap samples from which to build the\n",
        "    confidence interval. The default value will be `1000`.\n",
        "\n",
        "The function will perform the following actions:\n",
        "\n",
        "-   Determine `alpha` from `confidence.level`.\n",
        "-   The `lapply` function is applied to each element of the atomic\n",
        "    vector `1:B`.\n",
        "-   We supply an *anonymous* function to the `FUN` argument of `lapply`.\n",
        "    An anonymous function is a temporary function we create to perform\n",
        "    an action but for which we don’t want to go to the trouble of\n",
        "    storing in memory for long-term use. In our case, the anonymous\n",
        "    function takes the argument `i`, which comes from the elements of\n",
        "    `1:B`.\n",
        "-   Inside our anonymous function, we sample `n` values with replacement\n",
        "    from `x` using the `sample` function, making sure to set the\n",
        "    `replace` argument of `sample` to `TRUE`. This produces a bootstrap\n",
        "    sample.\n",
        "-   We compute the sample mean of our bootstrap sample and return that\n",
        "    value from our anonymous function.\n",
        "-   We store the $B$ sample means produced by the `lapply` function in\n",
        "    the `bstats` object.\n",
        "-   We use the `unlist` function to convert the list of sample means in\n",
        "    `bstats` to a `numeric` vector.\n",
        "-   We use the `quantile` function to return the `alpha/2` and\n",
        "    `1-alpha/2` quantiles from our vector of sample means."
      ],
      "id": "71c6af4e-bf2d-4099-8a3f-8763c2ff2a69"
    },
    {
      "cell_type": "code",
      "execution_count": 67,
      "metadata": {},
      "outputs": [],
      "source": [
        "bootstrap_ci <- function(x, conf.level = 0.95, B = 1000) {\n",
        "  # determine alpha\n",
        "  alpha <- 1 - conf.level\n",
        "  # compute sample mean of B bootstrap samples\n",
        "  bstats <- lapply(1:B, FUN = function(i) {\n",
        "    # draw bootstrap sample\n",
        "    boot_sample <- sample(x, size = length(x), replace = TRUE)\n",
        "    # compute sample mean of bootstrap sample\n",
        "    mean(boot_sample)\n",
        "  })\n",
        "  # convert list to vector\n",
        "  bstats <- unlist(bstats)\n",
        "  # compute desired quantiles for bootstrap ci\n",
        "  quantile(bstats, prob = c(alpha/2, 1-alpha/2))\n",
        "}"
      ],
      "id": "9f4b98dd"
    },
    {
      "cell_type": "markdown",
      "metadata": {},
      "source": [
        "We now apply our function to the observed sample of data."
      ],
      "id": "4b305199-b4f4-4084-89ff-60e192a88faa"
    },
    {
      "cell_type": "code",
      "execution_count": 68,
      "metadata": {},
      "outputs": [],
      "source": [
        "set.seed(43)\n",
        "x <- c(3.318, 4.940, 5.516, 2.958, 6.098, 6.858, -0.539, 2.544, 4.091, 1.884)\n",
        "bootstrap_ci(x)"
      ],
      "id": "6b1a2645"
    },
    {
      "cell_type": "markdown",
      "metadata": {},
      "source": [
        "Our 95% bootstrap confidence interval for the population mean is \\[2.44,\n",
        "4.98\\]. The sample was a random sample from a normal distribution with\n",
        "mean 3 and standard deviation 2, so our interval (in this case) did\n",
        "contain the true value.\n",
        "\n",
        "## The `tapply` function\n",
        "\n",
        "The `tapply` function is used to apply a function to all the values\n",
        "associated with a certain level of a `factor` variable. It is useful for\n",
        "summarizing information for different groups of data.\n",
        "\n",
        "The `tapply` function takes the following arguments:\n",
        "\n",
        "-   `X`: an object for which a `split` method exists. Usually, this is a\n",
        "    `vector` or `data.frame` object.\n",
        "-   `INDEX`: a `factor` variable with the same length as `X`. This will\n",
        "    be used to “split” `X` into different groups.\n",
        "-   `FUN`: The function to be applied to each group of `X` after the\n",
        "    `split` function is used.\n",
        "-   `...`: additional arguments that will be passed to `FUN`.\n",
        "-   `default`: an argument we can probably ignore. Run `?tapply` in the\n",
        "    Console for more details about this argument.\n",
        "-   `simplify`: a logical value indicating whether the result should be\n",
        "    simplified to a scalar array. The default is `TRUE`. Otherwise, a\n",
        "    `list` is always returned.\n",
        "\n",
        "We will use the `tapply` function to summarize chicken growth across\n",
        "different feed types.\n",
        "\n",
        "The `chickwts` data set in the **datasets** package is a data frame with\n",
        "71 observations of 2 variables. The data provide the results of an\n",
        "experiment to measure and compare the effectiveness of various feed\n",
        "supplements on the growth rate of chickens. The following variables are\n",
        "included in the data frame:\n",
        "\n",
        "-   `weight`: the chick’s weight (g).\n",
        "-   `feed`: a `factor` indicating the feed type.\n",
        "\n",
        "We use `tapply` to compute the average chicken weight of the chicken’s\n",
        "receiving each feed type."
      ],
      "id": "d0f0b79b-9b09-422c-8221-b2b912c21042"
    },
    {
      "cell_type": "code",
      "execution_count": 69,
      "metadata": {},
      "outputs": [],
      "source": [
        "tapply(X = chickwts$weight, INDEX = chickwts$feed, FUN = mean)"
      ],
      "id": "28187e7a"
    },
    {
      "cell_type": "markdown",
      "metadata": {},
      "source": [
        "The average weight of the chickens eating the `casein` feed type was\n",
        "323.6 g. The average weight of the chickens eating the `soybean` feed\n",
        "type was 246.4 g.\n",
        "\n",
        "We can use the `tapply` function to compute a more complex summary of\n",
        "each group’s weights using the `summary` function."
      ],
      "id": "c8f80ee0-b84c-4de3-a9b7-6c4bb15dedfa"
    },
    {
      "cell_type": "code",
      "execution_count": 70,
      "metadata": {},
      "outputs": [],
      "source": [
        "tapply(X = chickwts$weight, INDEX = chickwts$feed, FUN = summary)"
      ],
      "id": "a0ca0445"
    },
    {
      "cell_type": "markdown",
      "metadata": {},
      "source": [
        "### Frequency table example\n",
        "\n",
        "We can use the `tapply` function to construct a frequency table for a\n",
        "`numeric` variable based on a set of bins that break the variable into\n",
        "different intervals. Plotting a frequency table produces a histogram.\n",
        "\n",
        "The `faithful` data set in the **datasets** package summarizes the\n",
        "duration and waiting time between eruptions for the Old Faithful geyser\n",
        "in Yellowstone National Park. The data are a data frame with 272\n",
        "observations of the variables:\n",
        "\n",
        "-   `eruptions`: eruption duration (minutes).\n",
        "-   `waiting`: waiting time until next eruption (minutes).\n",
        "\n",
        "We will create a frequency table for the `eruptions` variable. For\n",
        "simplicity, we start by extracting the `eruptions` variable from the\n",
        "`faithful` data frame."
      ],
      "id": "951d67c5-f943-45e2-843f-4bdf50bbf069"
    },
    {
      "cell_type": "code",
      "execution_count": 71,
      "metadata": {},
      "outputs": [],
      "source": [
        "eruptions <- faithful$eruptions"
      ],
      "id": "5d0cc037"
    },
    {
      "cell_type": "markdown",
      "metadata": {},
      "source": [
        "Next, we use the `pretty` function to automatically create breakpoints\n",
        "for the `eruptions` variable.\n",
        "\n",
        "The `pretty` function has two primary arguments:\n",
        "\n",
        "-   `x`: a `numeric` object. The range of the object is used to create\n",
        "    the breakpoints.\n",
        "-   `n`: the desired number of intervals to be created. This is often\n",
        "    ignored by the function.\n",
        "\n",
        "The `pretty` function attempts to produce a set of “pretty breakpoints”\n",
        "based on `x` and `n`. Run `?pretty` in the Console for more details\n",
        "about this function.\n",
        "\n",
        "We pass `eruptions` to the `pretty` function and ask it to produce\n",
        "approximately 10 intervals."
      ],
      "id": "048570b9-237e-43ac-8c17-8c5da2d3fc0f"
    },
    {
      "cell_type": "code",
      "execution_count": 72,
      "metadata": {},
      "outputs": [],
      "source": [
        "breaks <- pretty(eruptions, n = 10)\n",
        "breaks"
      ],
      "id": "85fd0749"
    },
    {
      "cell_type": "markdown",
      "metadata": {},
      "source": [
        "We end up with 9 breakpoints, which will break our `eruptions` into 8\n",
        "intervals.\n",
        "\n",
        "To use the `tapply` function to count the number of values in each\n",
        "interval, we need to associate each eruption value with a level based on\n",
        "our breakpoints. Instead of using a complex loop with numerous `if`\n",
        "statements to categorize each eruption value, we can use the `cut`\n",
        "function.\n",
        "\n",
        "The `cut` function takes two primary arguments:\n",
        "\n",
        "-   `x`: a numeric vector that is assigned a `factor` label by\n",
        "    “cutting”.\n",
        "-   `breaks`: the breakpoints that define the intervals that “cut” `x`\n",
        "    into different groups. Each group is assigned a different label.\n",
        "\n",
        "We pass the `eruptions` variable and the `breaks` variable returned by\n",
        "the `pretty` function to `cut` to associate each eruption value with an\n",
        "interval. We assign these labels the name `interval_labels`. We use the\n",
        "`head` function to view the first values in `interval_labels`."
      ],
      "id": "a5294fe6-0be8-434c-b214-45415b3e1140"
    },
    {
      "cell_type": "code",
      "execution_count": 73,
      "metadata": {},
      "outputs": [],
      "source": [
        "interval_labels <- cut(eruptions, breaks)\n",
        "head(interval_labels)"
      ],
      "id": "0615155f"
    },
    {
      "cell_type": "markdown",
      "metadata": {},
      "source": [
        "The first eruption value was in the interval (3.5, 4), the second in the\n",
        "interval (1.5, 2\\], the third in the interval (3, 3.5\\], etc.\n",
        "\n",
        "Now, we use `tapply` to break the `eruptions` variable into 8 groups\n",
        "based on `interval_labels`, then use the `length` function to determine\n",
        "the number of eruption durations in each interval (which is the number\n",
        "of values observed in that interval)."
      ],
      "id": "b0228462-8ce4-44b9-8996-96ea9f68ee2b"
    },
    {
      "cell_type": "code",
      "execution_count": 74,
      "metadata": {},
      "outputs": [],
      "source": [
        "count <- tapply(eruptions, interval_labels, length)\n",
        "count"
      ],
      "id": "411e9233"
    },
    {
      "cell_type": "markdown",
      "metadata": {},
      "source": [
        "There were 55 eruptions that lasted between 1.5 and 2 minutes. There\n",
        "were 37 eruptions that lasted between 2 and 2.5 minutes, etc.\n",
        "\n",
        "## The `mapply` function\n",
        "\n",
        "The `mapply` function is intended to be a multivariate version of\n",
        "`sapply`. More specifically, it will vectorize over multiple arguments\n",
        "instead of a single one. The main arguments of the `mapply` function\n",
        "are:\n",
        "\n",
        "-   `FUN`: the function that will be applied to the arguments being\n",
        "    vectorized over.\n",
        "-   `...`: the arguments to be vectorized over.\n",
        "-   `MoreArgs`: a `list` with named elements that supply additional\n",
        "    arguments need for `FUN`.\n",
        "\n",
        "There are also `SIMPLIFY` and `USE.NAMES` arguments that we do not\n",
        "discuss. Run `mapply` in the Console for more details.\n",
        "\n",
        "The `mapply` function is more complicated than the other `*apply`\n",
        "functions. I have rarely used it because there are often simpler ways to\n",
        "solve the problem that do not require the complexity of `mapply`.\n",
        "\n",
        "We will walk through a trivial example that uses `mapply`.\n",
        "\n",
        "Suppose we have two vectors of the same size. The first vector contains\n",
        "the initials of several individuals. The second vector contains the\n",
        "initials of their romantic partner."
      ],
      "id": "89b8bd7b-6a0d-433a-a98f-bb8c797c8ad2"
    },
    {
      "cell_type": "code",
      "execution_count": 75,
      "metadata": {},
      "outputs": [],
      "source": [
        "partner1 <- c(\"PM\", \"JI\", \"RX\", \"HP\", \"XE\")"
      ],
      "id": "bf06927c"
    },
    {
      "cell_type": "code",
      "execution_count": 76,
      "metadata": {},
      "outputs": [],
      "source": [
        "partner2 <- c(\"QN\", \"AA\", \"OJ\", \"DD\", \"GD\")"
      ],
      "id": "5283bc8f"
    },
    {
      "cell_type": "markdown",
      "metadata": {},
      "source": [
        "We will use `mapply` to `paste` the names together. We set `USE.NAMES`\n",
        "to `FALSE` for better formatting."
      ],
      "id": "ec076289-1e2e-43cf-a8c5-ae646421c9cf"
    },
    {
      "cell_type": "code",
      "execution_count": 77,
      "metadata": {},
      "outputs": [],
      "source": [
        "mapply(FUN = paste, partner1, partner2, USE.NAMES = FALSE)"
      ],
      "id": "f33e0cb5"
    },
    {
      "cell_type": "markdown",
      "metadata": {},
      "source": [
        "This worked as expected, but the formatting is unpleasant.\n",
        "\n",
        "We can improve the formatting of our result by changing the `sep`\n",
        "argument of `paste` to `\" + \"` or `\" and \"`. We can accomplish this\n",
        "change by passing this information in a named list through the\n",
        "`MoreArgs` argument."
      ],
      "id": "838fcd18-ec69-40c7-b908-f0d3b4e55a63"
    },
    {
      "cell_type": "code",
      "execution_count": 78,
      "metadata": {},
      "outputs": [],
      "source": [
        "mapply(FUN = paste, partner1, partner2, MoreArgs = list(sep = \" + \"), USE.NAMES = FALSE)"
      ],
      "id": "7563291b"
    },
    {
      "cell_type": "code",
      "execution_count": 79,
      "metadata": {},
      "outputs": [],
      "source": [
        "mapply(FUN = paste, partner1, partner2, MoreArgs = list(sep = \" and \"), USE.NAMES = FALSE)"
      ],
      "id": "13849dfb"
    },
    {
      "cell_type": "markdown",
      "metadata": {},
      "source": [
        "Note that we must name any arguments provided after `...` in a function.\n",
        "The reason for this is that, otherwise, the arguments after `...` are\n",
        "assumed to be something intended to be passed through `...`.\n",
        "\n",
        "This is why the code below doesn’t work as intended."
      ],
      "id": "fe12fd7d-56c7-4672-966f-04dce7ba4c3c"
    },
    {
      "cell_type": "code",
      "execution_count": 80,
      "metadata": {},
      "outputs": [],
      "source": [
        "mapply(FUN = paste, partner1, partner2, list(sep = \" and \"), FALSE)"
      ],
      "id": "f8a38597"
    },
    {
      "cell_type": "markdown",
      "metadata": {},
      "source": [
        "What is actually happening is that `\" and \"` and `\"FALSE\"` are being\n",
        "passed into `paste` with the values from `partner1` and `partner2`,\n",
        "which then pastes the four individual character strings into a single\n",
        "string.\n",
        "\n",
        "## `*apply` functions, parallel computing, and progress bars\n",
        "\n",
        "We can sometimes speed up the computations performed by an `*apply`\n",
        "function using parallel processing (processing multiple tasks *in\n",
        "parallel* instead of one-at-a-time).\n",
        "\n",
        "Parallel processing is particularly helpful with using `lapply`,\n",
        "`sapply`, or `vapply` to perform complex analysis on a sequence of\n",
        "simulated data sets. The analysis can be performed on each simulated\n",
        "data set separately, which means the operation can be parallelized.\n",
        "\n",
        "We provide small examples to illustrate the advantages of parallel\n",
        "computing when using `*apply` functions.\n",
        "\n",
        "We start by creating a simple function, `sleep_iterator`.\n",
        "\n",
        "-   The function takes the argument `i`, which is not used in the\n",
        "    function, so that it is compatible with the `lapply` function.\n",
        "-   Inside the function, we use `Sys.sleep(1)` to pause for one second.\n",
        "-   We have the function return `NULL`.\n",
        "\n",
        "We define `sleep_iterator` below."
      ],
      "id": "33fc2cf4-8c7d-47c1-91a4-24780ae2ef50"
    },
    {
      "cell_type": "code",
      "execution_count": 81,
      "metadata": {},
      "outputs": [],
      "source": [
        "sleep_iterator <- function(i) {\n",
        "  Sys.sleep(1) # sleep for 1 second\n",
        "  return(NULL) # return NULL\n",
        "}"
      ],
      "id": "517d1ac6"
    },
    {
      "cell_type": "markdown",
      "metadata": {},
      "source": [
        "Next, we use the `lapply` function to run `sleep_iterator` 6 times.\n",
        "\n",
        "-   `lapply` will run `sleep_iterator` for `i = 1`, `2`, `...`, `6`.\n",
        "-   We time the operations performed by `lapply` using `system.time`.\n",
        "\n",
        "Unsurprisingly, applying `sleep_iterator` six times results in an\n",
        "elapsed time of about 6 seconds since we pause for 1 second for each of\n",
        "the six values of `i`."
      ],
      "id": "d1b1fde1-1ace-4600-92ea-3a6faca3fb71"
    },
    {
      "cell_type": "code",
      "execution_count": 82,
      "metadata": {},
      "outputs": [],
      "source": [
        "system.time(lapply(1:6, sleep_iterator))"
      ],
      "id": "269ca7a4"
    },
    {
      "cell_type": "markdown",
      "metadata": {},
      "source": [
        "The **parallel** package (R Core Team 2022) provides parallelized\n",
        "equivalents of several `*apply` functions.\n",
        "\n",
        "-   `parApply` is a parallelized version of `apply`.\n",
        "-   `parLapply` is a parallized version of `lapply`.\n",
        "-   `parSapply` is a parallized version of `sapply`.\n",
        "\n",
        "Run `?parallel::clusterApply` to see additional details about these and\n",
        "related parallelized functions.\n",
        "\n",
        "We load the **parallel** package."
      ],
      "id": "6ade4a2b-78ce-4c42-80e0-b269442b1a67"
    },
    {
      "cell_type": "code",
      "execution_count": 83,
      "metadata": {},
      "outputs": [],
      "source": [
        "library(parallel)"
      ],
      "id": "fe3c2b1a"
    },
    {
      "cell_type": "markdown",
      "metadata": {},
      "source": [
        "The available options and behavior for performing parallel processing\n",
        "depends on our computer’s operating system. In general, it is easier to\n",
        "perform parallel computing on Macs and Linux computers. Windows\n",
        "computers cannot run forked processes through R.\n",
        "\n",
        "We want to use `parLapply` to run `sleep_iterator` 6 times using\n",
        "parallel processing.\n",
        "\n",
        "The primary arguments of `parLapply` are:\n",
        "\n",
        "-   `cl`: a cluster object returned by the `makeCluster` function that\n",
        "    defines how the processes will be run in parallel.\n",
        "-   `X`: the atomic vector or list to be iterated over.\n",
        "-   `fun`: the function to be applied to each element of `X`.\n",
        "-   `...`: additional arguments to be passed to `fun`.\n",
        "\n",
        "We use `makeCluster` to setup a parallel processing approach that runs 2\n",
        "processes in parallel. The code is supposed to be general enough that it\n",
        "will work on Windows, Mac, or Linux computers."
      ],
      "id": "2b96cbf8-2486-4974-839c-c23e1a92b43c"
    },
    {
      "cell_type": "code",
      "execution_count": 84,
      "metadata": {},
      "outputs": [],
      "source": [
        "cl <- makeCluster(getOption(\"cl.cores\", 2))"
      ],
      "id": "93eb78a0"
    },
    {
      "cell_type": "markdown",
      "metadata": {},
      "source": [
        "We once again use `system.time` to time how long it takes to run\n",
        "`sleep_iterator` 6 times."
      ],
      "id": "3d0b01a6-59d0-4e7c-b7b9-1a5768ba6122"
    },
    {
      "cell_type": "code",
      "execution_count": 85,
      "metadata": {},
      "outputs": [],
      "source": [
        "system.time(parLapply(cl, 1:6, sleep_iterator))"
      ],
      "id": "cd974a5d"
    },
    {
      "cell_type": "markdown",
      "metadata": {},
      "source": [
        "Since we are running `sleep_iterator` in parallel using 2 processes, it\n",
        "only takes about 3 seconds to complete our computations instead of the\n",
        "original 6 seconds!\n",
        "\n",
        "The **future.apply** package (Bengtsson 2023b) provides parallelized\n",
        "implementations of several `*apply` functions. The advantage of the\n",
        "**future.apply** package is that code can be created that generalizes\n",
        "from being “evaluated on the local machine, in parallel a set of local\n",
        "machines, or distributed on a mix of local and remote machines”\n",
        "Bengtsson (2021).\n",
        "\n",
        "We start by loading the **future.apply** package."
      ],
      "id": "48a3ce5f-1553-480f-bd65-dfb351c3c3a1"
    },
    {
      "cell_type": "code",
      "execution_count": 86,
      "metadata": {},
      "outputs": [],
      "source": [
        "library(future.apply)"
      ],
      "id": "7dd5d1c1"
    },
    {
      "cell_type": "markdown",
      "metadata": {},
      "source": [
        "To perform a parallelized operation using **future.apply**, we must use\n",
        "the `plan` function to describe how we want the parallel processing to\n",
        "be performed.\n",
        "\n",
        "The code below sets up a plan to run 2 processes in parallel using a\n",
        "`\"multisession\"` approach. Run `future::plan` in the Console for more\n",
        "details."
      ],
      "id": "3965ff0d-a832-4f99-9fb3-4b3921877074"
    },
    {
      "cell_type": "code",
      "execution_count": 87,
      "metadata": {},
      "outputs": [],
      "source": [
        "plan(multisession, workers = 2)"
      ],
      "id": "9f625c3d"
    },
    {
      "cell_type": "markdown",
      "metadata": {},
      "source": [
        "Finally, we use the `future_lapply` function to run the `sleep_iterator`\n",
        "function 6 times. The function works identically to the `lapply`\n",
        "function, but uses the parallelization plan to speed up the\n",
        "computations. Similar to before, it only takes about 3 seconds to run\n",
        "the `sleep_iterator` function 6 times because we are running two\n",
        "processes in parallel."
      ],
      "id": "86f241f3-b4e4-452b-990f-e87265a64fdb"
    },
    {
      "cell_type": "code",
      "execution_count": 88,
      "metadata": {},
      "outputs": [],
      "source": [
        "system.time(future_lapply(1:6, FUN = sleep_iterator))"
      ],
      "id": "47ec7e4d"
    },
    {
      "cell_type": "markdown",
      "metadata": {},
      "source": [
        "When an `*apply` function takes a long time to return its results, it\n",
        "can be nice to have a progress bar to assess how long the computations\n",
        "will take.\n",
        "\n",
        "The **pbapply** package (Solymos and Zawadzki 2023) creates equivalents\n",
        "of many `*apply` functions that add progress bars showing the time\n",
        "remaining to complete the computation.\n",
        "\n",
        "-   Many of these functions are equipped to use parallel processing\n",
        "    through the **parallel** package. We must set the `cl` argument with\n",
        "    a `makeCluster` object to use this functionality.\n",
        "-   Run `?pbapply::pbapply` in the Console for a complete list of\n",
        "    available functions.\n",
        "\n",
        "We start by loading the **pbapply** package."
      ],
      "id": "0c479dd4-8ea4-4156-a09d-8a2978f391da"
    },
    {
      "cell_type": "code",
      "execution_count": 89,
      "metadata": {},
      "outputs": [],
      "source": [
        "library(pbapply)"
      ],
      "id": "f436ea8a"
    },
    {
      "cell_type": "markdown",
      "metadata": {},
      "source": [
        "The `pblapply` function is an equivalent of `lapply` that includes a\n",
        "progress bar. We can provide a cluster object from the `makeCluster`\n",
        "function to perform the computations in parallel.\n",
        "\n",
        "We use `pblapply` to run `sleep_iterator` 6 times. We use the previously\n",
        "created cluster object, `cl`, which runs 2 processes in parallel.\n",
        "Similar to before, our code runs in about 3 seconds while also showing a\n",
        "progress bar. (We need to run this code interactively to see this\n",
        "progress bar.)"
      ],
      "id": "97f35dac-ce19-4cb9-b205-47e2ebcbd905"
    },
    {
      "cell_type": "code",
      "execution_count": 90,
      "metadata": {},
      "outputs": [],
      "source": [
        "system.time(pblapply(1:6, FUN = sleep_iterator, cl = cl))"
      ],
      "id": "e0788c55"
    },
    {
      "cell_type": "markdown",
      "metadata": {},
      "source": [
        "# References\n",
        "\n",
        "Bengtsson, Henrik. 2021. “A Unifying Framework for Parallel and\n",
        "Distributed Processing in r Using Futures.” *The R Journal* 13 (2):\n",
        "208–27. <https://doi.org/10.32614/RJ-2021-048>.\n",
        "\n",
        "———. 2023a. *Future: Unified Parallel and Distributed Processing in r\n",
        "for Everyone*. <https://CRAN.R-project.org/package=future>.\n",
        "\n",
        "———. 2023b. *Future.apply: Apply Function to Elements in Parallel Using\n",
        "Futures*. <https://CRAN.R-project.org/package=future.apply>.\n",
        "\n",
        "Mersmann, Olaf. 2023. *Microbenchmark: Accurate Timing Functions*.\n",
        "<https://github.com/joshuaulrich/microbenchmark/>.\n",
        "\n",
        "R Core Team. 2022. *R: A Language and Environment for Statistical\n",
        "Computing*. Vienna, Austria: R Foundation for Statistical Computing.\n",
        "<https://www.R-project.org/>.\n",
        "\n",
        "Solymos, Peter, and Zygmunt Zawadzki. 2023. *Pbapply: Adding Progress\n",
        "Bar to \\*Apply Functions*. <https://github.com/psolymos/pbapply>."
      ],
      "id": "ffafab5b-c6f0-4f2c-b3bc-db1da3a2adc0"
    }
  ],
  "nbformat": 4,
  "nbformat_minor": 5,
  "metadata": {
    "kernelspec": {
      "name": "ir",
      "display_name": "R",
      "language": "R"
    },
    "language_info": {
      "name": "R",
      "codemirror_mode": "r",
      "file_extension": ".r",
      "mimetype": "text/x-r-source",
      "pygments_lexer": "r",
      "version": "4.2.2"
    }
  }
}